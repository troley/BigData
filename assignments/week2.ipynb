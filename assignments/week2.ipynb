{
 "cells": [
  {
   "cell_type": "markdown",
   "metadata": {},
   "source": [
    "Create an RDD named `products` with `parallelize` containing the elements in the output."
   ]
  },
  {
   "cell_type": "code",
   "execution_count": 2,
   "metadata": {
    "collapsed": false
   },
   "outputs": [
    {
     "name": "stdout",
     "output_type": "stream",
     "text": [
      "['Apple', 'Apple', 'Cheese', 'Apple', 'Orange']\n"
     ]
    }
   ],
   "source": [
    "products = sc.parallelize(['Apple', 'Apple', 'Cheese', 'Apple', 'Orange'])\n",
    "print(products.collect())"
   ]
  },
  {
   "cell_type": "markdown",
   "metadata": {},
   "source": [
    "Count the number of elements in `products`"
   ]
  },
  {
   "cell_type": "code",
   "execution_count": 4,
   "metadata": {
    "collapsed": false
   },
   "outputs": [
    {
     "data": {
      "text/plain": [
       "5"
      ]
     },
     "execution_count": 4,
     "metadata": {},
     "output_type": "execute_result"
    }
   ],
   "source": [
    "products.count()"
   ]
  },
  {
   "cell_type": "markdown",
   "metadata": {},
   "source": [
    "Count the number of apples in `products`. Tip: use filter."
   ]
  },
  {
   "cell_type": "code",
   "execution_count": 3,
   "metadata": {
    "collapsed": false,
    "scrolled": true
   },
   "outputs": [
    {
     "name": "stdout",
     "output_type": "stream",
     "text": [
      "['Apple', 'Apple', 'Apple']\n"
     ]
    }
   ],
   "source": [
    "apples = products.filter(lambda x: x == 'Apple')\n",
    "print(apples.collect())"
   ]
  },
  {
   "cell_type": "markdown",
   "metadata": {},
   "source": [
    "show the (distinct) products."
   ]
  },
  {
   "cell_type": "code",
   "execution_count": 4,
   "metadata": {
    "collapsed": false
   },
   "outputs": [
    {
     "name": "stdout",
     "output_type": "stream",
     "text": [
      "['Orange', 'Cheese', 'Apple']\n"
     ]
    }
   ],
   "source": [
    "dist = products.distinct()\n",
    "print(dist.collect())"
   ]
  },
  {
   "cell_type": "markdown",
   "metadata": {},
   "source": [
    "Download the file babynames from https://health.data.ny.gov/api/views/jxy9-yhdk/rows.csv?accessType=DOWNLOAD, store the file locally and load its contents into a RDD called `babynames` with textFile. Show the first 5 lines."
   ]
  },
  {
   "cell_type": "code",
   "execution_count": 3,
   "metadata": {
    "collapsed": false
   },
   "outputs": [
    {
     "name": "stdout",
     "output_type": "stream",
     "text": [
      "['Year,First Name,County,Sex,Count', '2013,GAVIN,ST LAWRENCE,M,9', '2013,LEVI,ST LAWRENCE,M,9', '2013,LOGAN,NEW YORK,M,44', '2013,HUDSON,NEW YORK,M,49']\n"
     ]
    }
   ],
   "source": [
    "names = sc.textFile('../tutorials/data/babynames.csv')\n",
    "print(names.take(5))"
   ]
  },
  {
   "cell_type": "markdown",
   "metadata": {},
   "source": [
    "The first line in the file is a header, filter out the first line to keep only lines with actual data."
   ]
  },
  {
   "cell_type": "code",
   "execution_count": 57,
   "metadata": {
    "collapsed": false,
    "scrolled": true
   },
   "outputs": [
    {
     "name": "stdout",
     "output_type": "stream",
     "text": [
      "('2013,GAVIN,ST LAWRENCE,M,9', '2013,LEVI,ST LAWRENCE,M,9', '2013,LOGAN,NEW YORK,M,44', '2013,HUDSON,NEW YORK,M,49', '2013,GABRIEL,NEW YORK,M,50')\n"
     ]
    }
   ],
   "source": [
    "firstline = names.first()\n",
    "filtered_names = names.filter(lambda x: x != firstline)\n",
    "print(filtered_names.take(5))"
   ]
  },
  {
   "cell_type": "markdown",
   "metadata": {},
   "source": [
    "The elements in this RDD are each a line of text. Transform each element into a tuple or list that consists of the 5 columns in the csv by splitting the lines on comma characters. Show the first 5. Tip: you need `map` and the `split` method on Python Strings."
   ]
  },
  {
   "cell_type": "code",
   "execution_count": 76,
   "metadata": {
    "collapsed": false
   },
   "outputs": [
    {
     "name": "stdout",
     "output_type": "stream",
     "text": [
      "[('2013', 'GAVIN', 'ST LAWRENCE', 'M', '9'), ('2013', 'LEVI', 'ST LAWRENCE', 'M', '9'), ('2013', 'LOGAN', 'NEW YORK', 'M', '44'), ('2013', 'HUDSON', 'NEW YORK', 'M', '49'), ('2013', 'GABRIEL', 'NEW YORK', 'M', '50')]\n"
     ]
    }
   ],
   "source": [
    "name_tuples = filtered_names.map(lambda x: tuple(x.split(',')))\n",
    "print(name_tuples.take(5))"
   ]
  },
  {
   "cell_type": "markdown",
   "metadata": {},
   "source": [
    "Count how many male babies are in the RDD."
   ]
  },
  {
   "cell_type": "code",
   "execution_count": 84,
   "metadata": {
    "collapsed": false
   },
   "outputs": [
    {
     "name": "stdout",
     "output_type": "stream",
     "text": [
      "27622\n"
     ]
    }
   ],
   "source": [
    "m = name_tuples.filter(lambda x: x[3] == 'M')\n",
    "print(m.count())"
   ]
  },
  {
   "cell_type": "markdown",
   "metadata": {},
   "source": [
    "The next objective is to find the most given babyname.\n",
    "\n",
    "First, convert the RDD into a key,value structure. Since we do not need anything but the name, we can convert every element into (name, 1). Show the first 5."
   ]
  },
  {
   "cell_type": "code",
   "execution_count": 87,
   "metadata": {
    "collapsed": false
   },
   "outputs": [
    {
     "name": "stdout",
     "output_type": "stream",
     "text": [
      "[('GAVIN', 1), ('LEVI', 1), ('LOGAN', 1), ('HUDSON', 1), ('GABRIEL', 1)]\n"
     ]
    }
   ],
   "source": [
    "keyvalue = name_tuples.map(lambda x: (x[1], 1))\n",
    "print(keyvalue.take(5))"
   ]
  },
  {
   "cell_type": "markdown",
   "metadata": {},
   "source": [
    "Now you can aggregate the elements that have the same key, and sum the values to get the number of occurrences per name. Show the first 5, these might be different ones than displayed below. Tip: use `reduceByKey`"
   ]
  },
  {
   "cell_type": "code",
   "execution_count": 103,
   "metadata": {
    "collapsed": false
   },
   "outputs": [
    {
     "name": "stdout",
     "output_type": "stream",
     "text": [
      "rene5\n"
     ]
    }
   ],
   "source": [
    "reduced = keyvalue.reduceByKey(lambda x,y: x + y)\n",
    "print(reduced.take(5))"
   ]
  },
  {
   "cell_type": "markdown",
   "metadata": {},
   "source": [
    "Now `map` the name,frequency pairs so that you only have the values and use the `max` action to get the highest value."
   ]
  },
  {
   "cell_type": "code",
   "execution_count": 111,
   "metadata": {
    "collapsed": false
   },
   "outputs": [
    {
     "name": "stdout",
     "output_type": "stream",
     "text": [
      "322\n"
     ]
    }
   ],
   "source": [
    "maxcount = reduced.map(lambda x: x[1]).max()\n",
    "print(maxcount)"
   ]
  },
  {
   "cell_type": "markdown",
   "metadata": {},
   "source": [
    "And revert back to the name,frequency pairs and filter the pair(s) that have a frequency equal to the max you found."
   ]
  },
  {
   "cell_type": "code",
   "execution_count": 112,
   "metadata": {
    "collapsed": false
   },
   "outputs": [
    {
     "name": "stdout",
     "output_type": "stream",
     "text": [
      "PythonRDD[92] at RDD at PythonRDD.scala:48\n"
     ]
    }
   ],
   "source": [
    "samefreq = reduced.map(lambda x,y: (x, y == maxcount))\n",
    "print(samefreq)"
   ]
  },
  {
   "cell_type": "code",
   "execution_count": null,
   "metadata": {
    "collapsed": true
   },
   "outputs": [],
   "source": []
  }
 ],
 "metadata": {
  "kernelspec": {
   "display_name": "Python 3",
   "language": "python",
   "name": "python3"
  },
  "language_info": {
   "codemirror_mode": {
    "name": "ipython",
    "version": 3
   },
   "file_extension": ".py",
   "mimetype": "text/x-python",
   "name": "python",
   "nbconvert_exporter": "python",
   "pygments_lexer": "ipython3",
   "version": "3.5.2"
  }
 },
 "nbformat": 4,
 "nbformat_minor": 0
}
