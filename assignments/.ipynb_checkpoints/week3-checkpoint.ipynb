{
 "cells": [
  {
   "cell_type": "markdown",
   "metadata": {},
   "source": [
    "This week we are going to join data. We will use cleaned version of data that comes from gapminder.org. We will use two files, income.csv that contains a 2D matrix with the average income (estimated as the GPD/capita) per country per year, and lifeexpectancy.csv that contains a 2D matrix with the life expectancy from birth (in years) per country per year. Since 2D matrices are a bit different, we will show how to preprocess one, and let you convert the second.\n",
    "\n",
    "convert both files to a list using the instructions in tutorial/12-csv2DtoList."
   ]
  },
  {
   "cell_type": "code",
   "execution_count": 27,
   "metadata": {
    "collapsed": false
   },
   "outputs": [],
   "source": [
    "filename = 'data/income.csv'\n",
    "income2d = sc.textFile(filename)\n",
    "income2dheader = income2d.first()\n",
    "\n",
    "def splitkey(x):\n",
    "    s = x.split(',')\n",
    "    return (s[0], s[1:])\n",
    "\n",
    "income2d = income2d.map(splitkey)\n",
    "\n",
    "header = income2d.first()\n",
    "income2d = income2d.filter(lambda x: x != header)\n",
    "years = header[1]\n",
    "years[:5]\n",
    "\n",
    "income = income2d.flatMap(lambda x: list(zip([x[0]] * len(years), years, x[1])))\n",
    "income = income.map(lambda x: (x[0], x[1], None if x[2] == '' else float(x[2])))"
   ]
  },
  {
   "cell_type": "code",
   "execution_count": 28,
   "metadata": {
    "collapsed": false
   },
   "outputs": [
    {
     "data": {
      "text/plain": [
       "[('Abkhazia', '1800', None),\n",
       " ('Abkhazia', '1801', None),\n",
       " ('Abkhazia', '1802', None),\n",
       " ('Abkhazia', '1803', None),\n",
       " ('Abkhazia', '1804', None)]"
      ]
     },
     "execution_count": 28,
     "metadata": {},
     "output_type": "execute_result"
    }
   ],
   "source": [
    "income.take(5)"
   ]
  },
  {
   "cell_type": "code",
   "execution_count": 29,
   "metadata": {
    "collapsed": false
   },
   "outputs": [],
   "source": [
    "filename = 'data/lifeexpectancy.csv'\n",
    "lifeexpect2d = sc.textFile(filename)\n",
    "lifeexpect2d = lifeexpect2d.map(splitkey)\n",
    "header = lifeexpect2d.first()\n",
    "lifeexpect2d = lifeexpect2d.filter(lambda x: x != header)\n",
    "years = header[1]\n",
    "lifeexpect = lifeexpect2d.flatMap(lambda x: list(zip([x[0]] * len(years), years, x[1])))\n",
    "lifeexpect = lifeexpect.map(lambda x: (x[0], x[1], None if x[2] == '' else float(x[2])))"
   ]
  },
  {
   "cell_type": "code",
   "execution_count": 30,
   "metadata": {
    "collapsed": false
   },
   "outputs": [
    {
     "data": {
      "text/plain": [
       "[('Abkhazia', '1800', None),\n",
       " ('Abkhazia', '1801', None),\n",
       " ('Abkhazia', '1802', None),\n",
       " ('Abkhazia', '1803', None),\n",
       " ('Abkhazia', '1804', None)]"
      ]
     },
     "execution_count": 30,
     "metadata": {},
     "output_type": "execute_result"
    }
   ],
   "source": [
    "lifeexpect.take(5)"
   ]
  },
  {
   "cell_type": "markdown",
   "metadata": {},
   "source": [
    "Show the country with the highest life expectancy in 2015. You can you `top` to get the top 5."
   ]
  },
  {
   "cell_type": "code",
   "execution_count": 48,
   "metadata": {
    "collapsed": false
   },
   "outputs": [
    {
     "data": {
      "text/plain": [
       "[('Andorra', '2015', 84.8),\n",
       " ('Hong Kong', '2015', 83.73),\n",
       " ('Iceland', '2015', 83.3),\n",
       " ('Japan', '2015', 83.2),\n",
       " ('Switzerland', '2015', 83.0)]"
      ]
     },
     "execution_count": 48,
     "metadata": {},
     "output_type": "execute_result"
    }
   ],
   "source": [
    "l = lifeexpect.filter(lambda x: x[1] == '2015' and x[2] is not None)\n",
    "highestlife = l.top(5, lambda x: x[2])\n",
    "highestlife"
   ]
  },
  {
   "cell_type": "markdown",
   "metadata": {},
   "source": [
    "Show the 5 countries with the highest average income in 2015."
   ]
  },
  {
   "cell_type": "code",
   "execution_count": 44,
   "metadata": {
    "collapsed": false
   },
   "outputs": [
    {
     "data": {
      "text/plain": [
       "[('Macao', '2015', 148374.0),\n",
       " ('Qatar', '2015', 132877.0),\n",
       " ('Luxembourg', '2015', 88314.0),\n",
       " ('Kuwait', '2015', 82633.0),\n",
       " ('Singapore', '2015', 80794.0)]"
      ]
     },
     "execution_count": 44,
     "metadata": {},
     "output_type": "execute_result"
    }
   ],
   "source": [
    "inc = income.filter(lambda x: x[1] == '2015' and x[2] is not None)\n",
    "highestinc = inc.top(5, lambda x: x[2])\n",
    "highestinc"
   ]
  },
  {
   "cell_type": "code",
   "execution_count": null,
   "metadata": {
    "collapsed": true
   },
   "outputs": [],
   "source": []
  }
 ],
 "metadata": {
  "kernelspec": {
   "display_name": "Python 3",
   "language": "python",
   "name": "python3"
  },
  "language_info": {
   "codemirror_mode": {
    "name": "ipython",
    "version": 3
   },
   "file_extension": ".py",
   "mimetype": "text/x-python",
   "name": "python",
   "nbconvert_exporter": "python",
   "pygments_lexer": "ipython3",
   "version": "3.5.2"
  }
 },
 "nbformat": 4,
 "nbformat_minor": 0
}
