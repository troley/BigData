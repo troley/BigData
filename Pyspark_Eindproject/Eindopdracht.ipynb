{
 "cells": [
  {
   "cell_type": "markdown",
   "metadata": {
    "collapsed": true
   },
   "source": [
    "Haal gebruikers op die films hebben gerate. Er ontstaat een RDD[(userId, movieId, rating)]."
   ]
  },
  {
   "cell_type": "code",
   "execution_count": 21,
   "metadata": {
    "collapsed": false,
    "scrolled": true
   },
   "outputs": [
    {
     "data": {
      "text/plain": [
       "[('11973', '11', '3.0'),\n",
       " ('11973', '14', '4.0'),\n",
       " ('11973', '32', '2.0'),\n",
       " ('11973', '36', '3.0'),\n",
       " ('11973', '110', '5.0')]"
      ]
     },
     "execution_count": 21,
     "metadata": {},
     "output_type": "execute_result"
    }
   ],
   "source": [
    "userdata = sc.textFile(\"../../../schooldata/nieuw/ratings_train.csv\")\n",
    "\n",
    "firstline = userdata.first()\n",
    "userdata = userdata.filter(lambda x: x != firstline)\n",
    "\n",
    "data_normalized = userdata.map(lambda x: x.split(\"::\"))\n",
    "user_mov_rating = data_normalized.map(lambda x: (x[0], x[1], x[2])).cache()\n",
    "\n",
    "user_mov_rating.take(5)"
   ]
  },
  {
   "cell_type": "markdown",
   "metadata": {},
   "source": [
    "Haal films op uit de database en map ze in een RDD zodat er een RDD[(movieId, title)] ontstaat."
   ]
  },
  {
   "cell_type": "code",
   "execution_count": 4,
   "metadata": {
    "collapsed": false
   },
   "outputs": [
    {
     "data": {
      "text/plain": [
       "[('1', 'Toy Story (1995)'),\n",
       " ('2', 'Jumanji (1995)'),\n",
       " ('3', 'Grumpier Old Men (1995)'),\n",
       " ('4', 'Waiting to Exhale (1995)'),\n",
       " ('5', 'Father of the Bride Part II (1995)')]"
      ]
     },
     "execution_count": 4,
     "metadata": {},
     "output_type": "execute_result"
    }
   ],
   "source": [
    "moviedata = sc.textFile(\"../../../schooldata/nieuw/movies.csv\")\n",
    "\n",
    "firstline = moviedata.first()\n",
    "movies_normalized = moviedata.filter(lambda x: x != firstline)\\\n",
    ".map(lambda x: x.split(','))\n",
    "\n",
    "mov_id_name = movies_normalized.map(lambda x: (x[0], x[1])).cache()\n",
    "\n",
    "mov_id_name.take(5)"
   ]
  },
  {
   "cell_type": "markdown",
   "metadata": {},
   "source": [
    "Initialiseer de benodigde ALS parameters en laat ALS trainen. Vervolgens een voorspelde lijst in predictions stoppen, die we laten joinen met de test data split."
   ]
  },
  {
   "cell_type": "code",
   "execution_count": 38,
   "metadata": {
    "collapsed": false
   },
   "outputs": [
    {
     "name": "stdout",
     "output_type": "stream",
     "text": [
      "Met rank 10 is de RMSE: 0.8181872349401217\n"
     ]
    }
   ],
   "source": [
    "from pyspark.mllib.recommendation import ALS\n",
    "import math\n",
    "\n",
    "# cast user_mov_rating tuple values ((int, int) float).\n",
    "every_rating = user_mov_rating.map(lambda x: (int(x[0]), int(x[1]), float(x[2]))).cache()\n",
    "\n",
    "# verdeel rdd data 7/totaal in cls en 3/totaal in test.\n",
    "cls, test = every_rating.randomSplit([7, 3], seed=None)\n",
    "\n",
    "# laat ALS het cls rdd trainen.\n",
    "trained_prototype = ALS.train(cls, rank = 10, seed = 5, iterations = 5, lambda_ = 0.01)\n",
    "\n",
    "test_predictions = test.map(lambda x: (x[0], x[1]))\n",
    "\n",
    "# de rating wordt voorspeld voor userId en movieId door het getrainde ALS prototype \n",
    "# en word gemapt als ((userId, movieId), rating).\n",
    "predictions = trained_prototype.predictAll(test_predictions)\\\n",
    ".map(lambda x: ((x[0], x[1]), x[2]))\n",
    "\n",
    "# de test rdd joint de predictions rdd en dan krijgen we ((userId, movieId), (rating, rating)).\n",
    "rnp = test.map(lambda x: ((int(x[0]), int(x[1])), float(x[2])))\\\n",
    ".join(predictions)\n",
    "\n",
    "# bereken de Root Mean Square Deviation bij de rnp data.\n",
    "error = math.sqrt(rnp.map(lambda x: (x[1][0] - x[1][1])**2).mean())\n",
    "\n",
    "print('Met rank %s is de RMSE: %s' % (rank, error))"
   ]
  },
  {
   "cell_type": "code",
   "execution_count": 39,
   "metadata": {
    "collapsed": false
   },
   "outputs": [
    {
     "data": {
      "text/plain": [
       "[((18624, 71448), 4.377309603487989),\n",
       " ((18624, 2528), 3.1917373043772908),\n",
       " ((18624, 1232), 4.22055941615261),\n",
       " ((18624, 1208), 4.585495656979816),\n",
       " ((18624, 4641), 3.775603885951872)]"
      ]
     },
     "execution_count": 39,
     "metadata": {},
     "output_type": "execute_result"
    }
   ],
   "source": [
    "predictions.take(5)"
   ]
  },
  {
   "cell_type": "code",
   "execution_count": 40,
   "metadata": {
    "collapsed": false
   },
   "outputs": [
    {
     "data": {
      "text/plain": [
       "[((73378, 647), (3.0, 3.2620855157585034)),\n",
       " ((74565, 457), (3.0, 3.6568727354560835)),\n",
       " ((41368, 5459), (1.5, 2.57529339406996)),\n",
       " ((3157, 40815), (1.0, 3.5766695054816955)),\n",
       " ((122862, 7445), (4.0, 4.1170104414178255))]"
      ]
     },
     "execution_count": 40,
     "metadata": {},
     "output_type": "execute_result"
    }
   ],
   "source": [
    "rnp.take(5)"
   ]
  },
  {
   "cell_type": "markdown",
   "metadata": {},
   "source": [
    "Werk het movie aanbevelingsalgoritme uit, zodat users die bepaalde movies nog niet gezienheb"
   ]
  }
 ],
 "metadata": {
  "kernelspec": {
   "display_name": "Python 3",
   "language": "python",
   "name": "python3"
  },
  "language_info": {
   "codemirror_mode": {
    "name": "ipython",
    "version": 3
   },
   "file_extension": ".py",
   "mimetype": "text/x-python",
   "name": "python",
   "nbconvert_exporter": "python",
   "pygments_lexer": "ipython3",
   "version": "3.5.2"
  }
 },
 "nbformat": 4,
 "nbformat_minor": 2
}
