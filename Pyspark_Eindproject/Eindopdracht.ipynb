{
 "cells": [
  {
   "cell_type": "markdown",
   "metadata": {
    "collapsed": true
   },
   "source": [
    "Haal gebruikers op die films hebben gerate. Er ontstaat een RDD[(userId, movieId, rating)]."
   ]
  },
  {
   "cell_type": "code",
   "execution_count": 101,
   "metadata": {
    "collapsed": false,
    "scrolled": true
   },
   "outputs": [
    {
     "data": {
      "text/plain": [
       "[(11973, 11, 3.0),\n",
       " (11973, 14, 4.0),\n",
       " (11973, 32, 2.0),\n",
       " (11973, 36, 3.0),\n",
       " (11973, 110, 5.0)]"
      ]
     },
     "execution_count": 101,
     "metadata": {},
     "output_type": "execute_result"
    }
   ],
   "source": [
    "userdata = sc.textFile(\"../../../schooldata/nieuw/ratings_train.csv\")\n",
    "\n",
    "firstline = userdata.first()\n",
    "userdata = userdata.filter(lambda x: x != firstline)\n",
    "\n",
    "data_normalized = userdata.map(lambda x: x.split(\"::\"))\n",
    "user_mov_rating = data_normalized.map(lambda x: (int(x[0]), int(x[1]), float(x[2]))).cache()\n",
    "\n",
    "user_mov_rating.take(5)"
   ]
  },
  {
   "cell_type": "markdown",
   "metadata": {},
   "source": [
    "Haal films op uit de database en map ze in een RDD zodat er een RDD[(movieId, title)] ontstaat."
   ]
  },
  {
   "cell_type": "code",
   "execution_count": 4,
   "metadata": {
    "collapsed": false
   },
   "outputs": [
    {
     "data": {
      "text/plain": [
       "[('1', 'Toy Story (1995)'),\n",
       " ('2', 'Jumanji (1995)'),\n",
       " ('3', 'Grumpier Old Men (1995)'),\n",
       " ('4', 'Waiting to Exhale (1995)'),\n",
       " ('5', 'Father of the Bride Part II (1995)')]"
      ]
     },
     "execution_count": 4,
     "metadata": {},
     "output_type": "execute_result"
    }
   ],
   "source": [
    "moviedata = sc.textFile(\"../../../schooldata/nieuw/movies.csv\")\n",
    "\n",
    "firstline = moviedata.first()\n",
    "movies_normalized = moviedata.filter(lambda x: x != firstline)\\\n",
    ".map(lambda x: x.split(','))\n",
    "\n",
    "mov_id_name = movies_normalized.map(lambda x: (x[0], x[1])).cache()\n",
    "\n",
    "mov_id_name.take(5)"
   ]
  },
  {
   "cell_type": "markdown",
   "metadata": {},
   "source": [
    "Initialiseer de benodigde ALS parameters en laat ALS trainen. Vervolgens een voorspelde lijst in predictions stoppen, die we laten joinen met de test data split."
   ]
  },
  {
   "cell_type": "code",
   "execution_count": 120,
   "metadata": {
    "collapsed": false,
    "scrolled": true
   },
   "outputs": [
    {
     "name": "stdout",
     "output_type": "stream",
     "text": [
      "Met rank 10 is de RMSE: 0.8202497107829302\n"
     ]
    }
   ],
   "source": [
    "from pyspark.mllib.recommendation import ALS\n",
    "import math\n",
    "\n",
    "# verdeel rdd data 60% cls, 20% validatie en 20% tests\n",
    "cls, validation, test = every_rating.randomSplit([6, 2, 2], seed=None)\n",
    "\n",
    "# laat ALS op het cls rdd trainen.\n",
    "trained_prototype = ALS.train(cls, rank = 8, seed = 5, iterations = 10, lambda_ = 0.01)\n",
    "\n",
    "test_predictions = test.map(lambda x: (x[0], x[1]))\n",
    "\n",
    "# de rating wordt voorspeld voor userId en movieId door het getrainde ALS prototype \n",
    "# en word gemapt als ((userId, movieId), rating).\n",
    "predictions = trained_prototype.predictAll(test_predictions)\\\n",
    ".map(lambda x: ((x[0], x[1]), x[2]))\n",
    "\n",
    "# de test rdd joint de predictions rdd en dan krijgen we ((userId, movieId), (rating, rating)).\n",
    "rnp = test.map(lambda x: ((int(x[0]), int(x[1])), float(x[2])))\\\n",
    ".join(predictions)\n",
    "\n",
    "computable_rnp = rnp.map(lambda x: (x[1][0] - x[1][1])**2)\n",
    "\n",
    "# bereken de Root Mean Square Error bij de rnp data.\n",
    "error = math.sqrt(computable_rnp.mean())\n",
    "\n",
    "print('Met rank %s is de RMSE: %s' % (rank, error))"
   ]
  },
  {
   "cell_type": "code",
   "execution_count": 119,
   "metadata": {
    "collapsed": false
   },
   "outputs": [
    {
     "ename": "AttributeError",
     "evalue": "'list' object has no attribute 'filter'",
     "output_type": "error",
     "traceback": [
      "\u001b[0;31m---------------------------------------------------------------------------\u001b[0m",
      "\u001b[0;31mAttributeError\u001b[0m                            Traceback (most recent call last)",
      "\u001b[0;32m<ipython-input-119-3cc6a1e14748>\u001b[0m in \u001b[0;36m<module>\u001b[0;34m()\u001b[0m\n\u001b[0;32m----> 1\u001b[0;31m \u001b[0mpredictions\u001b[0m\u001b[1;33m.\u001b[0m\u001b[0mfilter\u001b[0m\u001b[1;33m(\u001b[0m\u001b[1;32mlambda\u001b[0m \u001b[0mx\u001b[0m\u001b[1;33m:\u001b[0m \u001b[0mx\u001b[0m\u001b[1;33m[\u001b[0m\u001b[1;36m1\u001b[0m\u001b[1;33m]\u001b[0m \u001b[1;33m>\u001b[0m \u001b[1;36m4\u001b[0m\u001b[1;33m)\u001b[0m\u001b[1;33m.\u001b[0m\u001b[0mtakeOrdered\u001b[0m\u001b[1;33m(\u001b[0m\u001b[1;36m20\u001b[0m\u001b[1;33m,\u001b[0m \u001b[0mkey\u001b[0m\u001b[1;33m=\u001b[0m\u001b[1;32mlambda\u001b[0m \u001b[0mx\u001b[0m\u001b[1;33m:\u001b[0m \u001b[0mx\u001b[0m\u001b[1;33m[\u001b[0m\u001b[1;36m0\u001b[0m\u001b[1;33m]\u001b[0m\u001b[1;33m[\u001b[0m\u001b[1;36m0\u001b[0m\u001b[1;33m]\u001b[0m\u001b[1;33m)\u001b[0m\u001b[1;33m\u001b[0m\u001b[0m\n\u001b[0m",
      "\u001b[0;31mAttributeError\u001b[0m: 'list' object has no attribute 'filter'"
     ]
    }
   ],
   "source": [
    "predictions.filter(lambda x: x[1] > 4).takeOrdered(20, key=lambda x: x[0][0])"
   ]
  },
  {
   "cell_type": "markdown",
   "metadata": {},
   "source": [
    "Werk het movie aanbevelingsalgoritme uit, zodat users die bepaalde movies nog niet gezien hebben, maar er wel in geinteresseerd kunnen zijn die films ook aanbevolen krijgen. Het gaat hierbij om movies met rating >= 4."
   ]
  },
  {
   "cell_type": "code",
   "execution_count": 122,
   "metadata": {
    "collapsed": false
   },
   "outputs": [
    {
     "ename": "AttributeError",
     "evalue": "'list' object has no attribute 'collect'",
     "output_type": "error",
     "traceback": [
      "\u001b[0;31m---------------------------------------------------------------------------\u001b[0m",
      "\u001b[0;31mAttributeError\u001b[0m                            Traceback (most recent call last)",
      "\u001b[0;32m<ipython-input-122-2ee70a554bcb>\u001b[0m in \u001b[0;36m<module>\u001b[0;34m()\u001b[0m\n\u001b[1;32m     15\u001b[0m \u001b[0muser_no_rating\u001b[0m \u001b[1;33m=\u001b[0m \u001b[0msc\u001b[0m\u001b[1;33m.\u001b[0m\u001b[0mparallelize\u001b[0m\u001b[1;33m(\u001b[0m\u001b[1;33m[\u001b[0m\u001b[0mm\u001b[0m \u001b[1;32mfor\u001b[0m \u001b[0mm\u001b[0m \u001b[1;32min\u001b[0m \u001b[0mn\u001b[0m \u001b[1;32mif\u001b[0m \u001b[0mm\u001b[0m \u001b[1;32mnot\u001b[0m \u001b[1;32min\u001b[0m \u001b[0mm\u001b[0m\u001b[1;33m]\u001b[0m\u001b[1;33m)\u001b[0m\u001b[1;33m\u001b[0m\u001b[0m\n\u001b[1;32m     16\u001b[0m \u001b[1;33m\u001b[0m\u001b[0m\n\u001b[0;32m---> 17\u001b[0;31m \u001b[0mpredictions\u001b[0m \u001b[1;33m=\u001b[0m \u001b[0mpredictions\u001b[0m\u001b[1;33m.\u001b[0m\u001b[0mcollect\u001b[0m\u001b[1;33m(\u001b[0m\u001b[1;33m)\u001b[0m\u001b[1;33m\u001b[0m\u001b[0m\n\u001b[0m\u001b[1;32m     18\u001b[0m \u001b[1;33m\u001b[0m\u001b[0m\n\u001b[1;32m     19\u001b[0m \u001b[0mrecommendations\u001b[0m \u001b[1;33m=\u001b[0m \u001b[0msorted\u001b[0m\u001b[1;33m(\u001b[0m\u001b[0mpredictions\u001b[0m\u001b[1;33m,\u001b[0m \u001b[0mkey\u001b[0m\u001b[1;33m=\u001b[0m\u001b[1;32mlambda\u001b[0m \u001b[0mx\u001b[0m\u001b[1;33m:\u001b[0m \u001b[0mx\u001b[0m\u001b[1;33m[\u001b[0m\u001b[1;36m1\u001b[0m\u001b[1;33m]\u001b[0m\u001b[1;33m,\u001b[0m \u001b[0mreverse\u001b[0m\u001b[1;33m=\u001b[0m\u001b[1;32mTrue\u001b[0m\u001b[1;33m)\u001b[0m\u001b[1;33m[\u001b[0m\u001b[1;33m:\u001b[0m\u001b[1;36m50\u001b[0m\u001b[1;33m]\u001b[0m\u001b[1;33m\u001b[0m\u001b[0m\n",
      "\u001b[0;31mAttributeError\u001b[0m: 'list' object has no attribute 'collect'"
     ]
    }
   ],
   "source": [
    "movieId_rating = every_rating.map(lambda x: (x[1], x[2])).groupByKey()\n",
    "\n",
    "movieId = mov_id_name.map(lambda x: x[0])\n",
    "\n",
    "# map (movieId, (len(ratings), avg_rating)).\n",
    "# avg_rating krijgen we door alle bijbehorende ratings op te sommen en \n",
    "# die te delen door de totale hoeveelheid (count) bijbehorende ratings\n",
    "# en dat casten we naar een float.\n",
    "# *met bijbehorende bedoelen we die bij de movieId horen\n",
    "movieId_avgRating = movieId_rating\\\n",
    ".map(lambda x: (x[0], (len(x[1]), float(sum(i for i in x[1])) / len(x[1]))))\n",
    "\n",
    "n = mov_id_name.collect()\n",
    "mi = movieId.collect()\n",
    "\n",
    "user_no_rating = sc.parallelize([m for m in n if m not in m])\n",
    "\n",
    "predictions = predictions.collect()\n",
    "\n",
    "recommendations = sorted(predictions, key=lambda x: x[1], reverse=True)[:50]\n",
    "\n",
    "for i in range(len(recommendations)):\n",
    "    print(\"%2d: %s\" % (i + 1, movies[recommendations[i][1]]))"
   ]
  },
  {
   "cell_type": "code",
   "execution_count": null,
   "metadata": {
    "collapsed": true
   },
   "outputs": [],
   "source": []
  }
 ],
 "metadata": {
  "kernelspec": {
   "display_name": "Python 3",
   "language": "python",
   "name": "python3"
  },
  "language_info": {
   "codemirror_mode": {
    "name": "ipython",
    "version": 3
   },
   "file_extension": ".py",
   "mimetype": "text/x-python",
   "name": "python",
   "nbconvert_exporter": "python",
   "pygments_lexer": "ipython3",
   "version": "3.5.2"
  }
 },
 "nbformat": 4,
 "nbformat_minor": 2
}
