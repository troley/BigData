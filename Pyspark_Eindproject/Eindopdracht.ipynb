{
 "cells": [
  {
   "cell_type": "markdown",
   "metadata": {
    "collapsed": true
   },
   "source": [
    "Haal ratings per movies op (movie (rating))"
   ]
  },
  {
   "cell_type": "code",
   "execution_count": 19,
   "metadata": {
    "collapsed": false
   },
   "outputs": [
    {
     "data": {
      "text/plain": [
       "[('11973', '11', '3.0'),\n",
       " ('11973', '14', '4.0'),\n",
       " ('11973', '32', '2.0'),\n",
       " ('11973', '36', '3.0'),\n",
       " ('11973', '110', '5.0')]"
      ]
     },
     "execution_count": 19,
     "metadata": {},
     "output_type": "execute_result"
    }
   ],
   "source": [
    "userdata = sc.textFile(\"../../../schooldata/nieuw/ratings_train.csv\")\n",
    "\n",
    "firstline = userdata.first()\n",
    "userdata = userdata.filter(lambda x: x != firstline)\n",
    "\n",
    "data_normalized = userdata.map(lambda x: x.split(\"::\"))\n",
    "#data = data_normalized.map(lambda x: (x[0], (float(x[2]), 1)))\n",
    "data = data_normalized.map(lambda x: (x[0], x[1], x[2])).cache()\n",
    "\n",
    "data.take(5)"
   ]
  },
  {
   "cell_type": "markdown",
   "metadata": {},
   "source": [
    "Stap 2:\n",
    "Gemiddelde rating van films berekenen. Functie code is hier gevonden\n",
    "http://stackoverflow.com/questions/29930110/calculating-the-averages-for-each-key-in-a-pairwise-k-v-rdd-in-spark-with-pyth\n"
   ]
  },
  {
   "cell_type": "code",
   "execution_count": 17,
   "metadata": {
    "collapsed": false
   },
   "outputs": [],
   "source": [
    "\"\"\"\n",
    "import math\n",
    "\n",
    "#result: ('movieId', (sum of ratings, amount of times rated))\n",
    "movies_rdd = data.aggregateByKey((0.0, 0),\\\n",
    "                                 (lambda a,b: (a[0] + b[0], a[1] + 1)),\\\n",
    "                                 (lambda a,b: (a[0] + b[0], a[1] + b[1])))\n",
    "\n",
    "#divide (sum of ratings by amount of times rated) to get average rating per movie\n",
    "finalOutcome = movies_rdd.mapValues(lambda x: round((x[0] / x[1]), 2))\n",
    "\n",
    "high_rated_movies = finalOutcome.filter(lambda x: x[1] > 4.0)\n",
    "\n",
    "high_rated_movies.take(5)\n",
    "\"\"\""
   ]
  },
  {
   "cell_type": "markdown",
   "metadata": {
    "collapsed": true
   },
   "source": [
    "Haal gebruikers op met alle films die zij gezien hebben."
   ]
  },
  {
   "cell_type": "code",
   "execution_count": 10,
   "metadata": {
    "collapsed": false
   },
   "outputs": [],
   "source": [
    "\"\"\"\n",
    "#result: ('userId', 'movieId')\n",
    "movies_seen = data_normalized.map(lambda x: (x[1], x[0]))\n",
    "\"\"\""
   ]
  },
  {
   "cell_type": "markdown",
   "metadata": {},
   "source": [
    "Haal gebruikers met films op die zij nog niet hebben gezien."
   ]
  },
  {
   "cell_type": "code",
   "execution_count": 24,
   "metadata": {
    "collapsed": false
   },
   "outputs": [
    {
     "data": {
      "text/plain": [
       "[('1', 'Toy Story (1995)'),\n",
       " ('2', 'Jumanji (1995)'),\n",
       " ('3', 'Grumpier Old Men (1995)'),\n",
       " ('4', 'Waiting to Exhale (1995)'),\n",
       " ('5', 'Father of the Bride Part II (1995)')]"
      ]
     },
     "execution_count": 24,
     "metadata": {},
     "output_type": "execute_result"
    }
   ],
   "source": [
    "moviedata = sc.textFile(\"../../../schooldata/nieuw/movies.csv\")\n",
    "\n",
    "firstline = moviedata.first()\n",
    "movies_normalized = moviedata.filter(lambda x: x != firstline)\\\n",
    ".map(lambda x: x.split(','))\n",
    "\n",
    "two_mov_cols = movies_normalized.map(lambda x: (x[0], x[1])).cache()\n",
    "\n",
    "two_mov_cols.take(5)"
   ]
  },
  {
   "cell_type": "markdown",
   "metadata": {},
   "source": [
    "Setup ALS parameters and let ALS "
   ]
  },
  {
   "cell_type": "code",
   "execution_count": 39,
   "metadata": {
    "collapsed": false
   },
   "outputs": [
    {
     "name": "stdout",
     "output_type": "stream",
     "text": [
      "For rank 4 the RMSE is 0.8200706354202258\n",
      "For rank 8 the RMSE is 0.8107604900296571\n",
      "For rank 12 the RMSE is 0.809667361806417\n",
      "The best model was trained with rank 12\n"
     ]
    }
   ],
   "source": [
    "from pyspark.mllib.recommendation import ALS\n",
    "import math\n",
    "\n",
    "training_RDD, validation_RDD, test_RDD = data.randomSplit([6, 2, 2], seed=0)\n",
    "validation_for_predict_RDD = validation_RDD.map(lambda x: (x[0], x[1]))\n",
    "test_for_predict_RDD = test_RDD.map(lambda x: (x[0], x[1]))\n",
    "\n",
    "seed = 5\n",
    "iterations = 10\n",
    "regularization = 0.1\n",
    "ranks = [4, 8, 12]\n",
    "errors = [0, 0, 0]\n",
    "err = 0\n",
    "tolerance = 0.02\n",
    "\n",
    "min_error = float('inf')\n",
    "best_rank = -1\n",
    "best_iterations = -1\n",
    "\n",
    "for rank in ranks:\n",
    "    model = ALS.train(training_RDD, rank, seed=seed, iterations=iterations,\\\n",
    "                     lambda_=regularization)\n",
    "    \n",
    "    predictions = model.predictAll(validation_for_predict_RDD)\\\n",
    "    .map(lambda r: ((r[0], r[1]), r[2]))\n",
    "    \n",
    "    rates_and_preds = validation_RDD.map(lambda r: ((int(r[0]), int(r[1])), float(r[2])))\\\n",
    "    .join(predictions)\n",
    "    \n",
    "    error = math.sqrt(rates_and_preds.map(lambda r: (r[1][0] - r[1][1])**2).mean())\n",
    "    errors[err] = error\n",
    "    err += 1\n",
    "    print('For rank %s the RMSE is %s' % (rank, error))\n",
    "    if error < min_error:\n",
    "        min_error = error\n",
    "        best_rank = rank\n",
    "        \n",
    "print('The best model was trained with rank %s' % best_rank)"
   ]
  },
  {
   "cell_type": "code",
   "execution_count": null,
   "metadata": {
    "collapsed": true
   },
   "outputs": [],
   "source": []
  }
 ],
 "metadata": {
  "kernelspec": {
   "display_name": "Python 3",
   "language": "python",
   "name": "python3"
  },
  "language_info": {
   "codemirror_mode": {
    "name": "ipython",
    "version": 3
   },
   "file_extension": ".py",
   "mimetype": "text/x-python",
   "name": "python",
   "nbconvert_exporter": "python",
   "pygments_lexer": "ipython3",
   "version": "3.5.2"
  }
 },
 "nbformat": 4,
 "nbformat_minor": 2
}
