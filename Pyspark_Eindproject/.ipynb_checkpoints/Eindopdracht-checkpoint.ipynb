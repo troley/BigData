{
 "cells": [
  {
   "cell_type": "markdown",
   "metadata": {
    "collapsed": true
   },
   "source": [
    "Stap 1:\n",
    "Haal 50.000 gebruikers uit de csv file"
   ]
  },
  {
   "cell_type": "code",
   "execution_count": 3,
   "metadata": {
    "collapsed": false
   },
   "outputs": [
    {
     "name": "stdout",
     "output_type": "stream",
     "text": [
      "[('11973', '11', '3.0', '943354625'), ('11973', '14', '4.0', '943353278'), ('11973', '32', '2.0', '943354739'), ('11973', '36', '3.0', '943354345'), ('11973', '110', '5.0', '943354384'), ('11973', '161', '4.0', '943354197'), ('11973', '296', '5.0', '943354384'), ('11973', '300', '4.0', '943354345'), ('11973', '318', '5.0', '943353152'), ('11973', '527', '5.0', '943353995')]\n"
     ]
    }
   ],
   "source": [
    "userdata = sc.textFile(\"C:/Users/Troley/Dropbox/HBO-ICT/Blok 7 2k17/Big Data/train20m.csv\")\n",
    "sp = userdata.map(lambda x: tuple(x.split('::')))\n",
    "bla = sp.map(lambda x: tuple(x[0]))\n",
    "print(bla.take(10))"
   ]
  },
  {
   "cell_type": "markdown",
   "metadata": {},
   "source": [
    "Stap 2:\n",
    "Distinct films eruit halen"
   ]
  },
  {
   "cell_type": "code",
   "execution_count": 38,
   "metadata": {
    "collapsed": false
   },
   "outputs": [
    {
     "name": "stdout",
     "output_type": "stream",
     "text": [
      "['1', '10', '100', '1000', '100003', '100006', '100008', '100010', '100013', '100015']\n"
     ]
    }
   ],
   "source": [
    "filmsIDOnly = splittedUserDatardd.map(lambda x: x[1]).distinct()\n",
    "print(filmsIDOnly.take(10))"
   ]
  },
  {
   "cell_type": "code",
   "execution_count": null,
   "metadata": {
    "collapsed": true
   },
   "outputs": [],
   "source": []
  }
 ],
 "metadata": {
  "kernelspec": {
   "display_name": "Python 3",
   "language": "python",
   "name": "python3"
  },
  "language_info": {
   "codemirror_mode": {
    "name": "ipython",
    "version": 3
   },
   "file_extension": ".py",
   "mimetype": "text/x-python",
   "name": "python",
   "nbconvert_exporter": "python",
   "pygments_lexer": "ipython3",
   "version": "3.5.2"
  }
 },
 "nbformat": 4,
 "nbformat_minor": 2
}
