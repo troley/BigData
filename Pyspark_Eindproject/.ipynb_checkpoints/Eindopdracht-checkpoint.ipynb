{
 "cells": [
  {
   "cell_type": "markdown",
   "metadata": {
    "collapsed": true
   },
   "source": [
    "Haal gebruikers op die films hebben gerate. Er ontstaat een RDD[(userId, movieId, rating)]."
   ]
  },
  {
   "cell_type": "code",
   "execution_count": 11,
   "metadata": {
    "collapsed": false,
    "scrolled": true
   },
   "outputs": [
    {
     "data": {
      "text/plain": [
       "[(11973, 11, 3.0),\n",
       " (11973, 14, 4.0),\n",
       " (11973, 32, 2.0),\n",
       " (11973, 36, 3.0),\n",
       " (11973, 110, 5.0)]"
      ]
     },
     "execution_count": 11,
     "metadata": {},
     "output_type": "execute_result"
    }
   ],
   "source": [
    "userdata = sc.textFile(\"../../../schooldata/nieuw/ratings_train.csv\")\n",
    "\n",
    "firstline = userdata.first()\n",
    "\n",
    "data_normalized = userdata.filter(lambda x: x != firstline)\n",
    "\n",
    "data_normalized = data_normalized.map(lambda x: x.split(\"::\"))\n",
    "\n",
    "user_mov_rating = data_normalized.map(lambda x:(int(x[0]), int(x[1]), float(x[2]))).cache()\n",
    "\n",
    "user_mov_rating.take(5)"
   ]
  },
  {
   "cell_type": "markdown",
   "metadata": {},
   "source": [
    "Haal films op uit de database en map ze in een RDD zodat er een RDD[(movieId, title)] ontstaat."
   ]
  },
  {
   "cell_type": "code",
   "execution_count": 14,
   "metadata": {
    "collapsed": false
   },
   "outputs": [
    {
     "data": {
      "text/plain": [
       "[(1, 'Toy Story (1995)'),\n",
       " (2, 'Jumanji (1995)'),\n",
       " (3, 'Grumpier Old Men (1995)'),\n",
       " (4, 'Waiting to Exhale (1995)'),\n",
       " (5, 'Father of the Bride Part II (1995)'),\n",
       " (6, 'Heat (1995)'),\n",
       " (7, 'Sabrina (1995)'),\n",
       " (8, 'Tom and Huck (1995)'),\n",
       " (9, 'Sudden Death (1995)'),\n",
       " (10, 'GoldenEye (1995)')]"
      ]
     },
     "execution_count": 14,
     "metadata": {},
     "output_type": "execute_result"
    }
   ],
   "source": [
    "moviedata = sc.textFile(\"../../../schooldata/nieuw/movies.csv\")\n",
    "\n",
    "firstline = moviedata.first()\n",
    "movies_normalized = moviedata.filter(lambda x: x != firstline)\\\n",
    ".map(lambda x: x.split(','))\n",
    "\n",
    "mov_id_name = movies_normalized.map(lambda x: (int(x[0]), x[1])).cache()\n",
    "\n",
    "mov_id_name.take(10)"
   ]
  },
  {
   "cell_type": "markdown",
   "metadata": {},
   "source": [
    "Initialiseer de benodigde ALS parameters en laat ALS trainen. Vervolgens een voorspelde lijst in predictions stoppen, die we laten joinen met de test data split."
   ]
  },
  {
   "cell_type": "code",
   "execution_count": null,
   "metadata": {
    "collapsed": false
   },
   "outputs": [],
   "source": []
  },
  {
   "cell_type": "code",
   "execution_count": 12,
   "metadata": {
    "collapsed": false,
    "scrolled": true
   },
   "outputs": [
    {
     "name": "stdout",
     "output_type": "stream",
     "text": [
      "Met rank None is de RMSE: 0.8198104062684609\n"
     ]
    }
   ],
   "source": [
    "from pyspark.mllib.recommendation import ALS\n",
    "import math\n",
    "\n",
    "# verdeel rdd data 60% cls, 20% validatie en 20% tests\n",
    "cls, validation, test = user_mov_rating.randomSplit([6, 2, 2], seed=None)\n",
    "\n",
    "rank = None\n",
    "\n",
    "# laat ALS op het cls rdd trainen.\n",
    "trained_prototype = ALS.train(cls, rank = 8, seed = 5, iterations = 10, lambda_ = 0.01)\n",
    "\n",
    "test_predictions = test.map(lambda x: (x[0], x[1]))\n",
    "\n",
    "# de rating wordt voorspeld voor userId en movieId door het getrainde ALS prototype \n",
    "# en word gemapt als ((userId, movieId), rating).\n",
    "predictions = trained_prototype.predictAll(test_predictions)\\\n",
    ".map(lambda x: ((x[0], x[1]), x[2]))\n",
    "\n",
    "# de test rdd joint de predictions rdd en dan krijgen we ((userId, movieId), (rating, rating)).\n",
    "rnp = test.map(lambda x: ((int(x[0]), int(x[1])), float(x[2])))\\\n",
    ".join(predictions)\n",
    "\n",
    "computable_rnp = rnp.map(lambda x: (x[1][0] - x[1][1])**2)\n",
    "\n",
    "# bereken de Root Mean Square Error bij de rnp data.\n",
    "error = math.sqrt(computable_rnp.mean())\n",
    "\n",
    "print('Met rank %s is de RMSE: %s' % (rank, error))"
   ]
  },
  {
   "cell_type": "code",
   "execution_count": null,
   "metadata": {
    "collapsed": false
   },
   "outputs": [],
   "source": [
    "predictions.filter(lambda x: x[1] > 4).takeOrdered(20, key=lambda x: x[0][0])"
   ]
  },
  {
   "cell_type": "code",
   "execution_count": 33,
   "metadata": {
    "collapsed": false
   },
   "outputs": [
    {
     "data": {
      "text/plain": [
       "[(17, (20340, 4.0)),\n",
       " (98328, (1, 4.5)),\n",
       " (127007, (1, 4.5)),\n",
       " (98464, (1, 4.0)),\n",
       " (118133, (1, 4.5)),\n",
       " (118983, (1, 4.0)),\n",
       " (127228, (1, 4.0)),\n",
       " (102765, (1, 4.0)),\n",
       " (65909, (1, 4.0)),\n",
       " (119204, (1, 4.0)),\n",
       " (103003, (1, 4.0)),\n",
       " (103071, (1, 4.0)),\n",
       " (86717, (4, 4.0)),\n",
       " (107202, (1, 4.5)),\n",
       " (94928, (2, 4.0)),\n",
       " (103139, (1, 4.0)),\n",
       " (119663, (1, 4.0)),\n",
       " (33779, (203, 4.0)),\n",
       " (123981, (1, 4.5)),\n",
       " (119901, (1, 4.0)),\n",
       " (115821, (1, 4.0)),\n",
       " (99450, (1, 5.0)),\n",
       " (5304, (475, 4.0)),\n",
       " (1258, (23237, 4.0)),\n",
       " (1292, (6322, 4.0)),\n",
       " (128316, (1, 4.0)),\n",
       " (62781, (3, 4.0)),\n",
       " (54689, (1, 4.0)),\n",
       " (79458, (3, 4.0)),\n",
       " (99960, (5, 4.0)),\n",
       " (79594, (18, 4.0)),\n",
       " (100147, (1, 4.0)),\n",
       " (7140, (5, 4.0)),\n",
       " (92004, (1, 4.0)),\n",
       " (100266, (1, 4.5)),\n",
       " (96594, (1, 4.0)),\n",
       " (129013, (3, 4.0)),\n",
       " (79866, (1, 5.0)),\n",
       " (6273, (386, 4.0)),\n",
       " (100521, (1, 5.0)),\n",
       " (92412, (2, 4.0)),\n",
       " (26962, (3, 4.0)),\n",
       " (100725, (2, 4.0)),\n",
       " (108936, (1, 4.0)),\n",
       " (121227, (6, 4.0)),\n",
       " (129421, (1, 4.5)),\n",
       " (100946, (4, 4.0)),\n",
       " (117470, (1, 4.0)),\n",
       " (2788, (5777, 4.0)),\n",
       " (117504, (1, 4.0))]"
      ]
     },
     "execution_count": 33,
     "metadata": {},
     "output_type": "execute_result"
    }
   ],
   "source": [
    "movieId_rating = user_mov_rating.map(lambda x: (x[1], x[2])).groupByKey()\n",
    "\n",
    "movieId = mov_id_name.map(lambda x: x[0])\n",
    "\n",
    "# map (movieId, (len(ratings), avg_rating)).\n",
    "# avg_rating krijgen we door alle bijbehorende ratings op te sommen en \n",
    "# die te delen door de totale hoeveelheid (count) bijbehorende ratings\n",
    "# en dat casten we naar een float.\n",
    "# *met bijbehorende bedoelen we die bij de movieId horen\n",
    "movieId_avgRating = movieId_rating\\\n",
    ".map(lambda x: (x[0], (len(x[1]), round(float(sum(i for i in x[1])) / len(x[1]), 1))))\\\n",
    ".filter(lambda x: x[1][1] == 4 or x[1][1] == 4.5 or x[1][1] == 5)\n",
    "\n",
    "\"\"\"\n",
    "n = mov_id_name.map(lambda x: x[0]).collect()\n",
    "mi = movieId.collect()\n",
    "\n",
    "user_no_rating = sc.parallelize([m for m in n if m in mi])\n",
    "predictions = trained_prototype.predictAll(user_no_rating.map(lambda x: (0, x))).collect()\n",
    "recommendations = sorted(predictions, key=lambda x: x[1], reverse=True)[:50]\n",
    "\n",
    "for i in range(len(recommendations)):\n",
    "    print (\"%2d: %s\" % (i + 1, user_mov_rating[recommendations[i][1]])).encode('ascii', 'ignore')\n",
    "\n",
    "\"\"\"\n",
    "movieId_avgRating.take(50)"
   ]
  },
  {
   "cell_type": "markdown",
   "metadata": {},
   "source": [
    "Werk het movie aanbevelingsalgoritme uit, zodat users die bepaalde movies nog niet gezien hebben, maar er wel in geinteresseerd kunnen zijn die films ook aanbevolen krijgen. Het gaat hierbij om movies met rating >= 4."
   ]
  },
  {
   "cell_type": "code",
   "execution_count": null,
   "metadata": {
    "collapsed": false
   },
   "outputs": [],
   "source": []
  }
 ],
 "metadata": {
  "kernelspec": {
   "display_name": "Python 3",
   "language": "python",
   "name": "python3"
  },
  "language_info": {
   "codemirror_mode": {
    "name": "ipython",
    "version": 3
   },
   "file_extension": ".py",
   "mimetype": "text/x-python",
   "name": "python",
   "nbconvert_exporter": "python",
   "pygments_lexer": "ipython3",
   "version": "3.5.2"
  }
 },
 "nbformat": 4,
 "nbformat_minor": 2
}
