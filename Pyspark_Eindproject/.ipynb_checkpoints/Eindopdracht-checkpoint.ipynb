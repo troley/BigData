{
 "cells": [
  {
   "cell_type": "markdown",
   "metadata": {
    "collapsed": true
   },
   "source": [
    "Haal ratings per movies op (movie (rating))"
   ]
  },
  {
   "cell_type": "code",
   "execution_count": 109,
   "metadata": {
    "collapsed": false
   },
   "outputs": [
    {
     "name": "stdout",
     "output_type": "stream",
     "text": [
      "[('11', (3.0, 1)), ('14', (4.0, 1)), ('32', (2.0, 1)), ('36', (3.0, 1)), ('110', (5.0, 1))]\n"
     ]
    }
   ],
   "source": [
    "userdata = sc.textFile(\"../../../schooldata/nieuw/ratings_train.csv\")\n",
    "\n",
    "firstline = userdata.first()\n",
    "userdata = userdata.filter(lambda x: x != firstline)\n",
    "\n",
    "data_normalized = userdata.map(lambda x: x.split(\"::\"))\n",
    "data = data_normalized.map(lambda x: (x[1], (float(x[2]), 1)))\n",
    "print(data.take(5))"
   ]
  },
  {
   "cell_type": "markdown",
   "metadata": {},
   "source": [
    "Stap 2:\n",
    "Gemiddelde rating van films berekenen. Functie code is hier gevonden\n",
    "http://stackoverflow.com/questions/29930110/calculating-the-averages-for-each-key-in-a-pairwise-k-v-rdd-in-spark-with-pyth\n"
   ]
  },
  {
   "cell_type": "code",
   "execution_count": 112,
   "metadata": {
    "collapsed": false
   },
   "outputs": [
    {
     "name": "stdout",
     "output_type": "stream",
     "text": [
      "[('113972', 4.5), ('8125', 4.04), ('129344', 4.5), ('117468', 4.5), ('47', 4.05)]\n"
     ]
    }
   ],
   "source": [
    "import math\n",
    "\n",
    "#outcome: ('movieId', (sum of ratings, amount of times rated))\n",
    "movies_rdd = data.aggregateByKey((0.0, 0),\\\n",
    "                                 (lambda a,b: (a[0] + b[0], a[1] + 1)),\\\n",
    "                                 (lambda a,b: (a[0] + b[0], a[1] + b[1])))\n",
    "\n",
    "#divide (sum of ratings by amount of times rated) to get average rating per movie\n",
    "finalOutcome = movies_rdd.mapValues(lambda x: round((x[0] / x[1]), 2))\n",
    "\n",
    "high_rat_movies = finalOutcome.filter(lambda x: x[1] > 4.0)\n",
    "\n",
    "print(high_rat_movies.take(5))"
   ]
  },
  {
   "cell_type": "markdown",
   "metadata": {
    "collapsed": true
   },
   "source": [
    "Haal gebruikers op met alle films die zij gezien hebben."
   ]
  },
  {
   "cell_type": "code",
   "execution_count": 118,
   "metadata": {
    "collapsed": false
   },
   "outputs": [
    {
     "name": "stdout",
     "output_type": "stream",
     "text": [
      "[('11', '11973'), ('14', '11973'), ('32', '11973'), ('36', '11973'), ('110', '11973')]\n"
     ]
    }
   ],
   "source": [
    "#outcome: ('userId', 'movieId')\n",
    "mov_seen = data_normalized.map(lambda x: (x[1], x[0]))\n",
    "\n",
    "print(mov_seen.take(5))"
   ]
  },
  {
   "cell_type": "markdown",
   "metadata": {},
   "source": [
    "Haal gebruikers met films op die zij nog niet hebben gezien."
   ]
  },
  {
   "cell_type": "code",
   "execution_count": null,
   "metadata": {
    "collapsed": true
   },
   "outputs": [],
   "source": [
    "combined = high_rat_movies.leftOuterJoin()"
   ]
  },
  {
   "cell_type": "markdown",
   "metadata": {},
   "source": [
    "Vergelijk ratings tussen nog niet bekeken films (rating1 > rating2 ?...)."
   ]
  },
  {
   "cell_type": "code",
   "execution_count": null,
   "metadata": {
    "collapsed": true
   },
   "outputs": [],
   "source": []
  }
 ],
 "metadata": {
  "kernelspec": {
   "display_name": "Python 3",
   "language": "python",
   "name": "python3"
  },
  "language_info": {
   "codemirror_mode": {
    "name": "ipython",
    "version": 3
   },
   "file_extension": ".py",
   "mimetype": "text/x-python",
   "name": "python",
   "nbconvert_exporter": "python",
   "pygments_lexer": "ipython3",
   "version": "3.5.2"
  }
 },
 "nbformat": 4,
 "nbformat_minor": 2
}
