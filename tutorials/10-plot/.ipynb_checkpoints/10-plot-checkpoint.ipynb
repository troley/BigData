{
 "cells": [
  {
   "cell_type": "markdown",
   "metadata": {},
   "source": [
    "## Making plots from data\n",
    "\n",
    "There are several good libraries you can use to generate plots from the data you process with Spark. In this tutorial we will use `Plot.ly`, but there are many alternative libraries you can use, e.g. `matplotlib`, `pyplot`, `Pandas`.\n",
    "\n",
    "First we load some data, and derive averages we want to visualize in a plot."
   ]
  },
  {
   "cell_type": "code",
   "execution_count": null,
   "metadata": {
    "collapsed": true
   },
   "outputs": [],
   "source": [
    "filename = '../data/2008.csv.bz2'\n",
    "if not os.path.exists(filename):\n",
    "    import urllib.request\n",
    "    urllib.request.urlretrieve (\"http://stat-computing.org/dataexpo/2009/2008.csv.bz2\", \\\n",
    "                                filename)"
   ]
  },
  {
   "cell_type": "code",
   "execution_count": null,
   "metadata": {
    "collapsed": false
   },
   "outputs": [],
   "source": [
    "f = sqlContext.read.format(\"com.databricks.spark.csv\").\\\n",
    "    options(header=\"true\", inferSchema = \"true\").load(filename)"
   ]
  },
  {
   "cell_type": "code",
   "execution_count": null,
   "metadata": {
    "collapsed": false
   },
   "outputs": [],
   "source": [
    "from pyspark.sql.functions import *\n",
    "\n",
    "averagedelays = f.groupBy(f.FlightNum).\\\n",
    "agg(avg(\"DepDelay\"), avg(\"ArrDelay\"))\n",
    "averagedelays.show(2)"
   ]
  },
  {
   "cell_type": "markdown",
   "metadata": {},
   "source": [
    "## Plotting the data\n",
    "\n",
    "Here we use plotly.offline, there is also an online variant for which you need a free registration, which allows you to share your plots in the cloud. The second import statement imports all graph classes, including `Histogram` which prepares the given data points `x` by dividing the x-axis into a number of buckets, and then counts the number of data points that fall into each bucket. The y-axis in the histogram represents the number of flights that was delayed by the amount of time on the x-axis. The `data` series must be entered into a list, even if you have only one data serie. "
   ]
  },
  {
   "cell_type": "code",
   "execution_count": null,
   "metadata": {
    "collapsed": false
   },
   "outputs": [],
   "source": [
    "import plotly.offline as py\n",
    "from plotly.graph_objs import *\n",
    "py.init_notebook_mode()\n",
    "data = [\n",
    "    Histogram(x=averagedelays.toPandas()[\"avg(DepDelay)\"])\n",
    "    ]"
   ]
  },
  {
   "cell_type": "code",
   "execution_count": null,
   "metadata": {
    "collapsed": false
   },
   "outputs": [],
   "source": [
    "py.iplot(data)"
   ]
  },
  {
   "cell_type": "markdown",
   "metadata": {},
   "source": [
    "In the next example, `data` contains two series, one for Departure Delay and one for Arrival Delay. For visibility, the bins are fixed to size=2 to prevent the bars from overlapping."
   ]
  },
  {
   "cell_type": "code",
   "execution_count": null,
   "metadata": {
    "collapsed": false
   },
   "outputs": [],
   "source": [
    "data = [\n",
    "        Histogram(x=averagedelays.toPandas()[\"avg(DepDelay)\"], \n",
    "                  xbins=dict(start=0, end=100, size=2)),\n",
    "        Histogram(x=averagedelays.toPandas()[\"avg(ArrDelay)\"], \n",
    "                  xbins=dict(start=0, end=100, size=2))\n",
    "    ]\n",
    "py.iplot(data)"
   ]
  },
  {
   "cell_type": "markdown",
   "metadata": {},
   "source": [
    "To add a derived column to a DataFrame, often and UserDefinedFunction (UDF) is needed, since these are not evaluated straight away, but rather when called with an element."
   ]
  },
  {
   "cell_type": "code",
   "execution_count": null,
   "metadata": {
    "collapsed": true
   },
   "outputs": [],
   "source": [
    "from pyspark.sql.types import *\n",
    "\n",
    "addFlight = udf(lambda x: 'flight ' + str(x), returnType=StringType())\n",
    "\n",
    "flightdelays = averagedelays.withColumn(\"Flight\", addFlight('FlightNum'))\n"
   ]
  },
  {
   "cell_type": "code",
   "execution_count": null,
   "metadata": {
    "collapsed": false
   },
   "outputs": [],
   "source": [
    "data = [ \n",
    "    Scatter(x=flightdelays.toPandas()[\"avg(DepDelay)\"],\n",
    "            y=flightdelays.toPandas()[\"avg(ArrDelay)\"],\n",
    "            marker=Marker(size=2 + flightdelays.toPandas()[\"avg(ArrDelay)\"] / 10),\n",
    "            text=flightdelays.toPandas()[\"Flight\"],\n",
    "            mode='markers'\n",
    "    )]\n",
    "py.iplot(data)"
   ]
  },
  {
   "cell_type": "code",
   "execution_count": null,
   "metadata": {
    "collapsed": true
   },
   "outputs": [],
   "source": []
  }
 ],
 "metadata": {
  "kernelspec": {
   "display_name": "Python 3",
   "language": "python",
   "name": "python3"
  },
  "language_info": {
   "codemirror_mode": {
    "name": "ipython",
    "version": 3
   },
   "file_extension": ".py",
   "mimetype": "text/x-python",
   "name": "python",
   "nbconvert_exporter": "python",
   "pygments_lexer": "ipython3",
   "version": "3.5.2"
  }
 },
 "nbformat": 4,
 "nbformat_minor": 0
}
