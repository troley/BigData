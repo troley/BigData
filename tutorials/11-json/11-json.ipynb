{
 "cells": [
  {
   "cell_type": "markdown",
   "metadata": {},
   "source": [
    "## JSON\n",
    "\n",
    "In the example below, the data from a JSon file is read directly as a DataFrame."
   ]
  },
  {
   "cell_type": "code",
   "execution_count": null,
   "metadata": {
    "collapsed": false
   },
   "outputs": [],
   "source": [
    "from pyspark.sql.types import *\n",
    "from pyspark.sql.functions import *"
   ]
  },
  {
   "cell_type": "code",
   "execution_count": null,
   "metadata": {
    "collapsed": true
   },
   "outputs": [],
   "source": [
    "filename = '../data/nobelprize.json'\n",
    "if not os.path.exists(filename):\n",
    "    import urllib.request\n",
    "    url = 'http://api.nobelprize.org/v1/prize.json'\n",
    "    f = urllib.request.urlretrieve (url, filename)"
   ]
  },
  {
   "cell_type": "code",
   "execution_count": null,
   "metadata": {
    "collapsed": false
   },
   "outputs": [],
   "source": [
    "prizes.printSchema()"
   ]
  },
  {
   "cell_type": "markdown",
   "metadata": {},
   "source": [
    "Often JSON files have a single root containing multiple records as an array. Inconveniently, `printSchema` shows the name `root` while the actual name in the data is `prizes`. We can `flatten` the data so that instead of one entry that consists of an array, every prize becomes a separate entry."
   ]
  },
  {
   "cell_type": "code",
   "execution_count": null,
   "metadata": {
    "collapsed": false
   },
   "outputs": [],
   "source": [
    "df = sqlContext.read.json(\"../data/nobelprize.json\")\n",
    "prizes = df.select(explode(\"prizes\")).selectExpr(\"col as prize\")\n",
    "prizes.createOrReplaceTempView(\"prizes\")"
   ]
  },
  {
   "cell_type": "markdown",
   "metadata": {},
   "source": [
    "Note that in this JSon file year is inferred as a String, therefore, if we want to use numeric expressions on year we need to convert it to int."
   ]
  },
  {
   "cell_type": "code",
   "execution_count": null,
   "metadata": {
    "collapsed": false
   },
   "outputs": [],
   "source": [
    "sqlDF = spark.sql(\"select prize.category, int(prize.year) + 1\\\n",
    "                   as year from prizes\")"
   ]
  },
  {
   "cell_type": "code",
   "execution_count": null,
   "metadata": {
    "collapsed": false
   },
   "outputs": [],
   "source": [
    "sqlDF.show(8)"
   ]
  },
  {
   "cell_type": "markdown",
   "metadata": {},
   "source": [
    "### use a selectExpr to cast values ###\n",
    "However, when we use SQL functions, values are automatically cast to their required type."
   ]
  },
  {
   "cell_type": "code",
   "execution_count": null,
   "metadata": {
    "collapsed": false
   },
   "outputs": [],
   "source": [
    "sqlDF.selectExpr(\"year * 2 as y\", \"year - 2 as x\").show(7)"
   ]
  },
  {
   "cell_type": "markdown",
   "metadata": {},
   "source": [
    "Every prize can have an array of laureates. If we want to process every indivual laureate, we can use explode to duplicate the prize entries for every laureate."
   ]
  },
  {
   "cell_type": "code",
   "execution_count": null,
   "metadata": {
    "collapsed": false
   },
   "outputs": [],
   "source": [
    "flatPrizes = prizes.select(prizes['prize.year'],\\\n",
    "                           prizes['prize.category'], \\\n",
    "                           explode(prizes['prize.laureates']).alias('l'))\n",
    "flatterPrizes = flatPrizes.select(flatPrizes['year'],\\\n",
    "                                  flatPrizes['category'],\n",
    "                                  flatPrizes['l.id'].alias('pid'),\n",
    "                                  flatPrizes['l.firstname'],\n",
    "                                  flatPrizes['l.surname'],\n",
    "                                  flatPrizes['l.motivation'])\n",
    "flatterPrizes.createOrReplaceTempView(\"laureates\")\n",
    "flatterPrizes.show(5)"
   ]
  },
  {
   "cell_type": "code",
   "execution_count": null,
   "metadata": {
    "collapsed": false
   },
   "outputs": [],
   "source": [
    "spark.sql(\"select category, year, surname from laureates\").show(6)"
   ]
  }
 ],
 "metadata": {
  "anaconda-cloud": {},
  "kernelspec": {
   "display_name": "Python 3",
   "language": "python",
   "name": "python3"
  },
  "language_info": {
   "codemirror_mode": {
    "name": "ipython",
    "version": 3
   },
   "file_extension": ".py",
   "mimetype": "text/x-python",
   "name": "python",
   "nbconvert_exporter": "python",
   "pygments_lexer": "ipython3",
   "version": "3.5.2"
  }
 },
 "nbformat": 4,
 "nbformat_minor": 1
}
