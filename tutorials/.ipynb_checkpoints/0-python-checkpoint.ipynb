{
 "cells": [
  {
   "cell_type": "markdown",
   "metadata": {},
   "source": [
    "<img style=\"height: 20px;\"  src=\"images/python.png\">\n",
    "<img style=\"height: 20px;\" src=\"images/surfsara.png\">\n",
    "\n",
    "<hr style=\"clear: both\" />\n",
    "\n",
    "# Python introduction\n",
    "\n",
    "We present a very brief introduction to Python here, based on the very useful Python introduction given by SurfSara (https://github.com/sara-nl/jupyter-bigdata-notebooks). \n",
    "\n",
    "To use a notebook, open it in your browser on a (local or remote) iPython server. The notebooks consist of cells that can contain either: Python script, the output for a Python script, or text instructions. You can intregrate your own notes inside the nodebook by adding new cells, see the documentation on how to work with notebooks (https://ipython.org/ipython-doc/3/notebook/notebook.html#notebook-user-interface).\n",
    "\n",
    "_Most importantly: you can edit the cells below and execute the code by selecting the cell and press Shift-Enter. Code completion is supported by use of the Tab key._\n",
    "\n",
    "Python is relatively easy to learn. Of course, you can do complicated things but we focus on the basics here and assume that you have seen similar constructs in other programming languages."
   ]
  },
  {
   "cell_type": "markdown",
   "metadata": {},
   "source": [
    "## Variables and dynamic typing\n",
    "\n",
    "In the cell below we assign the variable `i` to an integer. We then print the type of `i`.\n",
    "You can see by executing the cell that `i` is of type _int_."
   ]
  },
  {
   "cell_type": "code",
   "execution_count": 1,
   "metadata": {
    "collapsed": false
   },
   "outputs": [
    {
     "name": "stdout",
     "output_type": "stream",
     "text": [
      "the type of variable i is: \n",
      "<class 'int'>\n"
     ]
    }
   ],
   "source": [
    "# Assign a integer to i\n",
    "i = 123567\n",
    "\n",
    "# Print the type of i\n",
    "print('the type of variable i is: ')\n",
    "print(type(i))"
   ]
  },
  {
   "cell_type": "markdown",
   "metadata": {},
   "source": [
    "Next we assign `s` to string and determine its length. Then we print the length of `s`."
   ]
  },
  {
   "cell_type": "code",
   "execution_count": 1,
   "metadata": {
    "collapsed": true
   },
   "outputs": [],
   "source": [
    "# Assign s to a string, using single quotes (or double quotes)\n",
    "s = 'abcdABCD'\n",
    "\n",
    "# Strings have a length\n",
    "s_length = len(s)"
   ]
  },
  {
   "cell_type": "markdown",
   "metadata": {},
   "source": [
    "The function `print` expects a single argument, so we create a single string from the text and variable `s_length`. For this we need to convert `s_length` from `int` to `string` using the `str` function."
   ]
  },
  {
   "cell_type": "code",
   "execution_count": 2,
   "metadata": {
    "collapsed": false
   },
   "outputs": [
    {
     "name": "stdout",
     "output_type": "stream",
     "text": [
      "the length of variable s is : 8\n",
      "the length of variable s is : 8\n",
      "the length of variable s is : 8\n"
     ]
    }
   ],
   "source": [
    "# Three ways to print the length of s\n",
    "\n",
    "# pythonc way, the {} are substituted for the parameters of format\n",
    "print('the length of variable s is : {}'.format(s_length))\n",
    "\n",
    "# C syntax, the %d, %s are substituted for the parameters of %\n",
    "print('the length of variable s is : %d'%(s_length))\n",
    "\n",
    "# via String concatenation (+ concatenates strings, list, tuples)\n",
    "print('the length of variable s is : ' +  str(s_length))\n"
   ]
  },
  {
   "cell_type": "markdown",
   "metadata": {},
   "source": [
    "In Python, a String behaves like a list of characters, and a list is similar to an ArrayList in Java (in the sense that lists have a flexible size). Python has no equivalent to Java's fixed length array but rather uses lists for all mutable ordered collections. Lists have a language syntax to address positions and slices with `[]`, similar to the way arrays are indexed in Java to access elements by their index. Take a look at the following code."
   ]
  },
  {
   "cell_type": "code",
   "execution_count": 3,
   "metadata": {
    "collapsed": false
   },
   "outputs": [
    {
     "name": "stdout",
     "output_type": "stream",
     "text": [
      "the first letter is: a\n",
      "the second letter is: b\n",
      "the second and third letter are: bc\n",
      "the last letter is: D\n",
      "the last three letters are: BCD\n"
     ]
    }
   ],
   "source": [
    "# The first letter of s\n",
    "f = s[0]\n",
    "print('the first letter is: ' + f)\n",
    "\n",
    "# The second letter of s\n",
    "print('the second letter is: ' + s[1])\n",
    "\n",
    "# Slice of s from offsets 1 through 2 (3 not included)\n",
    "print('the second and third letter are: ' + s[1:3])\n",
    "\n",
    "# Print last letter of s\n",
    "print('the last letter is: ' + s[-1])\n",
    "\n",
    "# Print the last three letters of s\n",
    "print('the last three letters are: ' + s[-3:])\n"
   ]
  },
  {
   "cell_type": "code",
   "execution_count": 4,
   "metadata": {
    "collapsed": false
   },
   "outputs": [
    {
     "ename": "SyntaxError",
     "evalue": "invalid syntax (<ipython-input-4-cb53e5c79e87>, line 4)",
     "output_type": "error",
     "traceback": [
      "\u001b[0;36m  File \u001b[0;32m\"<ipython-input-4-cb53e5c79e87>\"\u001b[0;36m, line \u001b[0;32m4\u001b[0m\n\u001b[0;31m    print(<FILL IN>)\u001b[0m\n\u001b[0m          ^\u001b[0m\n\u001b[0;31mSyntaxError\u001b[0m\u001b[0;31m:\u001b[0m invalid syntax\n"
     ]
    }
   ],
   "source": [
    "# TODO: Replace <FILL IN> with appropriate code\n",
    "\n",
    "# Print s, except the last letter\n",
    "print(<FILL IN>)"
   ]
  },
  {
   "cell_type": "markdown",
   "metadata": {},
   "source": [
    "## Lists\n",
    "\n",
    "Lists are ordered collections, which can contain elements of any type."
   ]
  },
  {
   "cell_type": "code",
   "execution_count": 5,
   "metadata": {
    "collapsed": false
   },
   "outputs": [
    {
     "name": "stdout",
     "output_type": "stream",
     "text": [
      "the length of L is: 3\n"
     ]
    }
   ],
   "source": [
    "L = [123, 'some string', 1.666]\n",
    "\n",
    "print('the length of L is: ' +  str(len(L)))"
   ]
  },
  {
   "cell_type": "code",
   "execution_count": 6,
   "metadata": {
    "collapsed": false
   },
   "outputs": [
    {
     "name": "stdout",
     "output_type": "stream",
     "text": [
      "['a', 'b', 'c', 'D', 'E', 'F']\n"
     ]
    }
   ],
   "source": [
    "# We create two lists and concatenate these using the + operator\n",
    "L1 = ['a', 'b', 'c']\n",
    "L2 = ['D', 'E', 'F']\n",
    "L3 = L1 + L2\n",
    "\n",
    "print(L3)"
   ]
  },
  {
   "cell_type": "markdown",
   "metadata": {},
   "source": [
    "Lists are objects in Python. They come with a number of methods, e.g. `append` and `reverse`.\n",
    "These methods are called on the _list_ object by using the `.` (dot) notation."
   ]
  },
  {
   "cell_type": "code",
   "execution_count": 7,
   "metadata": {
    "collapsed": false
   },
   "outputs": [
    {
     "name": "stdout",
     "output_type": "stream",
     "text": [
      "L3 before reverse: ['a', 'b', 'c', 'D', 'E', 'F']\n",
      "L3 after reverse: ['F', 'E', 'D', 'c', 'b', 'a']\n"
     ]
    }
   ],
   "source": [
    "print('L3 before reverse: ' + str(L3))\n",
    "\n",
    "L3.reverse()\n",
    "\n",
    "print('L3 after reverse: ' + str(L3))"
   ]
  },
  {
   "cell_type": "markdown",
   "metadata": {},
   "source": [
    "Similarly we can append an element to the end of a list by calling the `append` method."
   ]
  },
  {
   "cell_type": "code",
   "execution_count": 8,
   "metadata": {
    "collapsed": false
   },
   "outputs": [
    {
     "name": "stdout",
     "output_type": "stream",
     "text": [
      "L3 before append: ['F', 'E', 'D', 'c', 'b', 'a']\n",
      "L3 after append: ['F', 'E', 'D', 'c', 'b', 'a', 'G']\n"
     ]
    }
   ],
   "source": [
    "print('L3 before append: ' + str(L3))\n",
    "\n",
    "L3.append('G')\n",
    "\n",
    "print('L3 after append: ' + str(L3))"
   ]
  },
  {
   "cell_type": "markdown",
   "metadata": {},
   "source": [
    "Notice that reverse and append **modify** the _existing list_ L3. This means these methods are _impure_ functions because they have side-effects. You even invoke them just for the side-effects, because they return nothing useful!\n",
    "\n",
    "When a list contains integers or floats we can call the `sum` function to compute the total summation of its elements.\n",
    "\n",
    "Note that there are two type of 'functions' on lists. _Methods_ like `append` en `reverse` which are used on objects with the dot notation and _functions_ like `sum` and `len` that take lists as arguments."
   ]
  },
  {
   "cell_type": "code",
   "execution_count": 9,
   "metadata": {
    "collapsed": false
   },
   "outputs": [
    {
     "name": "stdout",
     "output_type": "stream",
     "text": [
      "95.0\n"
     ]
    }
   ],
   "source": [
    "print(sum([4,5,7,77.00, 2]))"
   ]
  },
  {
   "cell_type": "markdown",
   "metadata": {},
   "source": [
    "## Tuples\n",
    "\n",
    "Tuples are very much like _lists_, except that they are _immutable_, they cannot be changed. Tuples are often denoted by the parentheses `(` and `)`. This can sometimes be confusing to people new to Python. Depending on the context the parentheses can be omitted.\n",
    "\n",
    "Tuples behave very much like lists, as is shown below."
   ]
  },
  {
   "cell_type": "code",
   "execution_count": 10,
   "metadata": {
    "collapsed": false,
    "scrolled": true
   },
   "outputs": [
    {
     "name": "stdout",
     "output_type": "stream",
     "text": [
      "the length of my_tuple: 4\n",
      "the first element of my_tuple: 1\n"
     ]
    }
   ],
   "source": [
    "my_tuple = (1,2,3,4)\n",
    "\n",
    "print('the length of my_tuple: ' + str( len(my_tuple) ) )\n",
    "print('the first element of my_tuple: ' + str( my_tuple[0] ) )"
   ]
  },
  {
   "cell_type": "markdown",
   "metadata": {},
   "source": [
    "Tuples are immutable, so we can not replace existing elements:"
   ]
  },
  {
   "cell_type": "code",
   "execution_count": 11,
   "metadata": {
    "collapsed": false
   },
   "outputs": [
    {
     "name": "stdout",
     "output_type": "stream",
     "text": [
      "cannot modify tuple elements!\n",
      "my_tuple[2]: 3\n"
     ]
    }
   ],
   "source": [
    "try:\n",
    "    my_tuple[2] = 9 # this will throw a TypeError\n",
    "except TypeError:\n",
    "    print(\"cannot modify tuple elements!\")\n",
    "    \n",
    "print(\"my_tuple[2]: \" + str( my_tuple[2] ) )"
   ]
  },
  {
   "cell_type": "markdown",
   "metadata": {},
   "source": [
    "Tuples also lack the `append` method to add elements:"
   ]
  },
  {
   "cell_type": "code",
   "execution_count": 12,
   "metadata": {
    "collapsed": false
   },
   "outputs": [
    {
     "name": "stdout",
     "output_type": "stream",
     "text": [
      "cannot append to a tuple!\n",
      "my_tuple: (1, 2, 3, 4)\n"
     ]
    }
   ],
   "source": [
    "try:\n",
    "    my_tuple.append(5) # this will throw an AttributeError\n",
    "except AttributeError:\n",
    "    print(\"cannot append to a tuple!\")\n",
    "\n",
    "print(\"my_tuple: \" + str(my_tuple) )"
   ]
  },
  {
   "cell_type": "markdown",
   "metadata": {},
   "source": [
    "We can build lists where the list elements are tuples and select them on basis of their index."
   ]
  },
  {
   "cell_type": "code",
   "execution_count": 13,
   "metadata": {
    "collapsed": false
   },
   "outputs": [
    {
     "name": "stdout",
     "output_type": "stream",
     "text": [
      "the first tuple is: ('a', 'b')\n"
     ]
    }
   ],
   "source": [
    "# A list of tuples\n",
    "tuple_list = [('a','b'), (3,4), ('Z', 42)]\n",
    "\n",
    "# Select the first tuple in the list\n",
    "print('the first tuple is: ' + str(tuple_list[0]))"
   ]
  },
  {
   "cell_type": "code",
   "execution_count": 14,
   "metadata": {
    "collapsed": false
   },
   "outputs": [
    {
     "name": "stdout",
     "output_type": "stream",
     "text": [
      "the first element of the first tuple is: a\n"
     ]
    }
   ],
   "source": [
    "# Select the first element of the first tuple of the list\n",
    "print('the first element of the first tuple is: ' + tuple_list[0][0] )"
   ]
  },
  {
   "cell_type": "code",
   "execution_count": null,
   "metadata": {
    "collapsed": false
   },
   "outputs": [],
   "source": [
    "# TODO: Replace <FILL IN> with appropriate code\n",
    "\n",
    "# Print the second element of the third tuple\n",
    "print(<FILL IN>)"
   ]
  },
  {
   "cell_type": "markdown",
   "metadata": {},
   "source": [
    "## Dictionaries\n",
    "\n",
    "Dictionaries are very similar to `Maps` in Java. They are unordered collections of key-value pairs. The key is used to retrieve the related value from the dictionary.\n",
    "\n",
    "To index a dictionary by a key we use the same bracketed notion as with lists, but here the key instead of the offset is used."
   ]
  },
  {
   "cell_type": "code",
   "execution_count": 15,
   "metadata": {
    "collapsed": false
   },
   "outputs": [
    {
     "name": "stdout",
     "output_type": "stream",
     "text": [
      "John lives in New York and is 29 years old.\n"
     ]
    }
   ],
   "source": [
    "my_dict = {'name' : 'John',\n",
    "           'age' : 29}\n",
    "\n",
    "my_dict['city'] = 'New York'\n",
    "\n",
    "print(my_dict['name'] + ' lives in ' + my_dict['city'] + ' and is ' + str(my_dict['age']) + ' years old.')"
   ]
  },
  {
   "cell_type": "markdown",
   "metadata": {},
   "source": [
    "## Functions\n",
    "\n",
    "You can define functions in Python, similar to other languages. We assume you are familiar with the concept of a function in programming languages.\n",
    "\n",
    "There are two basic ways to define a function. The first is by using the `def` keyword and a name for the function, followed by arguments and `:`. The keyword `return` is used to return the value.\n",
    "\n",
    "Here we see another feature of Python: code blocks are indicated by indentation (similar to `{` and `}` in Java); a code block starts by indenting a statement and continues while the indentation does not return to the indentation level before the start of the code block. It is common practice to use a `tab` for indentation (which is expanded to 4 spaces). You have to use the indentation consistently, and you cannot use indentation to markup your code!"
   ]
  },
  {
   "cell_type": "code",
   "execution_count": 16,
   "metadata": {
    "collapsed": false
   },
   "outputs": [
    {
     "name": "stdout",
     "output_type": "stream",
     "text": [
      "the product of 3 and 2 is: 6\n"
     ]
    }
   ],
   "source": [
    "# We define a function called times, which takes two integers and returns their product\n",
    "def times(x, y):\n",
    "    return x * y\n",
    "\n",
    "p = times(3, 2)\n",
    "\n",
    "print('the product of 3 and 2 is: ' + str(p))"
   ]
  },
  {
   "cell_type": "markdown",
   "metadata": {},
   "source": [
    "## Lambda functions\n",
    "\n",
    "There is another way of defining functions, called _lambda_ or _anonymous_ functions. The term lambda comes from the field of lambda calculus, which is a branch of mathematics. Lambda functions play a large role in functional programming languages.\n",
    "\n",
    "Both MapReduce and Spark have taken their inspiration from functional programming and hence understanding lambda functions will help you to understand MapReduce and Spark, and to write very efficient code.\n",
    "\n",
    "Lambda functions are anonymous functions, that is functions without a name. The keyword `lambda` simply denotes that a function is defined, by stating a parameter list, a colon, and a single expression (without return).\n",
    "\n",
    "Finally, both lambda functions and normally defined function (using `def`) can be assigned to variables, to pass a function as a parameter to another function, but also to use as the name of the function.\n",
    "\n",
    "Let's look at an example."
   ]
  },
  {
   "cell_type": "code",
   "execution_count": 17,
   "metadata": {
    "collapsed": false
   },
   "outputs": [
    {
     "name": "stdout",
     "output_type": "stream",
     "text": [
      "the product of 2 and 3 is: 6\n"
     ]
    }
   ],
   "source": [
    "# This lambda function has two arguments x and y which are multiplied\n",
    "#  Note that there is no return statement and that the function is assigned to the variable l_times\n",
    "#  The : separates the arguments from the body of the function\n",
    "l_times = lambda x,y: x * y\n",
    "\n",
    "# Next we call the function by using the variable as a function\n",
    "result = l_times(2,3)\n",
    "\n",
    "print('the product of 2 and 3 is: ' + str(result))"
   ]
  },
  {
   "cell_type": "markdown",
   "metadata": {
    "collapsed": true
   },
   "source": [
    "## Lambda function exercise\n",
    "\n",
    "Next, define a lambda function which adds two numbers. Then execute the function on the integers 7 and 9 and print the result."
   ]
  },
  {
   "cell_type": "code",
   "execution_count": null,
   "metadata": {
    "collapsed": false
   },
   "outputs": [],
   "source": [
    "# TODO: Replace <FILL IN> with appropriate code\n",
    "\n",
    "# A lambda function to add two numbers\n",
    "my_add = lambda <FILL_IN>\n",
    "\n",
    "# Add two numbers using the function just defined\n",
    "result = <FILL IN>\n",
    "\n",
    "print(str(result))"
   ]
  },
  {
   "cell_type": "markdown",
   "metadata": {},
   "source": [
    "## Map and Reduce\n",
    "\n",
    "Map and Reduce are essential functions found in _functional languages_ (e.g. Haskell, Scala, Python). On a distributed framework (e.g. Hadoop, Spark) Map and Reduce are commonly used to transparently speed up the processing by using a cluster of computers. We will look at distributed processing in the next lessons, but first introduce the essentials of Map and Reduce in Python. \n",
    "\n",
    "`Map` is a function that executes another function on all elements in a collection. The `map` function takes two arguments: a function and a collection. `Map` applies the function (its first argument) to every element of the collection (its second argument). For example, `mapping` the function `squared` to the collection `[2, 4, 7]` results in `[squared(2), squared(4), squared(7)]`. \n",
    "\n",
    "In the next cell we show how this works.\n",
    "We define a list called `celsius` which contains a number of temperature measures in degrees Celsius. We are going to convert this list to degrees Fahrenheit.\n",
    "\n",
    "For this we write a function which will convert a single degree Celsius into Fahrenheit.  We then call `map` to apply this function to all elements of the list `celsius`."
   ]
  },
  {
   "cell_type": "code",
   "execution_count": 18,
   "metadata": {
    "collapsed": false
   },
   "outputs": [
    {
     "name": "stdout",
     "output_type": "stream",
     "text": [
      "[102.56, 97.7, 99.14, 100.03999999999999]\n"
     ]
    }
   ],
   "source": [
    "# A list of temperature measures in degrees Celsius\n",
    "celsius = [39.2, 36.5, 37.3, 37.8]\n",
    "\n",
    "# A lambda function defining the conversion from a degree in Celsius to one in Fahrenheit\n",
    "convert = lambda x: (float(9)/5)*x + 32\n",
    "\n",
    "# By using map we apply the function to every element of the list celsius\n",
    "fahrenheit = list(map(convert, celsius))\n",
    "\n",
    "# We can do exactly the same by using the lambda expression inside the map statement directly\n",
    "# fahrenheit = map(lambda x: (float(9)/5)*x + 32, celsius)\n",
    "print(fahrenheit)"
   ]
  },
  {
   "cell_type": "markdown",
   "metadata": {},
   "source": [
    "We do not have to use lambda functions here. We can define the convert function using `def` and use the name of the function as the first argument for map. Let's see how this works:"
   ]
  },
  {
   "cell_type": "code",
   "execution_count": 19,
   "metadata": {
    "collapsed": false
   },
   "outputs": [
    {
     "name": "stdout",
     "output_type": "stream",
     "text": [
      "[102.56, 97.7, 99.14, 100.03999999999999]\n"
     ]
    }
   ],
   "source": [
    "# We define the same function as in the previous cell, now using def\n",
    "def convert_def(x):\n",
    "    fahr = (float(9)/5)*x + 32\n",
    "    return fahr\n",
    "\n",
    "# Let's use it in map on the celsius list\n",
    "fahrenheit = list( map(convert_def, celsius) )\n",
    "print(fahrenheit)"
   ]
  },
  {
   "cell_type": "markdown",
   "metadata": {},
   "source": [
    "**Important**: notice that there is a `list` function to convert the result of `map` into a list. Python allows to use **lazy evaluation** (which we will talk about more), which means that a result is only computed when needed, saving time and memory when not all results are needed. Consider the difference between the next two statements:"
   ]
  },
  {
   "cell_type": "code",
   "execution_count": 20,
   "metadata": {
    "collapsed": false
   },
   "outputs": [
    {
     "name": "stdout",
     "output_type": "stream",
     "text": [
      "<map object at 0x1050ffd30>\n",
      "[102.56, 97.7, 99.14, 100.03999999999999]\n"
     ]
    }
   ],
   "source": [
    "print(map(convert_def, celsius))\n",
    "print(list(map(convert_def, celsius)))"
   ]
  },
  {
   "cell_type": "markdown",
   "metadata": {},
   "source": [
    "The `map` function does not return a list, but rather a _generator_ that can be iterated over to obtain the results. The `list` function iterates over the generator in order to create the list, thus requesting the evaluation of every element. Lazy evaluation can save time and memory when we do not need the entire result set but only want to use the first few results. More importantly, for parallel processing, lazy evaluation allows Spark to first define a complex processing pipeline, which is optimized (by Spark) before it is executed. "
   ]
  },
  {
   "cell_type": "markdown",
   "metadata": {},
   "source": [
    "Next, let us look at **Reduce**. Python also has a function called `reduce` which takes as its first argument a function, and as a second argument a list. The function has to have two arguments.\n",
    "\n",
    "`Reduce` will then apply the function to the first two elements of the list and use this result together with the next item in the list to compute the next step. This procedure is repeated until the entire list is traversed.\n",
    "\n",
    "For example, suppose we want to add up all elements of the list `[47, 11, 42, 13]` then we write a function which will add up two integers, and we will call `reduce`. `Reduce` will then proceed as depicted in the picture below:\n",
    "\n",
    "![python reduce](images/reduce.png)\n",
    "\n",
    "As a final exercise, before we move to Spark, we are going to compute the mean of the Fahrenheit list, using reduce."
   ]
  },
  {
   "cell_type": "code",
   "execution_count": null,
   "metadata": {
    "collapsed": false
   },
   "outputs": [],
   "source": [
    "# TODO: Replace <FILL IN> with appropriate code\n",
    "from functools import reduce\n",
    "\n",
    "# First write a lambda function which adds up two elements\n",
    "sum_up = <FILL IN>\n",
    "\n",
    "# Use reduce to sum up the elements in fahrenheit\n",
    "total = reduce(<FILL IN>)\n",
    "\n",
    "# Divide total by the length of the list fahrenheit\n",
    "# Use the division operator /\n",
    "mean = total / len(fahrenheit)\n",
    "print('the mean temperature is: ' + str(mean))"
   ]
  },
  {
   "cell_type": "markdown",
   "metadata": {},
   "source": [
    "## Parallel Processing\n",
    "\n",
    "The `map` and `reduce` functions are essential to parallel processing, performing the same function on multiple processors that each hold a part of the the data (e.g. a part of a list of elements). Additionally, since a program is often tiny compared to the volume of the data to be processed, sending the program to the data is often much more efficient than sending the data to a program. By itself, Python does not process data in parallel (unless you code it yourself), but when Python is used in with Spark parallel processing is used automatically and transparently, as we will see in the upcoming workbooks.  "
   ]
  },
  {
   "cell_type": "markdown",
   "metadata": {},
   "source": [
    "## Interactive Help\n",
    "\n",
    "Python provides an interactive help you can use within a notebook. Use the help() function to open the interactive help, and for instance to get help on the `if` statement. Give the help() function a variable as parameter to learn more about the object it contains and the methods you can use on it. "
   ]
  },
  {
   "cell_type": "code",
   "execution_count": 21,
   "metadata": {
    "collapsed": false
   },
   "outputs": [
    {
     "name": "stdout",
     "output_type": "stream",
     "text": [
      "Help on list object:\n",
      "\n",
      "class list(object)\n",
      " |  list() -> new empty list\n",
      " |  list(iterable) -> new list initialized from iterable's items\n",
      " |  \n",
      " |  Methods defined here:\n",
      " |  \n",
      " |  __add__(self, value, /)\n",
      " |      Return self+value.\n",
      " |  \n",
      " |  __contains__(self, key, /)\n",
      " |      Return key in self.\n",
      " |  \n",
      " |  __delitem__(self, key, /)\n",
      " |      Delete self[key].\n",
      " |  \n",
      " |  __eq__(self, value, /)\n",
      " |      Return self==value.\n",
      " |  \n",
      " |  __ge__(self, value, /)\n",
      " |      Return self>=value.\n",
      " |  \n",
      " |  __getattribute__(self, name, /)\n",
      " |      Return getattr(self, name).\n",
      " |  \n",
      " |  __getitem__(...)\n",
      " |      x.__getitem__(y) <==> x[y]\n",
      " |  \n",
      " |  __gt__(self, value, /)\n",
      " |      Return self>value.\n",
      " |  \n",
      " |  __iadd__(self, value, /)\n",
      " |      Implement self+=value.\n",
      " |  \n",
      " |  __imul__(self, value, /)\n",
      " |      Implement self*=value.\n",
      " |  \n",
      " |  __init__(self, /, *args, **kwargs)\n",
      " |      Initialize self.  See help(type(self)) for accurate signature.\n",
      " |  \n",
      " |  __iter__(self, /)\n",
      " |      Implement iter(self).\n",
      " |  \n",
      " |  __le__(self, value, /)\n",
      " |      Return self<=value.\n",
      " |  \n",
      " |  __len__(self, /)\n",
      " |      Return len(self).\n",
      " |  \n",
      " |  __lt__(self, value, /)\n",
      " |      Return self<value.\n",
      " |  \n",
      " |  __mul__(self, value, /)\n",
      " |      Return self*value.n\n",
      " |  \n",
      " |  __ne__(self, value, /)\n",
      " |      Return self!=value.\n",
      " |  \n",
      " |  __new__(*args, **kwargs) from builtins.type\n",
      " |      Create and return a new object.  See help(type) for accurate signature.\n",
      " |  \n",
      " |  __repr__(self, /)\n",
      " |      Return repr(self).\n",
      " |  \n",
      " |  __reversed__(...)\n",
      " |      L.__reversed__() -- return a reverse iterator over the list\n",
      " |  \n",
      " |  __rmul__(self, value, /)\n",
      " |      Return self*value.\n",
      " |  \n",
      " |  __setitem__(self, key, value, /)\n",
      " |      Set self[key] to value.\n",
      " |  \n",
      " |  __sizeof__(...)\n",
      " |      L.__sizeof__() -- size of L in memory, in bytes\n",
      " |  \n",
      " |  append(...)\n",
      " |      L.append(object) -> None -- append object to end\n",
      " |  \n",
      " |  clear(...)\n",
      " |      L.clear() -> None -- remove all items from L\n",
      " |  \n",
      " |  copy(...)\n",
      " |      L.copy() -> list -- a shallow copy of L\n",
      " |  \n",
      " |  count(...)\n",
      " |      L.count(value) -> integer -- return number of occurrences of value\n",
      " |  \n",
      " |  extend(...)\n",
      " |      L.extend(iterable) -> None -- extend list by appending elements from the iterable\n",
      " |  \n",
      " |  index(...)\n",
      " |      L.index(value, [start, [stop]]) -> integer -- return first index of value.\n",
      " |      Raises ValueError if the value is not present.\n",
      " |  \n",
      " |  insert(...)\n",
      " |      L.insert(index, object) -- insert object before index\n",
      " |  \n",
      " |  pop(...)\n",
      " |      L.pop([index]) -> item -- remove and return item at index (default last).\n",
      " |      Raises IndexError if list is empty or index is out of range.\n",
      " |  \n",
      " |  remove(...)\n",
      " |      L.remove(value) -> None -- remove first occurrence of value.\n",
      " |      Raises ValueError if the value is not present.\n",
      " |  \n",
      " |  reverse(...)\n",
      " |      L.reverse() -- reverse *IN PLACE*\n",
      " |  \n",
      " |  sort(...)\n",
      " |      L.sort(key=None, reverse=False) -> None -- stable sort *IN PLACE*\n",
      " |  \n",
      " |  ----------------------------------------------------------------------\n",
      " |  Data and other attributes defined here:\n",
      " |  \n",
      " |  __hash__ = None\n",
      "\n"
     ]
    }
   ],
   "source": [
    "help(fahrenheit)"
   ]
  },
  {
   "cell_type": "code",
   "execution_count": 22,
   "metadata": {
    "collapsed": false
   },
   "outputs": [
    {
     "name": "stdout",
     "output_type": "stream",
     "text": [
      "\n",
      "Welcome to Python 3.5's help utility!\n",
      "\n",
      "If this is your first time using Python, you should definitely check out\n",
      "the tutorial on the Internet at http://docs.python.org/3.5/tutorial/.\n",
      "\n",
      "Enter the name of any module, keyword, or topic to get help on writing\n",
      "Python programs and using Python modules.  To quit this help utility and\n",
      "return to the interpreter, just type \"quit\".\n",
      "\n",
      "To get a list of available modules, keywords, symbols, or topics, type\n",
      "\"modules\", \"keywords\", \"symbols\", or \"topics\".  Each module also comes\n",
      "with a one-line summary of what it does; to list the modules whose name\n",
      "or summary contain a given string such as \"spam\", type \"modules spam\".\n",
      "\n",
      "\n",
      "You are now leaving help and returning to the Python interpreter.\n",
      "If you want to ask for help on a particular object directly from the\n",
      "interpreter, you can type \"help(object)\".  Executing \"help('string')\"\n",
      "has the same effect as typing a particular string at the help> prompt.\n"
     ]
    }
   ],
   "source": [
    "help()"
   ]
  }
 ],
 "metadata": {
  "kernelspec": {
   "display_name": "Python 3",
   "language": "python",
   "name": "python3"
  },
  "language_info": {
   "codemirror_mode": {
    "name": "ipython",
    "version": 3
   },
   "file_extension": ".py",
   "mimetype": "text/x-python",
   "name": "python",
   "nbconvert_exporter": "python",
   "pygments_lexer": "ipython3",
   "version": "3.5.1"
  }
 },
 "nbformat": 4,
 "nbformat_minor": 0
}
