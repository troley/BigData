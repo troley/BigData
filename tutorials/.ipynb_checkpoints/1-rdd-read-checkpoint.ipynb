{
 "cells": [
  {
   "cell_type": "markdown",
   "metadata": {},
   "source": [
    "# RDD basics"
   ]
  },
  {
   "cell_type": "markdown",
   "metadata": {},
   "source": [
    "This notebook will introduce essential Spark operations, to work with data. The data is read into a distributed dataset, then information can be extracted by defining a (chain) of **transformation** function(s) that process the data and finally an **action** function that extracts the information.    "
   ]
  },
  {
   "cell_type": "markdown",
   "metadata": {},
   "source": [
    "## Data containers"
   ]
  },
  {
   "cell_type": "markdown",
   "metadata": {},
   "source": [
    "Spark has two main types of data containers (formally these are API's).\n",
    "\n",
    "(1) an **RDD** or Resilient Distributed Dataset, which is an immutable distributed collection of elements of your data, partitioned across nodes in your cluster that can be operated in parallel with a low-level API that offers *transformations* and *actions*. Since they are immutable, every tranformation can be seen as an operation that generates a new RDD and action as an operation that generates a result. \n",
    "\n",
    "(2) a **Dataframe** is an immutable distributed collection of data. Unlike an RDD, data is organized into named columns, like a table in a relational database. Designed to make large data sets processing even easier, DataFrame allows developers to impose a structure onto a distributed collection of data, allowing higher-level abstraction "
   ]
  },
  {
   "cell_type": "markdown",
   "metadata": {},
   "source": [
    "## Creating an RDD"
   ]
  },
  {
   "cell_type": "markdown",
   "metadata": {},
   "source": [
    "You can create an RDD from memory using the **parallelize(collection)** on the SparkContext (usually abbreviated as `sc`). We can use **collect()** to retrieve a Dataframe with all elements from an RDD."
   ]
  },
  {
   "cell_type": "code",
   "execution_count": 1,
   "metadata": {
    "collapsed": false
   },
   "outputs": [
    {
     "data": {
      "text/plain": [
       "[('Peter', 3), ('Mike', 2), ('John', 5)]"
      ]
     },
     "execution_count": 1,
     "metadata": {},
     "output_type": "execute_result"
    }
   ],
   "source": [
    "nameages = sc.parallelize([('Peter', 3), ('Mike', 2), ('John', 5)])\n",
    "nameages.collect()"
   ]
  },
  {
   "cell_type": "markdown",
   "metadata": {},
   "source": [
    "## Reading data into an RDD"
   ]
  },
  {
   "cell_type": "markdown",
   "metadata": {},
   "source": [
    "Alternatively, an RDD can be read from files. For this example, first download a csv file that contains how often babies received a given name. Pythons urllib can be used to download a URL and store the downloaded file on disk."
   ]
  },
  {
   "cell_type": "code",
   "execution_count": 2,
   "metadata": {
    "collapsed": false
   },
   "outputs": [],
   "source": [
    "import urllib.request\n",
    "f = urllib.request.urlretrieve (\"https://health.data.ny.gov/api/views/jxy9-yhdk/rows.csv?accessType=DOWNLOAD\", \\\n",
    "                                \"../data/babynames.csv\")"
   ]
  },
  {
   "cell_type": "markdown",
   "metadata": {},
   "source": [
    "There are a few options to read textfiles in Spark. The first is using the `textFile()` method of the SparkContext (abbreviated as `sc`). "
   ]
  },
  {
   "cell_type": "markdown",
   "metadata": {},
   "source": [
    "We can view a sample from the RDD with the **take(n)** action, which shows the first n elements. TextFile() simply uses every line in the file as a string element. "
   ]
  },
  {
   "cell_type": "code",
   "execution_count": 3,
   "metadata": {
    "collapsed": false
   },
   "outputs": [
    {
     "name": "stdout",
     "output_type": "stream",
     "text": [
      "['Year,First Name,County,Sex,Count', '2013,GAVIN,ST LAWRENCE,M,9', '2013,LEVI,ST LAWRENCE,M,9', '2013,LOGAN,NEW YORK,M,44', '2013,HUDSON,NEW YORK,M,49']\n"
     ]
    }
   ],
   "source": [
    "babyrddprimitive = sc.textFile(\"../data/babynames.csv\")\n",
    "print(babyrddprimitive.take(5))"
   ]
  },
  {
   "cell_type": "markdown",
   "metadata": {},
   "source": [
    "We can use a transformation to remove the first line. The action **first()** returns the first element from the RDD, which is the line with the header. The transformation **filter(condition)** evaluates the condition for every element and only keeps the elements for which the condition is true. For the *condition*, we pass a function that accepts a single element as a parameter and returns a boolean. This can be a regular Python function that is described by a *def* but we will often use **lambda function**s, which is a short way to describe an anonymous function with the parameter being the part before the colon, and the result the part after the colon."
   ]
  },
  {
   "cell_type": "code",
   "execution_count": 4,
   "metadata": {
    "collapsed": false
   },
   "outputs": [
    {
     "name": "stdout",
     "output_type": "stream",
     "text": [
      "['2013,GAVIN,ST LAWRENCE,M,9', '2013,LEVI,ST LAWRENCE,M,9', '2013,LOGAN,NEW YORK,M,44', '2013,HUDSON,NEW YORK,M,49', '2013,GABRIEL,NEW YORK,M,50']\n"
     ]
    }
   ],
   "source": [
    "firstline = babyrddprimitive.first()\n",
    "babyrddnofirstline = babyrddprimitive.filter(lambda x: x != firstline)\n",
    "print(babyrddnofirstline.take(5))"
   ]
  },
  {
   "cell_type": "markdown",
   "metadata": {},
   "source": [
    "Then to transform every element into a list of column values, we can just use the python **split** function, using a \",\" as the character to split every string. The **map(f)** transformation function, calls the function **f(element)** on every element, and stores the results returned by those function calls as a new RDD. Since the result of split() is a list of elements, in the resulting RDD every element is a list, resembling a two-dimensional list."
   ]
  },
  {
   "cell_type": "code",
   "execution_count": 5,
   "metadata": {
    "collapsed": false
   },
   "outputs": [
    {
     "name": "stdout",
     "output_type": "stream",
     "text": [
      "[['2013', 'GAVIN', 'ST LAWRENCE', 'M', '9'], ['2013', 'LEVI', 'ST LAWRENCE', 'M', '9'], ['2013', 'LOGAN', 'NEW YORK', 'M', '44'], ['2013', 'HUDSON', 'NEW YORK', 'M', '49'], ['2013', 'GABRIEL', 'NEW YORK', 'M', '50']]\n"
     ]
    }
   ],
   "source": [
    "babyrdd = babyrddnofirstline.map(lambda x: x.split(','))\n",
    "print(babyrdd.take(5))"
   ]
  },
  {
   "cell_type": "markdown",
   "metadata": {},
   "source": [
    "## Reading a Dataframe"
   ]
  },
  {
   "cell_type": "raw",
   "metadata": {},
   "source": [
    "Alternatively, we can use a CSV reader to read results in a DataFrame, the format that Spark uses to return results. "
   ]
  },
  {
   "cell_type": "code",
   "execution_count": 6,
   "metadata": {
    "collapsed": false,
    "scrolled": true
   },
   "outputs": [
    {
     "name": "stdout",
     "output_type": "stream",
     "text": [
      "[Row(Year='2013', First Name='GAVIN', County='ST LAWRENCE', Sex='M', Count='9'), Row(Year='2013', First Name='LEVI', County='ST LAWRENCE', Sex='M', Count='9'), Row(Year='2013', First Name='LOGAN', County='NEW YORK', Sex='M', Count='44'), Row(Year='2013', First Name='HUDSON', County='NEW YORK', Sex='M', Count='49'), Row(Year='2013', First Name='GABRIEL', County='NEW YORK', Sex='M', Count='50')]\n",
      "Row(Year='2013', First Name='GAVIN', County='ST LAWRENCE', Sex='M', Count='9')\n"
     ]
    }
   ],
   "source": [
    "babydf = spark.read.csv(\"babynames.csv\",header=True)\n",
    "print(babydf.take(5))\n",
    "print(babydf.first())"
   ]
  },
  {
   "cell_type": "markdown",
   "metadata": {},
   "source": [
    "Dataframes order the data in Rows, in which the values are named by the column. These rows can be used similar to Python dictionaries. By themselves Dataframes have a limited set of operations. To use the full capabilities of RDD's, Dataframes do however have an `.rdd` property allowing to use them as RDD.\n",
    "\n",
    "We can select only the male or female names by using a filter. In the lambda expression, every element x is a Row in the RDD, and in a Row we can address a value as described. The filter results in a new RDD of Rows, and then the map transforms every element by returning only the first name of every row. Thus the final result is an RDD of strings. "
   ]
  },
  {
   "cell_type": "code",
   "execution_count": 7,
   "metadata": {
    "collapsed": false
   },
   "outputs": [
    {
     "name": "stdout",
     "output_type": "stream",
     "text": [
      "['ELIZA', 'MADELEINE', 'ZARA', 'DAISY', 'JUDY']\n",
      "['GAVIN', 'LEVI', 'LOGAN', 'HUDSON', 'GABRIEL']\n"
     ]
    }
   ],
   "source": [
    "print(babydf.rdd.filter(lambda x: x[\"Sex\"] == 'F').map(lambda x: x[\"First Name\"]).take(5))\n",
    "print(babydf.rdd.filter(lambda x: x[\"Sex\"] == 'M').map(lambda x: x[\"First Name\"]).take(5))"
   ]
  },
  {
   "cell_type": "markdown",
   "metadata": {},
   "source": [
    "## RDD Operations"
   ]
  },
  {
   "cell_type": "markdown",
   "metadata": {},
   "source": [
    "All transformations in Spark are _lazy_, in that they do not compute their results right away. Instead, they just remember the transformations that are defined, and only computing these when an action requires a result to be returned to the driver program. This design enables Spark to run more efficiently. For example, we can realize that a dataset created through map will be used in a reduce and return only the result of the reduce to the driver, rather than the larger mapped dataset.\n",
    "\n",
    "By default, each transformed RDD may be recomputed each time you run an action on it. However, you may also persist an RDD in memory using the persist (or cache) method, in which case Spark will keep the elements around on the cluster for much faster access the next time you query it. There is also support for persisting RDDs on disk, or replicated across multiple nodes."
   ]
  }
 ],
 "metadata": {
  "kernelspec": {
   "display_name": "Python 3",
   "language": "python",
   "name": "python3"
  },
  "language_info": {
   "codemirror_mode": {
    "name": "ipython",
    "version": 3
   },
   "file_extension": ".py",
   "mimetype": "text/x-python",
   "name": "python",
   "nbconvert_exporter": "python",
   "pygments_lexer": "ipython3",
   "version": "3.5.1"
  }
 },
 "nbformat": 4,
 "nbformat_minor": 0
}
