{
 "cells": [
  {
   "cell_type": "markdown",
   "metadata": {},
   "source": [
    "# Spark SQL and Data Frames"
   ]
  },
  {
   "cell_type": "markdown",
   "metadata": {},
   "source": [
    "It is very easy to express data queries when used together with the SQL language. Moreover, Spark distributes this column-based data structure transparently, in order to make the querying process as efficient as possible.      "
   ]
  },
  {
   "cell_type": "code",
   "execution_count": 3,
   "metadata": {
    "collapsed": false
   },
   "outputs": [],
   "source": [
    "f = sqlContext.read.format(\"com.databricks.spark.csv\").\\\n",
    "    options(header=\"true\", inferSchema = \"true\").load(\"2008.csv.bz2\")"
   ]
  },
  {
   "cell_type": "markdown",
   "metadata": {},
   "source": [
    "Once we have our RDD of `Row` we can infer and register the schema.  "
   ]
  },
  {
   "cell_type": "code",
   "execution_count": 4,
   "metadata": {
    "collapsed": false
   },
   "outputs": [],
   "source": [
    "f.registerTempTable(\"flights\")"
   ]
  },
  {
   "cell_type": "markdown",
   "metadata": {},
   "source": [
    "Now we can run SQL queries over our data frame that has been registered as a table.  "
   ]
  },
  {
   "cell_type": "code",
   "execution_count": 9,
   "metadata": {
    "collapsed": false
   },
   "outputs": [
    {
     "name": "stdout",
     "output_type": "stream",
     "text": [
      "+---------+--------+-------------------+\n",
      "|FlightNum|count(1)|           depdelay|\n",
      "+---------+--------+-------------------+\n",
      "|     1580|    2774|  5.152813067150635|\n",
      "|      463|    2302| 14.447111111111111|\n",
      "|     2366|    1142| 11.769848349687779|\n",
      "|      496|    1946|  9.009926854754442|\n",
      "|     3918|     618| 10.884176182707993|\n",
      "|      833|    1288|   8.92992125984252|\n",
      "|     1829|    1106| 17.716390423572744|\n",
      "|      148|    2802|  9.228706052917724|\n",
      "|     2866|    1008| 18.221319796954315|\n",
      "|      471|    3225|  5.617600506489396|\n",
      "|     1238|    1559| 10.777195281782438|\n",
      "|     1342|     853|  8.573317307692308|\n",
      "|     3749|    1252| 10.520714865962631|\n",
      "|     1088|    1945|  9.558407543216344|\n",
      "|     1591|    1813|  10.27054220234768|\n",
      "|     2122|    1092|  4.594876660341556|\n",
      "|     7754|     358|-1.1424581005586592|\n",
      "|     2659|    1099|  4.149672591206735|\n",
      "|     2142|     708|  4.923076923076923|\n",
      "|     7240|     363| 13.161016949152541|\n",
      "+---------+--------+-------------------+\n",
      "only showing top 20 rows\n",
      "\n"
     ]
    }
   ],
   "source": [
    "# Select tcp network interactions with more than 1 second duration and no transfer from destination\n",
    "numflights = sqlContext.sql(\"\"\"\n",
    "    SELECT FlightNum, count(*), avg(DepDelay) as depdelay\n",
    "    FROM flights GROUP BY FlightNum\n",
    "\"\"\")\n",
    "numflights.show()"
   ]
  },
  {
   "cell_type": "markdown",
   "metadata": {},
   "source": [
    "The results of SQL queries are DataFrames which can be processed further using the DataFrame API.  "
   ]
  }
 ],
 "metadata": {
  "kernelspec": {
   "display_name": "Python 3",
   "language": "python",
   "name": "python3"
  },
  "language_info": {
   "codemirror_mode": {
    "name": "ipython",
    "version": 3
   },
   "file_extension": ".py",
   "mimetype": "text/x-python",
   "name": "python",
   "nbconvert_exporter": "python",
   "pygments_lexer": "ipython3",
   "version": "3.5.1"
  }
 },
 "nbformat": 4,
 "nbformat_minor": 0
}
