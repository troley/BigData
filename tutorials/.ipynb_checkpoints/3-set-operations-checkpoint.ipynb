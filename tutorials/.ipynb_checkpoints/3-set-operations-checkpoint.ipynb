{
 "cells": [
  {
   "cell_type": "markdown",
   "metadata": {},
   "source": [
    "# Set operations on RDDs"
   ]
  },
  {
   "cell_type": "markdown",
   "metadata": {},
   "source": [
    "Spark support several operations from set theorie, such as **union**, **subtract**, **intersect**. However, different from mathmetics and other programming languages, spark does not garantee unique elements, nor check for duplicates unless the **distinct()** transformation is used. "
   ]
  },
  {
   "cell_type": "code",
   "execution_count": 1,
   "metadata": {
    "collapsed": false
   },
   "outputs": [],
   "source": [
    "#import urllib.request\n",
    "#f = urllib.request.urlretrieve (\"https://health.data.ny.gov/api/views/jxy9-yhdk/rows.csv?accessType=DOWNLOAD\", \\\n",
    "#                                \"babynames.csv\")\n",
    "def readCSV(fname, header=False, separator=','):\n",
    "    rdd = sc.textFile(fname)\n",
    "    if header:\n",
    "        firstline = rdd.first()\n",
    "        rdd = rdd.filter(lambda x: x != firstline)\n",
    "    return rdd.map(lambda x: x.split(separator))\n",
    "\n",
    "babyrdd = readCSV(\"babynames.csv\", header=True)"
   ]
  },
  {
   "cell_type": "markdown",
   "metadata": {},
   "source": [
    "## `Subtract`"
   ]
  },
  {
   "cell_type": "markdown",
   "metadata": {},
   "source": [
    "We can combine filters in one function using Pythons *and* operator. Every element x is a row, and the first name x[1] is a string. In Python strings can simply be addressed as lists of characters, therefore x[1][0] corresponds to the first letter of the first name of an element x. The comparison to 'L' filters out first names up to 'L'."
   ]
  },
  {
   "cell_type": "code",
   "execution_count": 2,
   "metadata": {
    "collapsed": false
   },
   "outputs": [
    {
     "name": "stdout",
     "output_type": "stream",
     "text": [
      "[['2013', 'THEODORE', 'NEW YORK', 'M', '51'], ['2013', 'MASON', 'ST LAWRENCE', 'M', '8'], ['2013', 'NOAH', 'ST LAWRENCE', 'M', '8'], ['2013', 'SEBASTIAN', 'NEW YORK', 'M', '57'], ['2013', 'SAMUEL', 'NEW YORK', 'M', '59']]\n"
     ]
    }
   ],
   "source": [
    "male_first_half = babyrdd.filter(lambda x: x[3] == 'M' and x[1][0] > 'L')\n",
    "print(male_first_half.take(5))"
   ]
  },
  {
   "cell_type": "markdown",
   "metadata": {},
   "source": [
    "RDD's also support some set operations, such as subtract and union. The set operation subtract `A - B` contains all elements in `A` except those that are in `B`. **subtract** needs elements that are comparable, or when working with (key, value) pairs **subtractByKey** needs a key that is comparable. In this example we will generate a comparable key by using the str function on each element. The end result contains records of female names or male names before `'K'`. After the subtract, we map every element `x` back to its value `x[1]` only, which is the original record in babyrdd."
   ]
  },
  {
   "cell_type": "code",
   "execution_count": 3,
   "metadata": {
    "collapsed": false
   },
   "outputs": [
    {
     "name": "stdout",
     "output_type": "stream",
     "text": [
      "[['2007', 'CLARE', 'ERIE', 'F', '6'], ['2012', 'LOGAN', 'ONTARIO', 'M', '11'], ['2012', 'LUCY', 'KINGS', 'F', '21'], ['2008', 'SYDNEY', 'WESTCHESTER', 'F', '15'], ['2011', 'LUCA', 'QUEENS', 'M', '21']]\n"
     ]
    }
   ],
   "source": [
    "babykv = babyrdd.map(lambda x: (str(x), x))\n",
    "males = male_first_half.map(lambda x: (str(x), x))\n",
    "f = babykv.subtractByKey(males)\n",
    "print(f.map(lambda x: x[1]).take(5))"
   ]
  },
  {
   "cell_type": "markdown",
   "metadata": {},
   "source": [
    "## Union"
   ]
  },
  {
   "cell_type": "markdown",
   "metadata": {},
   "source": [
    "In Spark, the **union** transformation can be used to combine two RDD's into one. In contrast to subtract, in Spark **union** is not a true set operatation in the sense that it does not remove duplicates, therefore `a.union(b).count() == a.count() + b.count()`. Union does not care about the types or structure of elements, the new RDD contains all elements even if they have different types."
   ]
  },
  {
   "cell_type": "code",
   "execution_count": 4,
   "metadata": {
    "collapsed": false
   },
   "outputs": [
    {
     "name": "stdout",
     "output_type": "stream",
     "text": [
      "52252 104504\n"
     ]
    }
   ],
   "source": [
    "f = babykv.union(babykv)\n",
    "print(babykv.count(), f.count())"
   ]
  },
  {
   "cell_type": "markdown",
   "metadata": {},
   "source": [
    "## Intersection"
   ]
  },
  {
   "cell_type": "markdown",
   "metadata": {},
   "source": [
    "The **intersection** tranformation between two RDDs results in an RDD that contains only the elements that appear in both. To use intersect, the entire elements must be hashable and comparable."
   ]
  },
  {
   "cell_type": "code",
   "execution_count": 5,
   "metadata": {
    "collapsed": false
   },
   "outputs": [
    {
     "name": "stdout",
     "output_type": "stream",
     "text": [
      "['AIDEN', 'GABRIEL', 'MILO', 'JAYDEN', 'JOSIAH']\n"
     ]
    }
   ],
   "source": [
    "males = babyrdd.filter(lambda x: x[3] == 'M').map(lambda x: x[1])\n",
    "newyork = babyrdd.filter(lambda x: x[2] == 'NEW YORK').map(lambda x: x[1])\n",
    "print(males.intersection(newyork).take(5))"
   ]
  }
 ],
 "metadata": {
  "kernelspec": {
   "display_name": "Python 3",
   "language": "python",
   "name": "python3"
  },
  "language_info": {
   "codemirror_mode": {
    "name": "ipython",
    "version": 3
   },
   "file_extension": ".py",
   "mimetype": "text/x-python",
   "name": "python",
   "nbconvert_exporter": "python",
   "pygments_lexer": "ipython3",
   "version": "3.5.1"
  }
 },
 "nbformat": 4,
 "nbformat_minor": 0
}
