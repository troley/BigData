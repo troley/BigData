{
 "cells": [
  {
   "cell_type": "markdown",
   "metadata": {},
   "source": [
    "# Key-Values"
   ]
  },
  {
   "cell_type": "markdown",
   "metadata": {},
   "source": [
    "## Custom function to read a flat text file into Spark"
   ]
  },
  {
   "cell_type": "markdown",
   "metadata": {},
   "source": [
    "First, lets setup an RDD to process the babyname data. We can use what we have learned previously to create a function that sets up an RDD for a multi-column flat text file."
   ]
  },
  {
   "cell_type": "code",
   "execution_count": 1,
   "metadata": {
    "collapsed": false
   },
   "outputs": [],
   "source": [
    "import urllib.request\n",
    "f = urllib.request.urlretrieve (\"https://health.data.ny.gov/api/views/jxy9-yhdk/rows.csv?accessType=DOWNLOAD\", \\\n",
    "                                \"babynames.csv\")\n",
    "def readCSV(fname, header=False, separator=','):\n",
    "    rdd = sc.textFile(fname)\n",
    "    if header:\n",
    "        firstline = rdd.first()\n",
    "        rdd = rdd.filter(lambda x: x != firstline)\n",
    "    return rdd.map(lambda x: x.split(separator))\n",
    "\n",
    "babyrdd = readCSV(\"babynames.csv\", header=True)"
   ]
  },
  {
   "cell_type": "code",
   "execution_count": 2,
   "metadata": {
    "collapsed": false
   },
   "outputs": [
    {
     "name": "stdout",
     "output_type": "stream",
     "text": [
      "['2013', 'GAVIN', 'ST LAWRENCE', 'M', '9']\n"
     ]
    }
   ],
   "source": [
    "print(babyrdd.first())"
   ]
  },
  {
   "cell_type": "markdown",
   "metadata": {},
   "source": [
    "## Count"
   ]
  },
  {
   "cell_type": "markdown",
   "metadata": {},
   "source": [
    "We can simply count the number of elements in an RDD using the action **count**. Note that since count is an action, the RDD is executed and the result is a value."
   ]
  },
  {
   "cell_type": "code",
   "execution_count": 3,
   "metadata": {
    "collapsed": false
   },
   "outputs": [
    {
     "name": "stdout",
     "output_type": "stream",
     "text": [
      "52252\n"
     ]
    }
   ],
   "source": [
    "print(babyrdd.count())"
   ]
  },
  {
   "cell_type": "markdown",
   "metadata": {},
   "source": [
    "Similarly, we can count how many Male and Female records there are in the dataset."
   ]
  },
  {
   "cell_type": "code",
   "execution_count": 4,
   "metadata": {
    "collapsed": false
   },
   "outputs": [
    {
     "name": "stdout",
     "output_type": "stream",
     "text": [
      "27622\n",
      "24630\n"
     ]
    }
   ],
   "source": [
    "print(babyrdd.filter(lambda x: x[3] == 'M').count())\n",
    "print(babyrdd.filter(lambda x: x[3] == 'F').count())"
   ]
  },
  {
   "cell_type": "markdown",
   "metadata": {},
   "source": [
    "## Key-Value pairs"
   ]
  },
  {
   "cell_type": "markdown",
   "metadata": {},
   "source": [
    "The most common **flow pattern** for distributed processing is the **Map-Reduce** pattern. (1) All elements in a dataset are first processed by a **map(e -> (k, v))** function, which consumes elements and results in **(key, value)** pairs. By protocol, the key-values identify which values go together, i.e. pairs that have the same key-value are considered values for the same key. (2) The (key, value) pairs that are produced by the map() function, are grouped by their key-values (often this is an implicit step, we do not have to specifically write instructions for this). (3) Per key-value, a **reduce( v1, v2 -> v )** function is called on two values `v1` and `v2`, and produces a single value `v` of the same type."
   ]
  },
  {
   "cell_type": "markdown",
   "metadata": {},
   "source": [
    "## ReduceByKey"
   ]
  },
  {
   "cell_type": "markdown",
   "metadata": {},
   "source": [
    "To compute the counts per gender in one flow, we wish to transform every element in the RDD into a (gender, count) pair. Initially we can simply transform every element into (gender, 1) and then sum the values per gender. The transformation **reduceByKey( v1, v2 -> v )** consumes two values `v1` and `v2` that belong to the same key and reduces it to a single value 'v' of the same type. Although reduce is an action, reduceByKey is a tranformation that results in a new RDD. We can use the **collect()** action to collect all results.\n",
    "\n",
    "Note: the values are unordered, and therefore the function must be *commutative*, i.e. produce the same result regardless of the order of the operands."
   ]
  },
  {
   "cell_type": "code",
   "execution_count": 5,
   "metadata": {
    "collapsed": false
   },
   "outputs": [
    {
     "data": {
      "text/plain": [
       "[('M', 1), ('M', 1), ('M', 1), ('M', 1), ('M', 1)]"
      ]
     },
     "execution_count": 5,
     "metadata": {},
     "output_type": "execute_result"
    }
   ],
   "source": [
    "kv = babyrdd.map(lambda x: (x[3], 1))\n",
    "kv.take(5)"
   ]
  },
  {
   "cell_type": "code",
   "execution_count": 6,
   "metadata": {
    "collapsed": false
   },
   "outputs": [
    {
     "data": {
      "text/plain": [
       "[('M', 27622), ('F', 24630)]"
      ]
     },
     "execution_count": 6,
     "metadata": {},
     "output_type": "execute_result"
    }
   ],
   "source": [
    "kv.reduceByKey(lambda x, y: x + y).collect()"
   ]
  },
  {
   "cell_type": "markdown",
   "metadata": {},
   "source": [
    "## CollectAsMap"
   ]
  },
  {
   "cell_type": "markdown",
   "metadata": {},
   "source": [
    "When working with (key, value) pairs, it can be easier to retrieve the results as a Python dict object. In Scala (the langauge in which Spark was written), the equivalent of a dict is a Map, hence the action name **collectAsMap()** to collect the results as a dictionary of key-values."
   ]
  },
  {
   "cell_type": "code",
   "execution_count": 7,
   "metadata": {
    "collapsed": false
   },
   "outputs": [
    {
     "data": {
      "text/plain": [
       "(27622, 24630)"
      ]
     },
     "execution_count": 7,
     "metadata": {},
     "output_type": "execute_result"
    }
   ],
   "source": [
    "d = kv.reduceByKey(lambda x, y: x + y).collectAsMap()\n",
    "(d['M'], d['F'])"
   ]
  },
  {
   "cell_type": "markdown",
   "metadata": {},
   "source": [
    "## Lookup"
   ]
  },
  {
   "cell_type": "markdown",
   "metadata": {},
   "source": [
    "We can also lookup which values are associated with a single key, by using the **lookup(key)** action. Lookup will return a list of values (even if there is None or one), beacuse keys may not exist and keys are not required to be unique."
   ]
  },
  {
   "cell_type": "code",
   "execution_count": 8,
   "metadata": {
    "collapsed": false
   },
   "outputs": [
    {
     "data": {
      "text/plain": [
       "[27622]"
      ]
     },
     "execution_count": 8,
     "metadata": {},
     "output_type": "execute_result"
    }
   ],
   "source": [
    "kv.reduceByKey(lambda x, y: x + y).lookup('M')"
   ]
  },
  {
   "cell_type": "markdown",
   "metadata": {},
   "source": [
    "## AggregateByKey"
   ]
  },
  {
   "cell_type": "markdown",
   "metadata": {},
   "source": [
    "For more control, we can use the **aggregateByKey(zero() -> r, f1(r, v) -> r, f2(r1, r2) -> r)**. In contrast to reduceByKey, the aggregation transformation (a.k.a. fold) accumulates a result that can be of a different type than the values. Initially, the **zero()** function is called to generate an initial accumulator (often zero or empty). Then for every value, f1 is called to add a value to the accumulator. Note that because we are working with distributed data, multiple aggregators will work in parallel each producing an accumulator as its reults. To merge these partial results of two aggregators, a final function f2 is called to merge two accumulators.\n",
    "\n",
    "In the example below, we initialize the count per gender as 0. Then for every (key, value) pair, the second function adds the value to the accumulator. Finally, if there are multiple nodes that are used in parallel on the same key, their results can be added using the final function. "
   ]
  },
  {
   "cell_type": "code",
   "execution_count": 9,
   "metadata": {
    "collapsed": false
   },
   "outputs": [
    {
     "data": {
      "text/plain": [
       "[('M', 27622), ('F', 24630)]"
      ]
     },
     "execution_count": 9,
     "metadata": {},
     "output_type": "execute_result"
    }
   ],
   "source": [
    "kv.aggregateByKey(\\\n",
    "                  0, # initial value for an accumulator \\\n",
    "                  lambda r, v: r + v, # function that adds a value to an accumulator \\\n",
    "                  lambda r1, r2: r1 + r2 # function that merges/combines two accumulators \\\n",
    "                 ).collect()"
   ]
  },
  {
   "cell_type": "markdown",
   "metadata": {},
   "source": [
    "To count the number of distinctly different names, we can use aggregateByKey to have more control over the reduce function. First we will look at Python sets to see how we can work with sets to obtain a proper count. We can create a set using the **set()** constructor, and add elements using **add()**. By definition, a set contains only unique elements, thus adding a value that already exists results in no change. "
   ]
  },
  {
   "cell_type": "code",
   "execution_count": 10,
   "metadata": {
    "collapsed": false
   },
   "outputs": [
    {
     "name": "stdout",
     "output_type": "stream",
     "text": [
      "{'Mike', 'Peter'} size: 2\n"
     ]
    }
   ],
   "source": [
    "s = set(['Peter'])\n",
    "s.add('Mike')\n",
    "s.add('Peter')\n",
    "print(s, 'size:', len(s))"
   ]
  },
  {
   "cell_type": "markdown",
   "metadata": {},
   "source": [
    "We can union two sets using the **union()** method, resulting in a set that contains all elements in either set."
   ]
  },
  {
   "cell_type": "code",
   "execution_count": 11,
   "metadata": {
    "collapsed": false
   },
   "outputs": [
    {
     "name": "stdout",
     "output_type": "stream",
     "text": [
      "{'James', 'Mike', 'Peter'} size: 3\n"
     ]
    }
   ],
   "source": [
    "t = set(['Peter', 'James'])\n",
    "u = s.union(t)\n",
    "print(u, 'size:', len(u))"
   ]
  },
  {
   "cell_type": "markdown",
   "metadata": {},
   "source": [
    "We can then accumulate the names in a set to find the number of unique names per gender. First, we need to setup an RDD that contains (gender, name) pairs. "
   ]
  },
  {
   "cell_type": "code",
   "execution_count": 12,
   "metadata": {
    "collapsed": false
   },
   "outputs": [
    {
     "name": "stdout",
     "output_type": "stream",
     "text": [
      "[('M', 'GAVIN'), ('M', 'LEVI'), ('M', 'LOGAN'), ('M', 'HUDSON'), ('M', 'GABRIEL')]\n"
     ]
    }
   ],
   "source": [
    "gendernames = babyrdd.map(lambda x: (x[3], x[1]))\n",
    "print(gendernames.take(5))"
   ]
  },
  {
   "cell_type": "markdown",
   "metadata": {},
   "source": [
    "Note that since the *add* function does not return a value, we need a function to first add a name and then return the set of names."
   ]
  },
  {
   "cell_type": "code",
   "execution_count": 13,
   "metadata": {
    "collapsed": false
   },
   "outputs": [
    {
     "name": "stdout",
     "output_type": "stream",
     "text": [
      "[('M', {'ADRIEN', 'KIYAN', 'CRAIG', 'ARMAAN', 'JASE', 'ALFRED', 'JUSTIN', 'FORD', 'RANVEER', 'LEIB', 'YAKOV', 'GABRIEL', 'AHMED', 'KAIDEN', 'BARUCH', 'ZAYN', 'RASHAWN', 'YANDEL', 'YOSSI', 'NIKHIL', 'LUKE', 'DONALD', 'MOISES', 'RAY', 'IAN', 'ZACKARY', 'ANGUS', 'OSCAR', 'YOEL', 'KACPER', 'RIVER', 'ARES', 'JAMESON', 'DILAN', 'KRISTIAN', 'REX', 'HILLEL', 'ROBERT', 'AVROHOM', 'ANDY', 'ROCCO', 'SHLOIME', 'DESMOND', 'JUDE', 'TANNER', 'DYLAN', 'AVRAHAM', 'SHANE', 'ALBERT', 'FINLEY', 'GREYSON', 'YAIR', 'OLIVER', 'MEKHI', 'ABDUL', 'SHRAGA', 'MOHAMAD', 'DENZEL', 'STEVE', 'DAMIEN', 'JERMAINE', 'UMAR', 'DERECK', 'TYSON', 'TRISTAN', 'JOHANN', 'DENNIS', 'COLBY', 'CLARK', 'GRAYSON', 'BRANTLEY', 'RYKER', 'DARREN', 'GIDEON', 'ALEX', 'SOLOMON', 'ZAHIR', 'HAYDEN', 'IBRAHIM', 'AZAAN', 'PABLO', 'CONSTANTINE', 'LUCCA', 'NEIL', 'SYED', 'ANTONY', 'KYRIE', 'NACHMAN', 'FABIAN', 'ALESSANDRO', 'AUGUST', 'TREVOR', 'NOAM', 'RICHARD', 'AADEN', 'EVERETT', 'KEITH', 'THEO', 'DEMETRIUS', 'AHARON', 'CAMERON', 'ESTEBAN', 'TATE', 'BRADLEY', 'SAMIR', 'LANGSTON', 'MATEO', 'CHACE', 'DERRICK', 'ZAIDEN', 'PRINCETON', 'AXEL', 'PINCHAS', 'BENZION', 'SKYLER', 'HASSAN', 'ADONIS', 'AVRUM', 'SHOLOM', 'BENNY', 'SIMON', 'AAYAN', 'ISHAAN', 'GAVIN', 'PIERCE', 'BENSON', 'EMMETT', 'SEAN', 'AZIMJON', 'AARAV', 'NOAH', 'DARWIN', 'JORDAN', 'NATE', 'JAMARI', 'LIONEL', 'KENDRICK', 'NAFTULI', 'ABRAHAM', 'ABEL', 'CHRISTOPHER', 'FRANCIS', 'ANAS', 'SHMUEL', 'MATHIAS', 'STEVEN', 'CARMINE', 'HUGO', 'FINNEGAN', 'DEXTER', 'MILES', 'GARRETT', 'LUKAS', 'NIKO', 'CHRISTIAN', 'MENDEL', 'MALIK', 'IKER', 'MIKAEL', 'COREY', 'ALI', 'ADAN', 'JORDY', 'JUAN', 'YASEEN', 'PHILLIP', 'BRYCE', 'YISRAEL', 'TROY', 'SHAYA', 'DIMITRI', 'JAYCEON', 'JENCARLOS', 'ABRAM', 'EMERY', 'MAXIMILIANO', 'JEAN', 'BRYANT', 'AIDAN', 'RUSSELL', 'MIKHAIL', 'ERIC', 'BENJAMIN', 'ALDEN', 'MOISHE', 'RONALD', 'NIKOLAI', 'TZVI', 'BOUBACAR', 'GRAHAM', 'AYAN', 'MILAN', 'YOCHANAN', 'ALPHA', 'KENZO', 'CHESKEL', 'MADDOX', 'ZAIRE', 'ALEJANDRO', 'KINGSTON', 'FARHAN', 'AZIM', 'JACK', 'DEREK', 'BEHRUZ', 'JAMEL', 'OWEN', 'KRISTOPHER', 'NOACH', 'JOHNATHAN', 'JULIEN', 'CAIDEN', 'ARYAN', 'YUSUF', 'TERRENCE', 'YAEL', 'REID', 'AHMAD', 'ZAKARIYA', 'LENNY', 'ARMANDO', 'PARIS', 'AUGUSTUS', 'JAMAL', 'JAMES', 'YAHIR', 'ASA', 'RYAN', 'JAXON', 'GUSTAVO', 'ALBERTO', 'ELIEZER', 'ROYAL', 'EMANUEL', 'JONAS', 'ZALMAN', 'CURTIS', 'ELIOT', 'MATIAS', 'GAVRIEL', 'ZALMEN', 'ANSON', 'OTTO', 'CAMREN', 'MELVIN', 'MEYER', 'ZANDER', 'HERSHY', 'SENDER', 'RALPH', 'AVI', 'ESHAN', 'QUINN', 'AZARIAH', 'QUENTIN', 'SHLOMIE', 'MENDY', 'WESLEY', 'FRANCESCO', 'HERMAN', 'DARNELL', 'KONSTANTINOS', 'ATTICUS', 'WOLF', 'CARLOS', 'ANTHONY', 'TRENTON', 'ROBIN', 'MARCO', 'MOUSSA', 'KADEN', 'RANDY', 'NABIL', 'KAMERON', 'YUVRAJ', 'ERIK', 'LEONARDO', 'BRODY', 'LEGEND', 'JABARI', 'RAYYAN', 'YEHUDA', 'ALLAN', 'TIMOTHY', 'RODNEY', 'ROMAN', 'MAMADOU', 'GINO', 'WALTER', 'JOSE', 'AARON', 'NICOLAS', 'KHAMANI', 'MOTTY', 'ANGELO', 'ANISJON', 'JELANI', 'JAX', 'ISIAH', 'GRANT', 'CHANANYA', 'ZAIN', 'LUIS', 'JAYSON', 'SHLOIMA', 'AMADOU', 'ANTONIO', 'JEFFREY', 'XAVIER', 'JAVON', 'TYRONE', 'ELI', 'ETHAN', 'CARL', 'YASIN', 'MARCUS', 'ANDREW', 'NATHAN', 'STANLEY', 'KARIM', 'MOHAMMAD', 'DEVON', 'SRULY', 'CYRUS', 'EMIL', 'ARIAN', 'SAFWAN', 'DEAN', 'HENRY', 'ELVIN', 'YARIEL', 'LEON', 'OMAR', 'PETER', 'JAHMIR', 'EDEN', 'ABDOUL', 'CASSIUS', 'MYLES', 'SINCERE', 'URIEL', 'WILLIE', 'FRANK', 'DANNY', 'SHEA', 'ARCHER', 'WESTON', 'CONOR', 'YAHYA', 'LEONEL', 'EZRA', 'EZEQUIEL', 'VINCENZO', 'ELIYAHU', 'ROYCE', 'WINSTON', 'DUVID', 'MILTON', 'JULIO', 'CAMILO', 'ELYA', 'JADON', 'AJANI', 'ARLO', 'JOHN', 'TIMMY', 'JORGE', 'GIORGI', 'DAVIAN', 'TERENCE', 'KYLE', 'MIKE', 'CONNER', 'NAZIR', 'RON', 'JUSTICE', 'SHILOH', 'MATTHEW', 'EDDY', 'STEPHEN', 'TENZIN', 'RYLAN', 'RUDY', 'DAMIAN', 'MESSIAH', 'ACHILLES', 'ENRIQUE', 'EVER', 'LINCOLN', 'SHAWN', 'TREY', 'LEIBY', 'DORIAN', 'MUSTAFA', 'WILMER', 'JALEN', 'SHAUL', 'PEYTON', 'PATRICK', 'SHAYE', 'STEPHAN', 'EZRIEL', 'ABDULRAHMAN', 'ABDIEL', 'STEFAN', 'SEAMUS', 'GIOVANNI', 'THEODORE', 'BRYSON', 'EDDIE', 'ARHAM', 'ADYAN', 'ORLANDO', 'JAMISON', 'SETH', 'LEWIS', 'IVAN', 'MUSA', 'BERISH', 'PARKER', 'FELIPE', 'SHIMON', 'ROBERTO', 'RUBEN', 'EMERSON', 'AMROM', 'BECKETT', 'JEFFERSON', 'EZEKIEL', 'BENTLEY', 'FILIP', 'HARRISON', 'GIANCARLO', 'SEBASTIAN', 'GERALD', 'BILLY', 'JASPER', 'LEV', 'MECHEL', 'BRAEDEN', 'EDUARDO', 'NAFTALI', 'MASON', 'MAXIMUS', 'COOPER', 'YAAKOV', 'PAUL', 'COLLIN', 'ARTHUR', 'JONATHAN', 'JAHDIEL', 'MEIR', 'ISRAEL', 'ANDRES', 'BINYAMIN', 'SHELDON', 'NATHANAEL', 'JAYLEN', 'MAURICIO', 'JADEN', 'NICO', 'ELLIOT', 'EMILIANO', 'GRADY', 'MARQUIS', 'LOUIS', 'FINN', 'JUNIOR', 'DAVE', 'BENNETT', 'ASHTON', 'ADITYA', 'SAGE', 'DILLON', 'ARYE', 'GRIFFIN', 'LANDYN', 'IBRAHIMA', 'ENOS', 'EMIR', 'JARIEL', 'ANDREAS', 'RAUL', 'AIDEN', 'HERSH', 'HASAN', 'ALLEN', 'YONATAN', 'MORDECHAI', 'TERRELL', 'DEVIN', 'MALACHI', 'HECTOR', 'PRESTON', 'REMY', 'JOAQUIN', 'MORDCHE', 'JOSHUA', 'LACHLAN', 'KIMI', 'NOSSON', 'ALEXANDER', 'KAI', 'JAEL', 'MOHAMMED', 'FREDERICK', 'AUSTIN', 'USHER', 'ABDULLAH', 'CRISTIAN', 'ASADBEK', 'BLAKE', 'CODY', 'TY', 'LUCAS', 'MARK', 'MORRIS', 'MAJOR', 'JASON', 'ALFONSO', 'LUCIANO', 'RAPHAEL', 'CRISTOPHER', 'ANGEL', 'RAYMOND', 'JULIAN', 'YONAH', 'CRISTOFER', 'AMARE', 'JAKE', 'CAMDEN', 'KYLER', 'ARVIN', 'RYDER', 'ARJUN', 'WILSON', 'CADEN', 'BRANDON', 'CORY', 'SHULEM', 'EMMANUEL', 'HUNTER', 'ARI', 'MD', 'REUVEN', 'GAEL', 'YEHOSHUA', 'HARRY', 'EVAN', 'LORENZO', 'RICKY', 'ELIAN', 'JACKY', 'FRANCO', 'DENIS', 'ELIE', 'SHNEUR', 'MAXIM', 'ISSAC', 'MITCHELL', 'CALEB', 'ANDERSON', 'MOISHY', 'MAHAMADOU', 'ELIAS', 'YANKY', 'ADHAM', 'ELLIOTT', 'SHIA', 'BORUCH', 'SANTIAGO', 'LUCIEN', 'ADRIAN', 'YECHESKEL', 'THIAGO', 'SHOHJAHON', 'YOUSIF', 'NIKOLAOS', 'JONAH', 'SAUL', 'EASON', 'FERNANDO', 'JOSUE', 'JAYCOB', 'MARCEL', 'JAGGER', 'SHMIEL', 'DIEGO', 'EMILIO', 'GIUSEPPE', 'MASSIMO', 'ALEXANDRE', 'JIMMY', 'ARYEH', 'ZANE', 'ABDOULAYE', 'JAYLIN', 'BRUCE', 'COLE', 'LEVI', 'RILEY', 'DARIEL', 'AMARI', 'BRIAN', 'ORION', 'JOHAN', 'CASEY', 'ELUZER', 'EDWIN', 'NEHEMIAH', 'SALVATORE', 'TERRY', 'NIKOLAS', 'TOBIAS', 'EITAN', 'ABOUBACAR', 'YIDA', 'DWAYNE', 'MALCOLM', 'MUHAMMAD', 'KHALIL', 'SKYLAR', 'YISROEL', 'MENASHE', 'BRYAN', 'VICTOR', 'YOUSEF', 'RONAN', 'DERICK', 'AHRON', 'JAVIER', 'MOSES', 'NICKOLAS', 'OMARI', 'ABE', 'ALEXIS', 'ARMANI', 'KARTER', 'CRISTIANO', 'ENZO', 'DAVION', 'DAVID', 'JEFF', 'LIAM', 'JAIDEN', 'MAGNUS', 'YOUSSEF', 'MAKAI', 'DALLAS', 'ZAYAN', 'CARMELO', 'ALEC', 'TRISTEN', 'JESSE', 'BOWEN', 'DUSTIN', 'AZRIEL', 'PHILIP', 'BRYCEN', 'MARVIN', 'ROGER', 'BRADEN', 'TONY', 'WYATT', 'YECHEZKEL', 'MAYSON', 'JAXSON', 'FRANKIE', 'EFRAIM', 'WILLIAM', 'MARIO', 'EASTON', 'AMEER', 'COLTON', 'MAXWELL', 'MAISON', 'ANDRE', 'ARIEL', 'SHAMAR', 'CALLAN', 'AYDEN', 'JAKUB', 'DECLAN', 'SAMUEL', 'RAYAN', 'ISMAIL', 'MARCOS', 'ZACK', 'DANIEL', 'LANDEN', 'CESAR', 'KOBE', 'JOEL', 'CARTER', 'GERSHON', 'ANTON', 'KAMARI', 'GORDON', 'JERAMIAH', 'KIAN', 'DASHIELL', 'MATHEW', 'REUBEN', 'GARY', 'VLADIMIR', 'WALEED', 'MIGUEL', 'CONRAD', 'PHOENIX', 'YONASON', 'TYRESE', 'RAFI', 'JADIEL', 'YIDEL', 'MENACHEM', 'ELVIS', 'JOSIAH', 'KYMANI', 'LEIBISH', 'JEROME', 'CHANCE', 'ILAN', 'GREGORY', 'CHARLIE', 'QUINCY', 'ZACHARY', 'BRANDEN', 'ASHER', 'ZACHARIAH', 'KINGSLEY', 'TAHA', 'LAWRENCE', 'BRAYDEN', 'CHASE', 'ARON', 'ELIMELECH', 'YITZCHAK', 'JOSH', 'SHAYAN', 'RHYS', 'KELLEN', 'KABIR', 'FELIX', 'NOLAN', 'CAYDEN', 'GERARD', 'FRANKLIN', 'JUDAH', 'JAY', 'FEYNMAN', 'KENNY', 'CALVIN', 'PEDRO', 'MICAH', 'MARTIN', 'BRAYLON', 'BROOKS', 'REHAN', 'NICK', 'MAX', 'SCOTT', 'AMIR', 'MARLON', 'SAIF', 'SAMSON', 'MUHAMMED', 'DOV', 'AMIRJON', 'NATHANIEL', 'DAVON', 'BENTZION', 'NUSSEN', 'GEORGE', 'BRADY', 'ISAIAH', 'YADIEL', 'KRISH', 'CARSON', 'VINCENT', 'EDGAR', 'ISREAL', 'SHALOM', 'OUMAR', 'JAYCE', 'SHAUN', 'BODHI', 'DANTE', 'JESUS', 'DREW', 'MESHULEM', 'AYAAN', 'THOMAS', 'KIERAN', 'BEN', 'MARKO', 'DAMON', 'MARCELLO', 'CHAD', 'LAMAR', 'KNOX', 'SMITH', 'NUCHEM', 'ADRIEL', 'SAVION', 'BRETT', 'LEANDRO', 'IMRAN', 'ADEN', 'MOHAMED', 'BRENDAN', 'ADAM', 'MALEK', 'RICARDO', 'ROY', 'NESANEL', 'YECHIEL', 'CONNOR', 'TRENT', 'TEMUR', 'NAFTULA', 'KALEB', 'ELLIS', 'HAMZA', 'SAMEER', 'MICHAEL', 'NOEL', 'LIPA', 'RAHEEM', 'SEBASTIEN', 'ALSTON', 'NIKITA', 'JOHNNY', 'GIANLUCA', 'LAZER', 'NELSON', 'DOVID', 'PINCHUS', 'KEEGAN', 'ERICK', 'JACE', 'SHLOMA', 'AYDIN', 'ROHAN', 'JEREMIAH', 'JORDI', 'CHAIM', 'HOLDEN', 'DAMANI', 'TYLER', 'GAGE', 'DOMINIC', 'LUCA', 'ROMEO', 'JAMIR', 'AHNAF', 'EHAN', 'ENOCH', 'REED', 'ZAYDEN', 'ZAYD', 'LEONARD', 'BRAYAN', 'SAM', 'MOSHE', 'JARED', 'JULIUS', 'SAWYER', 'FRANCISCO', 'TUCKER', 'ALAN', 'MARC', 'YOSEF', 'JERRY', 'JAEDEN', 'LARRY', 'MAURICE', 'ZEV', 'MILO', 'GIANNI', 'RORY', 'MANUEL', 'TOMAS', 'XANDER', 'ROWAN', 'BINYOMIN', 'ADIEL', 'YONA', 'MUHAMMADALI', 'CULLEN', 'SAAD', 'DARIUS', 'ISAIAS', 'YITZCHOK', 'NEYMAR', 'DOVBER', 'TRISTIAN', 'DONOVAN', 'ABBA', 'DOUGLAS', 'KARAS', 'KING', 'JEREMY', 'CHESKY', 'BYRON', 'KAZI', 'EDWARD', 'LEONIDAS', 'RODRIGO', 'CHRIS', 'SILAS', 'MAYER', 'JAIME', 'TRAVIS', 'KELVIN', 'LANDON', 'LUKA', 'LOGAN', 'EDISON', 'BRENDEN', 'BENYAMIN', 'LONDON', 'JOSEF', 'KAMREN', 'SHLOME', 'SPENCER', 'PRINCE', 'ALTER', 'KELLAN', 'ELIJAH', 'MAXIMILIAN', 'SERGIO', 'SHLOMO', 'NICHOLAS', 'JASIAH', 'REESE', 'AVERY', 'KAYDEN', 'MEILECH', 'RAFAEL', 'DOMINICK', 'DAMIR', 'SANTINO', 'COLIN', 'BERL', 'JOSEPH', 'JAMAR', 'BRENNAN', 'CHARLES', 'JAKOB', 'ISAAC', 'DOMINIK', 'JAYDEN', 'ZION', 'KEVIN', 'KAREEM', 'KENNETH', 'HUDSON', 'IDRIS', 'BURECH', 'SHLOIMY', 'JACKSON', 'TERRANCE', 'DAWSON', 'MATTEO', 'TYSHAWN', 'SIMCHA', 'SANTANA', 'ISMAEL', 'HERSHEL', 'ZAMIR', 'JACOB', 'ENMANUEL', 'QUINTON', 'AARIZ', 'NASIR', 'LEO', 'EPHRAIM', 'AKIVA', 'ALVIN', 'HAROLD', 'MOUHAMED', 'JOEY', 'AAHIL', 'TAYLOR'})]\n"
     ]
    }
   ],
   "source": [
    "def addToSet(names, name):\n",
    "    names.add(name)\n",
    "    return names\n",
    "\n",
    "r = gendernames.aggregateByKey(\\\n",
    "                               set(), # initial value for an accumulator \\\n",
    "                               addToSet, # function to add a value to an accumulator \\\n",
    "                               lambda r1, r2: r1.union(r2) # function to merge two accumulators \\\n",
    "                              )\n",
    "print(r.take(1))"
   ]
  },
  {
   "cell_type": "markdown",
   "metadata": {},
   "source": [
    "Take a good look at the structure of the RDD. The contents of the RDD is printed within []. Evert element of the RDD is a tuple (in this case a key-value pair), which is printed within (). Within the key-value pairs for the keys 'M' and 'F', the values are sets which are printed with {}. Note that in many languages (e.g. Python, Java), a set is just a dictionary without values. \n",
    "\n",
    "Since every element x is a (key, value) pair, we can address the key as x[0] and the value as x[1]. Then we can count the number of unique names per gender as the length of their sets of names."
   ]
  },
  {
   "cell_type": "code",
   "execution_count": 14,
   "metadata": {
    "collapsed": false
   },
   "outputs": [
    {
     "data": {
      "text/plain": [
       "[('M', 984), ('F', 1182)]"
      ]
     },
     "execution_count": 14,
     "metadata": {},
     "output_type": "execute_result"
    }
   ],
   "source": [
    "r.map(lambda x: (x[0], len(x[1]))).collect()"
   ]
  },
  {
   "cell_type": "markdown",
   "metadata": {},
   "source": [
    "## CombineByKey"
   ]
  },
  {
   "cell_type": "markdown",
   "metadata": {},
   "source": [
    "The **CombineByKey( init(v) -> acc, f1(acc, v) -> acc, f2(acc, acc) -> acc )** tranformation function is similar to aggregateByKey, except that instead of a zero function an initializer function **init** is used on the first value to setup an accumulator."
   ]
  },
  {
   "cell_type": "code",
   "execution_count": 15,
   "metadata": {
    "collapsed": false
   },
   "outputs": [
    {
     "data": {
      "text/plain": [
       "[('M', 984), ('F', 1182)]"
      ]
     },
     "execution_count": 15,
     "metadata": {},
     "output_type": "execute_result"
    }
   ],
   "source": [
    "gendernames.combineByKey(\\\n",
    "                               lambda x: set([x]), # initial value for an accumulator \\\n",
    "                               addToSet, # function to add a value to an accumulator \\\n",
    "                               lambda r1, r2: r1.union(r2) # function to merge two accumulators \\\n",
    "                              ).map(lambda x: (x[0], len(x[1]))).collect()"
   ]
  },
  {
   "cell_type": "markdown",
   "metadata": {
    "collapsed": true
   },
   "source": [
    "## groupByKey"
   ]
  },
  {
   "cell_type": "markdown",
   "metadata": {},
   "source": [
    "The **groupByKey()** transformation groups all values for the same key into a list."
   ]
  },
  {
   "cell_type": "code",
   "execution_count": 16,
   "metadata": {
    "collapsed": false,
    "scrolled": true
   },
   "outputs": [
    {
     "data": {
      "text/plain": [
       "[('M', <pyspark.resultiterable.ResultIterable at 0x1074552b0>),\n",
       " ('F', <pyspark.resultiterable.ResultIterable at 0x107455ac8>)]"
      ]
     },
     "execution_count": 16,
     "metadata": {},
     "output_type": "execute_result"
    }
   ],
   "source": [
    "gendernames.groupByKey().collect()"
   ]
  },
  {
   "cell_type": "markdown",
   "metadata": {},
   "source": [
    "The result are iterables, which are evaluated when needed. In this example, the Python function `Counter` counts how often every element appears in the collection."
   ]
  },
  {
   "cell_type": "code",
   "execution_count": 17,
   "metadata": {
    "collapsed": false
   },
   "outputs": [
    {
     "data": {
      "text/plain": [
       "[('M',\n",
       "  Counter({'AADEN': 3,\n",
       "           'AAHIL': 1,\n",
       "           'AARAV': 2,\n",
       "           'AARIZ': 1,\n",
       "           'AARON': 113,\n",
       "           'AAYAN': 3,\n",
       "           'ABBA': 1,\n",
       "           'ABDIEL': 1,\n",
       "           'ABDOUL': 1,\n",
       "           'ABDOULAYE': 3,\n",
       "           'ABDUL': 6,\n",
       "           'ABDULLAH': 14,\n",
       "           'ABDULRAHMAN': 1,\n",
       "           'ABE': 1,\n",
       "           'ABEL': 11,\n",
       "           'ABOUBACAR': 1,\n",
       "           'ABRAHAM': 57,\n",
       "           'ABRAM': 1,\n",
       "           'ACHILLES': 1,\n",
       "           'ADAM': 122,\n",
       "           'ADAN': 2,\n",
       "           'ADEN': 16,\n",
       "           'ADHAM': 1,\n",
       "           'ADIEL': 1,\n",
       "           'ADITYA': 1,\n",
       "           'ADONIS': 11,\n",
       "           'ADRIAN': 87,\n",
       "           'ADRIEL': 10,\n",
       "           'ADRIEN': 1,\n",
       "           'ADYAN': 3,\n",
       "           'AHARON': 9,\n",
       "           'AHMAD': 8,\n",
       "           'AHMED': 24,\n",
       "           'AHNAF': 1,\n",
       "           'AHRON': 3,\n",
       "           'AIDAN': 132,\n",
       "           'AIDEN': 245,\n",
       "           'AJANI': 1,\n",
       "           'AKIVA': 12,\n",
       "           'ALAN': 50,\n",
       "           'ALBERT': 27,\n",
       "           'ALBERTO': 4,\n",
       "           'ALDEN': 1,\n",
       "           'ALEC': 6,\n",
       "           'ALEJANDRO': 57,\n",
       "           'ALESSANDRO': 6,\n",
       "           'ALEX': 96,\n",
       "           'ALEXANDER': 258,\n",
       "           'ALEXANDRE': 1,\n",
       "           'ALEXIS': 43,\n",
       "           'ALFONSO': 1,\n",
       "           'ALFRED': 5,\n",
       "           'ALI': 40,\n",
       "           'ALLAN': 9,\n",
       "           'ALLEN': 24,\n",
       "           'ALPHA': 3,\n",
       "           'ALSTON': 2,\n",
       "           'ALTER': 3,\n",
       "           'ALVIN': 18,\n",
       "           'AMADOU': 4,\n",
       "           'AMARE': 1,\n",
       "           'AMARI': 23,\n",
       "           'AMEER': 1,\n",
       "           'AMIR': 64,\n",
       "           'AMIRJON': 1,\n",
       "           'AMROM': 4,\n",
       "           'ANAS': 2,\n",
       "           'ANDERSON': 43,\n",
       "           'ANDRE': 38,\n",
       "           'ANDREAS': 1,\n",
       "           'ANDRES': 31,\n",
       "           'ANDREW': 215,\n",
       "           'ANDY': 54,\n",
       "           'ANGEL': 91,\n",
       "           'ANGELO': 48,\n",
       "           'ANGUS': 1,\n",
       "           'ANISJON': 1,\n",
       "           'ANSON': 10,\n",
       "           'ANTHONY': 224,\n",
       "           'ANTON': 2,\n",
       "           'ANTONIO': 94,\n",
       "           'ANTONY': 3,\n",
       "           'ARCHER': 2,\n",
       "           'ARES': 1,\n",
       "           'ARHAM': 1,\n",
       "           'ARI': 28,\n",
       "           'ARIAN': 1,\n",
       "           'ARIEL': 42,\n",
       "           'ARJUN': 5,\n",
       "           'ARLO': 1,\n",
       "           'ARMAAN': 1,\n",
       "           'ARMANDO': 2,\n",
       "           'ARMANI': 10,\n",
       "           'ARON': 25,\n",
       "           'ARTHUR': 15,\n",
       "           'ARVIN': 2,\n",
       "           'ARYAN': 8,\n",
       "           'ARYE': 1,\n",
       "           'ARYEH': 13,\n",
       "           'ASA': 1,\n",
       "           'ASADBEK': 1,\n",
       "           'ASHER': 49,\n",
       "           'ASHTON': 44,\n",
       "           'ATTICUS': 1,\n",
       "           'AUGUST': 16,\n",
       "           'AUGUSTUS': 1,\n",
       "           'AUSTIN': 154,\n",
       "           'AVERY': 43,\n",
       "           'AVI': 2,\n",
       "           'AVRAHAM': 22,\n",
       "           'AVROHOM': 16,\n",
       "           'AVRUM': 8,\n",
       "           'AXEL': 38,\n",
       "           'AYAAN': 20,\n",
       "           'AYAN': 6,\n",
       "           'AYDEN': 107,\n",
       "           'AYDIN': 2,\n",
       "           'AZAAN': 2,\n",
       "           'AZARIAH': 1,\n",
       "           'AZIM': 1,\n",
       "           'AZIMJON': 1,\n",
       "           'AZRIEL': 1,\n",
       "           'BARUCH': 10,\n",
       "           'BECKETT': 1,\n",
       "           'BEHRUZ': 1,\n",
       "           'BEN': 11,\n",
       "           'BENJAMIN': 224,\n",
       "           'BENNETT': 8,\n",
       "           'BENNY': 2,\n",
       "           'BENSON': 7,\n",
       "           'BENTLEY': 28,\n",
       "           'BENTZION': 1,\n",
       "           'BENYAMIN': 1,\n",
       "           'BENZION': 6,\n",
       "           'BERISH': 2,\n",
       "           'BERL': 2,\n",
       "           'BILLY': 1,\n",
       "           'BINYAMIN': 1,\n",
       "           'BINYOMIN': 5,\n",
       "           'BLAKE': 118,\n",
       "           'BODHI': 2,\n",
       "           'BORUCH': 6,\n",
       "           'BOUBACAR': 1,\n",
       "           'BOWEN': 1,\n",
       "           'BRADEN': 7,\n",
       "           'BRADLEY': 41,\n",
       "           'BRADY': 64,\n",
       "           'BRAEDEN': 5,\n",
       "           'BRANDEN': 1,\n",
       "           'BRANDON': 132,\n",
       "           'BRANTLEY': 4,\n",
       "           'BRAYAN': 20,\n",
       "           'BRAYDEN': 164,\n",
       "           'BRAYLON': 1,\n",
       "           'BRENDAN': 53,\n",
       "           'BRENDEN': 1,\n",
       "           'BRENNAN': 15,\n",
       "           'BRETT': 6,\n",
       "           'BRIAN': 100,\n",
       "           'BRODY': 69,\n",
       "           'BROOKS': 2,\n",
       "           'BRUCE': 8,\n",
       "           'BRYAN': 70,\n",
       "           'BRYANT': 11,\n",
       "           'BRYCE': 78,\n",
       "           'BRYCEN': 2,\n",
       "           'BRYSON': 13,\n",
       "           'BURECH': 1,\n",
       "           'BYRON': 2,\n",
       "           'CADEN': 37,\n",
       "           'CAIDEN': 15,\n",
       "           'CALEB': 184,\n",
       "           'CALLAN': 1,\n",
       "           'CALVIN': 19,\n",
       "           'CAMDEN': 24,\n",
       "           'CAMERON': 161,\n",
       "           'CAMILO': 1,\n",
       "           'CAMREN': 2,\n",
       "           'CARL': 2,\n",
       "           'CARLOS': 68,\n",
       "           'CARMELO': 6,\n",
       "           'CARMINE': 9,\n",
       "           'CARSON': 41,\n",
       "           'CARTER': 196,\n",
       "           'CASEY': 9,\n",
       "           'CASSIUS': 1,\n",
       "           'CAYDEN': 39,\n",
       "           'CESAR': 32,\n",
       "           'CHACE': 3,\n",
       "           'CHAD': 1,\n",
       "           'CHAIM': 30,\n",
       "           'CHANANYA': 1,\n",
       "           'CHANCE': 11,\n",
       "           'CHARLES': 119,\n",
       "           'CHARLIE': 23,\n",
       "           'CHASE': 158,\n",
       "           'CHESKEL': 9,\n",
       "           'CHESKY': 4,\n",
       "           'CHRIS': 34,\n",
       "           'CHRISTIAN': 167,\n",
       "           'CHRISTOPHER': 200,\n",
       "           'CLARK': 1,\n",
       "           'CODY': 27,\n",
       "           'COLBY': 2,\n",
       "           'COLE': 99,\n",
       "           'COLIN': 102,\n",
       "           'COLLIN': 44,\n",
       "           'COLTON': 68,\n",
       "           'CONNER': 6,\n",
       "           'CONNOR': 208,\n",
       "           'CONOR': 18,\n",
       "           'CONRAD': 1,\n",
       "           'CONSTANTINE': 1,\n",
       "           'COOPER': 81,\n",
       "           'COREY': 13,\n",
       "           'CORY': 1,\n",
       "           'CRAIG': 4,\n",
       "           'CRISTIAN': 53,\n",
       "           'CRISTIANO': 1,\n",
       "           'CRISTOFER': 1,\n",
       "           'CRISTOPHER': 8,\n",
       "           'CULLEN': 1,\n",
       "           'CURTIS': 2,\n",
       "           'CYRUS': 1,\n",
       "           'DALLAS': 1,\n",
       "           'DAMANI': 1,\n",
       "           'DAMIAN': 46,\n",
       "           'DAMIEN': 39,\n",
       "           'DAMIR': 1,\n",
       "           'DAMON': 4,\n",
       "           'DANIEL': 205,\n",
       "           'DANNY': 33,\n",
       "           'DANTE': 41,\n",
       "           'DARIEL': 7,\n",
       "           'DARIUS': 12,\n",
       "           'DARNELL': 2,\n",
       "           'DARREN': 21,\n",
       "           'DARWIN': 7,\n",
       "           'DASHIELL': 3,\n",
       "           'DAVE': 2,\n",
       "           'DAVIAN': 1,\n",
       "           'DAVID': 183,\n",
       "           'DAVION': 1,\n",
       "           'DAVON': 1,\n",
       "           'DAWSON': 1,\n",
       "           'DEAN': 44,\n",
       "           'DECLAN': 65,\n",
       "           'DEMETRIUS': 3,\n",
       "           'DENIS': 2,\n",
       "           'DENNIS': 23,\n",
       "           'DENZEL': 3,\n",
       "           'DERECK': 1,\n",
       "           'DEREK': 80,\n",
       "           'DERICK': 1,\n",
       "           'DERRICK': 9,\n",
       "           'DESMOND': 14,\n",
       "           'DEVIN': 73,\n",
       "           'DEVON': 12,\n",
       "           'DEXTER': 1,\n",
       "           'DIEGO': 59,\n",
       "           'DILAN': 3,\n",
       "           'DILLON': 15,\n",
       "           'DIMITRI': 1,\n",
       "           'DOMINIC': 138,\n",
       "           'DOMINICK': 65,\n",
       "           'DOMINIK': 2,\n",
       "           'DONALD': 5,\n",
       "           'DONOVAN': 24,\n",
       "           'DORIAN': 1,\n",
       "           'DOUGLAS': 5,\n",
       "           'DOV': 15,\n",
       "           'DOVBER': 1,\n",
       "           'DOVID': 17,\n",
       "           'DREW': 28,\n",
       "           'DUSTIN': 1,\n",
       "           'DUVID': 3,\n",
       "           'DWAYNE': 1,\n",
       "           'DYLAN': 196,\n",
       "           'EASON': 5,\n",
       "           'EASTON': 7,\n",
       "           'EDDIE': 4,\n",
       "           'EDDY': 1,\n",
       "           'EDEN': 3,\n",
       "           'EDGAR': 22,\n",
       "           'EDISON': 9,\n",
       "           'EDUARDO': 34,\n",
       "           'EDWARD': 79,\n",
       "           'EDWIN': 53,\n",
       "           'EFRAIM': 11,\n",
       "           'EHAN': 1,\n",
       "           'EITAN': 7,\n",
       "           'ELI': 121,\n",
       "           'ELIAN': 3,\n",
       "           'ELIAS': 69,\n",
       "           'ELIE': 1,\n",
       "           'ELIEZER': 19,\n",
       "           'ELIJAH': 178,\n",
       "           'ELIMELECH': 11,\n",
       "           'ELIOT': 1,\n",
       "           'ELIYAHU': 13,\n",
       "           'ELLIOT': 22,\n",
       "           'ELLIOTT': 13,\n",
       "           'ELLIS': 2,\n",
       "           'ELUZER': 2,\n",
       "           'ELVIN': 4,\n",
       "           'ELVIS': 5,\n",
       "           'ELYA': 2,\n",
       "           'EMANUEL': 38,\n",
       "           'EMERSON': 13,\n",
       "           'EMERY': 1,\n",
       "           'EMIL': 1,\n",
       "           'EMILIANO': 1,\n",
       "           'EMILIO': 6,\n",
       "           'EMIR': 1,\n",
       "           'EMMANUEL': 67,\n",
       "           'EMMETT': 19,\n",
       "           'ENMANUEL': 1,\n",
       "           'ENOCH': 1,\n",
       "           'ENOS': 1,\n",
       "           'ENRIQUE': 5,\n",
       "           'ENZO': 8,\n",
       "           'EPHRAIM': 2,\n",
       "           'ERIC': 91,\n",
       "           'ERICK': 52,\n",
       "           'ERIK': 30,\n",
       "           'ESHAN': 1,\n",
       "           'ESTEBAN': 2,\n",
       "           'ETHAN': 267,\n",
       "           'EVAN': 195,\n",
       "           'EVER': 1,\n",
       "           'EVERETT': 14,\n",
       "           'EZEKIEL': 11,\n",
       "           'EZEQUIEL': 4,\n",
       "           'EZRA': 29,\n",
       "           'EZRIEL': 2,\n",
       "           'FABIAN': 4,\n",
       "           'FARHAN': 3,\n",
       "           'FELIPE': 1,\n",
       "           'FELIX': 29,\n",
       "           'FERNANDO': 29,\n",
       "           'FEYNMAN': 1,\n",
       "           'FILIP': 2,\n",
       "           'FINLEY': 1,\n",
       "           'FINN': 27,\n",
       "           'FINNEGAN': 3,\n",
       "           'FORD': 1,\n",
       "           'FRANCESCO': 10,\n",
       "           'FRANCIS': 15,\n",
       "           'FRANCISCO': 20,\n",
       "           'FRANCO': 2,\n",
       "           'FRANK': 54,\n",
       "           'FRANKIE': 3,\n",
       "           'FRANKLIN': 7,\n",
       "           'FREDERICK': 6,\n",
       "           'GABRIEL': 190,\n",
       "           'GAEL': 17,\n",
       "           'GAGE': 4,\n",
       "           'GARRETT': 13,\n",
       "           'GARY': 6,\n",
       "           'GAVIN': 210,\n",
       "           'GAVRIEL': 5,\n",
       "           'GEORGE': 70,\n",
       "           'GERALD': 1,\n",
       "           'GERARD': 2,\n",
       "           'GERSHON': 2,\n",
       "           'GIANCARLO': 6,\n",
       "           'GIANLUCA': 9,\n",
       "           'GIANNI': 21,\n",
       "           'GIDEON': 1,\n",
       "           'GINO': 3,\n",
       "           'GIORGI': 1,\n",
       "           'GIOVANNI': 101,\n",
       "           'GIUSEPPE': 3,\n",
       "           'GORDON': 2,\n",
       "           'GRADY': 4,\n",
       "           'GRAHAM': 14,\n",
       "           'GRANT': 27,\n",
       "           'GRAYSON': 48,\n",
       "           'GREGORY': 40,\n",
       "           'GREYSON': 23,\n",
       "           'GRIFFIN': 36,\n",
       "           'GUSTAVO': 2,\n",
       "           'HAMZA': 12,\n",
       "           'HAROLD': 1,\n",
       "           'HARRISON': 51,\n",
       "           'HARRY': 15,\n",
       "           'HASAN': 2,\n",
       "           'HASSAN': 7,\n",
       "           'HAYDEN': 51,\n",
       "           'HECTOR': 26,\n",
       "           'HENRY': 126,\n",
       "           'HERMAN': 1,\n",
       "           'HERSH': 12,\n",
       "           'HERSHEL': 17,\n",
       "           'HERSHY': 18,\n",
       "           'HILLEL': 1,\n",
       "           'HOLDEN': 1,\n",
       "           'HUDSON': 48,\n",
       "           'HUGO': 10,\n",
       "           'HUNTER': 202,\n",
       "           'IAN': 113,\n",
       "           'IBRAHIM': 37,\n",
       "           'IBRAHIMA': 6,\n",
       "           'IDRIS': 1,\n",
       "           'IKER': 14,\n",
       "           'ILAN': 1,\n",
       "           'IMRAN': 2,\n",
       "           'ISAAC': 120,\n",
       "           'ISAIAH': 121,\n",
       "           'ISAIAS': 1,\n",
       "           'ISHAAN': 1,\n",
       "           'ISIAH': 4,\n",
       "           'ISMAEL': 12,\n",
       "           'ISMAIL': 1,\n",
       "           'ISRAEL': 36,\n",
       "           'ISREAL': 2,\n",
       "           'ISSAC': 6,\n",
       "           'IVAN': 51,\n",
       "           'JABARI': 1,\n",
       "           'JACE': 58,\n",
       "           'JACK': 203,\n",
       "           'JACKSON': 200,\n",
       "           'JACKY': 3,\n",
       "           'JACOB': 316,\n",
       "           'JADEN': 83,\n",
       "           'JADIEL': 24,\n",
       "           'JADON': 1,\n",
       "           'JAEDEN': 1,\n",
       "           'JAEL': 3,\n",
       "           'JAGGER': 1,\n",
       "           'JAHDIEL': 1,\n",
       "           'JAHMIR': 1,\n",
       "           'JAIDEN': 55,\n",
       "           'JAIME': 4,\n",
       "           'JAKE': 101,\n",
       "           'JAKOB': 3,\n",
       "           'JAKUB': 5,\n",
       "           'JALEN': 7,\n",
       "           'JAMAL': 4,\n",
       "           'JAMAR': 1,\n",
       "           'JAMARI': 4,\n",
       "           'JAMEL': 2,\n",
       "           'JAMES': 237,\n",
       "           'JAMESON': 26,\n",
       "           'JAMIR': 2,\n",
       "           'JAMISON': 1,\n",
       "           'JARED': 48,\n",
       "           'JARIEL': 9,\n",
       "           'JASE': 10,\n",
       "           'JASIAH': 11,\n",
       "           'JASON': 141,\n",
       "           'JASPER': 17,\n",
       "           'JAVIER': 44,\n",
       "           'JAVON': 1,\n",
       "           'JAX': 8,\n",
       "           'JAXON': 53,\n",
       "           'JAXSON': 33,\n",
       "           'JAY': 13,\n",
       "           'JAYCE': 23,\n",
       "           'JAYCEON': 10,\n",
       "           'JAYCOB': 1,\n",
       "           'JAYDEN': 207,\n",
       "           'JAYLEN': 35,\n",
       "           'JAYLIN': 3,\n",
       "           'JAYSON': 36,\n",
       "           'JEAN': 10,\n",
       "           'JEFF': 1,\n",
       "           'JEFFERSON': 27,\n",
       "           'JEFFREY': 57,\n",
       "           'JELANI': 1,\n",
       "           'JENCARLOS': 1,\n",
       "           'JERAMIAH': 1,\n",
       "           'JEREMIAH': 114,\n",
       "           'JEREMY': 73,\n",
       "           'JERMAINE': 7,\n",
       "           'JEROME': 1,\n",
       "           'JERRY': 17,\n",
       "           'JESSE': 44,\n",
       "           'JESUS': 44,\n",
       "           'JIMMY': 18,\n",
       "           'JOAQUIN': 10,\n",
       "           'JOEL': 82,\n",
       "           'JOEY': 2,\n",
       "           'JOHAN': 27,\n",
       "           'JOHANN': 1,\n",
       "           'JOHN': 210,\n",
       "           'JOHNATHAN': 23,\n",
       "           'JOHNNY': 21,\n",
       "           'JONAH': 66,\n",
       "           'JONAS': 5,\n",
       "           'JONATHAN': 144,\n",
       "           'JORDAN': 132,\n",
       "           'JORDI': 3,\n",
       "           'JORDY': 2,\n",
       "           'JORGE': 37,\n",
       "           'JOSE': 81,\n",
       "           'JOSEF': 1,\n",
       "           'JOSEPH': 245,\n",
       "           'JOSH': 2,\n",
       "           'JOSHUA': 208,\n",
       "           'JOSIAH': 94,\n",
       "           'JOSUE': 42,\n",
       "           'JUAN': 62,\n",
       "           'JUDAH': 23,\n",
       "           'JUDE': 25,\n",
       "           'JULIAN': 121,\n",
       "           'JULIEN': 8,\n",
       "           'JULIO': 12,\n",
       "           'JULIUS': 30,\n",
       "           'JUNIOR': 9,\n",
       "           'JUSTICE': 8,\n",
       "           'JUSTIN': 141,\n",
       "           'KABIR': 1,\n",
       "           'KACPER': 3,\n",
       "           'KADEN': 31,\n",
       "           'KAI': 39,\n",
       "           'KAIDEN': 47,\n",
       "           'KALEB': 32,\n",
       "           'KAMARI': 4,\n",
       "           'KAMERON': 2,\n",
       "           'KAMREN': 1,\n",
       "           'KARAS': 1,\n",
       "           'KAREEM': 10,\n",
       "           'KARIM': 1,\n",
       "           'KARTER': 7,\n",
       "           'KAYDEN': 58,\n",
       "           'KAZI': 1,\n",
       "           'KEEGAN': 14,\n",
       "           'KEITH': 17,\n",
       "           'KELLAN': 3,\n",
       "           'KELLEN': 1,\n",
       "           'KELVIN': 23,\n",
       "           'KENDRICK': 5,\n",
       "           'KENNETH': 63,\n",
       "           'KENNY': 19,\n",
       "           'KENZO': 1,\n",
       "           'KEVIN': 115,\n",
       "           'KHALIL': 8,\n",
       "           'KHAMANI': 1,\n",
       "           'KIAN': 2,\n",
       "           'KIERAN': 25,\n",
       "           'KIMI': 2,\n",
       "           'KING': 21,\n",
       "           'KINGSLEY': 8,\n",
       "           'KINGSTON': 9,\n",
       "           'KIYAN': 1,\n",
       "           'KNOX': 1,\n",
       "           'KOBE': 1,\n",
       "           'KONSTANTINOS': 1,\n",
       "           'KRISH': 5,\n",
       "           'KRISTIAN': 6,\n",
       "           'KRISTOPHER': 3,\n",
       "           'KYLE': 110,\n",
       "           'KYLER': 1,\n",
       "           'KYMANI': 4,\n",
       "           'KYRIE': 4,\n",
       "           'LACHLAN': 1,\n",
       "           'LAMAR': 1,\n",
       "           'LANDEN': 2,\n",
       "           'LANDON': 163,\n",
       "           'LANDYN': 1,\n",
       "           'LANGSTON': 1,\n",
       "           'LARRY': 3,\n",
       "           'LAWRENCE': 8,\n",
       "           'LAZER': 11,\n",
       "           'LEANDRO': 4,\n",
       "           'LEGEND': 2,\n",
       "           'LEIB': 4,\n",
       "           'LEIBISH': 1,\n",
       "           'LEIBY': 1,\n",
       "           'LENNY': 1,\n",
       "           'LEO': 65,\n",
       "           'LEON': 19,\n",
       "           'LEONARD': 2,\n",
       "           'LEONARDO': 58,\n",
       "           'LEONEL': 2,\n",
       "           'LEONIDAS': 2,\n",
       "           'LEV': 2,\n",
       "           'LEVI': 87,\n",
       "           'LEWIS': 1,\n",
       "           'LIAM': 259,\n",
       "           'LINCOLN': 23,\n",
       "           'LIONEL': 1,\n",
       "           'LIPA': 16,\n",
       "           'LOGAN': 303,\n",
       "           'LONDON': 1,\n",
       "           'LORENZO': 45,\n",
       "           'LOUIS': 53,\n",
       "           'LUCA': 78,\n",
       "           'LUCAS': 236,\n",
       "           'LUCCA': 2,\n",
       "           'LUCIANO': 9,\n",
       "           'LUCIEN': 2,\n",
       "           'LUIS': 89,\n",
       "           'LUKA': 10,\n",
       "           'LUKAS': 42,\n",
       "           'LUKE': 146,\n",
       "           'MADDOX': 7,\n",
       "           'MAGNUS': 1,\n",
       "           'MAHAMADOU': 2,\n",
       "           'MAISON': 1,\n",
       "           'MAJOR': 2,\n",
       "           'MAKAI': 1,\n",
       "           'MALACHI': 48,\n",
       "           'MALCOLM': 6,\n",
       "           'MALEK': 1,\n",
       "           'MALIK': 23,\n",
       "           'MAMADOU': 13,\n",
       "           'MANUEL': 25,\n",
       "           'MARC': 23,\n",
       "           'MARCEL': 3,\n",
       "           'MARCELLO': 4,\n",
       "           'MARCO': 46,\n",
       "           'MARCOS': 14,\n",
       "           'MARCUS': 77,\n",
       "           'MARIO': 33,\n",
       "           'MARK': 76,\n",
       "           'MARKO': 1,\n",
       "           'MARLON': 5,\n",
       "           'MARQUIS': 5,\n",
       "           'MARTIN': 35,\n",
       "           'MARVIN': 19,\n",
       "           'MASON': 282,\n",
       "           'MASSIMO': 3,\n",
       "           'MATEO': 45,\n",
       "           'MATHEW': 19,\n",
       "           'MATHIAS': 2,\n",
       "           'MATIAS': 10,\n",
       "           'MATTEO': 40,\n",
       "           'MATTHEW': 234,\n",
       "           'MAURICE': 6,\n",
       "           'MAURICIO': 2,\n",
       "           'MAX': 84,\n",
       "           'MAXIM': 10,\n",
       "           'MAXIMILIAN': 19,\n",
       "           'MAXIMILIANO': 3,\n",
       "           'MAXIMUS': 37,\n",
       "           'MAXWELL': 85,\n",
       "           'MAYER': 18,\n",
       "           'MAYSON': 1,\n",
       "           'MD': 1,\n",
       "           'MECHEL': 1,\n",
       "           'MEILECH': 4,\n",
       "           'MEIR': 18,\n",
       "           'MEKHI': 12,\n",
       "           'MELVIN': 10,\n",
       "           'MENACHEM': 16,\n",
       "           'MENASHE': 6,\n",
       "           'MENDEL': 22,\n",
       "           'MENDY': 14,\n",
       "           'MESHULEM': 1,\n",
       "           'MESSIAH': 16,\n",
       "           'MEYER': 2,\n",
       "           'MICAH': 45,\n",
       "           'MICHAEL': 257,\n",
       "           'MIGUEL': 61,\n",
       "           'MIKAEL': 1,\n",
       "           'MIKE': 6,\n",
       "           'MIKHAIL': 1,\n",
       "           'MILAN': 7,\n",
       "           'MILES': 57,\n",
       "           'MILO': 14,\n",
       "           'MILTON': 1,\n",
       "           'MITCHELL': 4,\n",
       "           'MOHAMAD': 1,\n",
       "           'MOHAMED': 39,\n",
       "           'MOHAMMAD': 26,\n",
       "           'MOHAMMED': 26,\n",
       "           'MOISES': 1,\n",
       "           'MOISHE': 12,\n",
       "           'MOISHY': 1,\n",
       "           'MORDCHE': 3,\n",
       "           'MORDECHAI': 24,\n",
       "           'MORRIS': 6,\n",
       "           'MOSES': 16,\n",
       "           'MOSHE': 37,\n",
       "           'MOTTY': 1,\n",
       "           'MOUHAMED': 1,\n",
       "           'MOUSSA': 6,\n",
       "           'MUHAMMAD': 36,\n",
       "           'MUHAMMADALI': 1,\n",
       "           'MUHAMMED': 1,\n",
       "           'MUSA': 3,\n",
       "           'MUSTAFA': 5,\n",
       "           'MYLES': 24,\n",
       "           'NABIL': 1,\n",
       "           'NACHMAN': 9,\n",
       "           'NAFTALI': 12,\n",
       "           'NAFTULA': 1,\n",
       "           'NAFTULI': 10,\n",
       "           'NASIR': 26,\n",
       "           'NATE': 1,\n",
       "           'NATHAN': 180,\n",
       "           'NATHANAEL': 1,\n",
       "           'NATHANIEL': 108,\n",
       "           'NAZIR': 1,\n",
       "           'NEHEMIAH': 3,\n",
       "           'NEIL': 4,\n",
       "           'NELSON': 20,\n",
       "           'NESANEL': 1,\n",
       "           'NEYMAR': 5,\n",
       "           'NICHOLAS': 219,\n",
       "           'NICK': 1,\n",
       "           'NICKOLAS': 4,\n",
       "           'NICO': 17,\n",
       "           'NICOLAS': 64,\n",
       "           'NIKHIL': 1,\n",
       "           'NIKITA': 3,\n",
       "           'NIKO': 4,\n",
       "           'NIKOLAI': 1,\n",
       "           'NIKOLAOS': 1,\n",
       "           'NIKOLAS': 12,\n",
       "           'NOACH': 1,\n",
       "           'NOAH': 279,\n",
       "           'NOAM': 2,\n",
       "           'NOEL': 19,\n",
       "           'NOLAN': 63,\n",
       "           'NOSSON': 1,\n",
       "           'NUCHEM': 1,\n",
       "           'NUSSEN': 1,\n",
       "           'OLIVER': 99,\n",
       "           'OMAR': 56,\n",
       "           'OMARI': 7,\n",
       "           'ORION': 2,\n",
       "           'ORLANDO': 1,\n",
       "           'OSCAR': 57,\n",
       "           'OTTO': 1,\n",
       "           'OUMAR': 3,\n",
       "           'OWEN': 206,\n",
       "           'PABLO': 9,\n",
       "           'PARIS': 1,\n",
       "           'PARKER': 86,\n",
       "           'PATRICK': 108,\n",
       "           'PAUL': 76,\n",
       "           'PEDRO': 12,\n",
       "           'PETER': 85,\n",
       "           'PEYTON': 29,\n",
       "           'PHILIP': 33,\n",
       "           'PHILLIP': 3,\n",
       "           'PHOENIX': 5,\n",
       "           'PIERCE': 1,\n",
       "           'PINCHAS': 10,\n",
       "           'PINCHUS': 9,\n",
       "           'PRESTON': 48,\n",
       "           'PRINCE': 23,\n",
       "           'PRINCETON': 3,\n",
       "           'QUENTIN': 4,\n",
       "           'QUINCY': 2,\n",
       "           'QUINN': 22,\n",
       "           'QUINTON': 1,\n",
       "           'RAFAEL': 49,\n",
       "           'RAFI': 1,\n",
       "           'RAHEEM': 1,\n",
       "           'RALPH': 2,\n",
       "           'RANDY': 36,\n",
       "           'RANVEER': 1,\n",
       "           'RAPHAEL': 19,\n",
       "           'RASHAWN': 1,\n",
       "           'RAUL': 6,\n",
       "           'RAY': 1,\n",
       "           'RAYAN': 15,\n",
       "           'RAYMOND': 52,\n",
       "           'RAYYAN': 2,\n",
       "           'REED': 6,\n",
       "           'REESE': 1,\n",
       "           'REHAN': 1,\n",
       "           'REID': 8,\n",
       "           'REMY': 1,\n",
       "           'REUBEN': 2,\n",
       "           'REUVEN': 1,\n",
       "           'REX': 1,\n",
       "           'RHYS': 3,\n",
       "           'RICARDO': 27,\n",
       "           'RICHARD': 94,\n",
       "           'RICKY': 7,\n",
       "           'RILEY': 65,\n",
       "           'RIVER': 1,\n",
       "           'ROBERT': 165,\n",
       "           'ROBERTO': 10,\n",
       "           'ROBIN': 1,\n",
       "           'ROCCO': 22,\n",
       "           'RODNEY': 1,\n",
       "           'RODRIGO': 2,\n",
       "           'ROGER': 3,\n",
       "           'ROHAN': 8,\n",
       "           'ROMAN': 38,\n",
       "           'ROMEO': 6,\n",
       "           'RON': 1,\n",
       "           'RONALD': 22,\n",
       "           'RONAN': 10,\n",
       "           'RORY': 8,\n",
       "           'ROWAN': 9,\n",
       "           'ROY': 7,\n",
       "           'ROYAL': 1,\n",
       "           'ROYCE': 1,\n",
       "           'RUBEN': 7,\n",
       "           'RUDY': 1,\n",
       "           'RUSSELL': 4,\n",
       "           'RYAN': 247,\n",
       "           'RYDER': 27,\n",
       "           'RYKER': 1,\n",
       "           'RYLAN': 2,\n",
       "           'SAAD': 1,\n",
       "           'SAFWAN': 1,\n",
       "           'SAGE': 1,\n",
       "           'SAIF': 2,\n",
       "           'SALVATORE': 38,\n",
       "           'SAM': 21,\n",
       "           'SAMEER': 1,\n",
       "           'SAMIR': 9,\n",
       "           'SAMSON': 1,\n",
       "           'SAMUEL': 179,\n",
       "           'SANTANA': 1,\n",
       "           'SANTIAGO': 36,\n",
       "           'SANTINO': 12,\n",
       "           'SAUL': 7,\n",
       "           'SAVION': 1,\n",
       "           'SAWYER': 16,\n",
       "           'SCOTT': 6,\n",
       "           'SEAMUS': 1,\n",
       "           'SEAN': 124,\n",
       "           'SEBASTIAN': 101,\n",
       "           'SEBASTIEN': 2,\n",
       "           'SENDER': 1,\n",
       "           'SERGIO': 10,\n",
       "           'SETH': 13,\n",
       "           'SHALOM': 2,\n",
       "           'SHAMAR': 1,\n",
       "           'SHANE': 64,\n",
       "           'SHAUL': 1,\n",
       "           'SHAUN': 5,\n",
       "           'SHAWN': 43,\n",
       "           'SHAYA': 13,\n",
       "           'SHAYAN': 1,\n",
       "           'SHAYE': 1,\n",
       "           'SHEA': 8,\n",
       "           'SHELDON': 1,\n",
       "           'SHIA': 18,\n",
       "           'SHILOH': 2,\n",
       "           'SHIMON': 24,\n",
       "           'SHLOIMA': 1,\n",
       "           'SHLOIME': 6,\n",
       "           'SHLOIMY': 4,\n",
       "           'SHLOMA': 2,\n",
       "           'SHLOME': 10,\n",
       "           'SHLOMIE': 1,\n",
       "           'SHLOMO': 18,\n",
       "           'SHMIEL': 18,\n",
       "           'SHMUEL': 19,\n",
       "           'SHNEUR': 2,\n",
       "           'SHOHJAHON': 1,\n",
       "           'SHOLOM': 8,\n",
       "           'SHRAGA': 4,\n",
       "           'SHULEM': 21,\n",
       "           'SILAS': 12,\n",
       "           'SIMCHA': 12,\n",
       "           'SIMON': 39,\n",
       "           'SINCERE': 12,\n",
       "           'SKYLAR': 1,\n",
       "           'SKYLER': 11,\n",
       "           'SMITH': 1,\n",
       "           'SOLOMON': 14,\n",
       "           'SPENCER': 37,\n",
       "           'SRULY': 1,\n",
       "           'STANLEY': 10,\n",
       "           'STEFAN': 1,\n",
       "           'STEPHAN': 1,\n",
       "           'STEPHEN': 48,\n",
       "           'STEVE': 7,\n",
       "           'STEVEN': 85,\n",
       "           'SYED': 8,\n",
       "           'TAHA': 2,\n",
       "           'TANNER': 11,\n",
       "           'TATE': 1,\n",
       "           'TAYLOR': 3,\n",
       "           'TEMUR': 1,\n",
       "           'TENZIN': 8,\n",
       "           'TERENCE': 1,\n",
       "           'TERRANCE': 1,\n",
       "           'TERRELL': 1,\n",
       "           'TERRENCE': 10,\n",
       "           'TERRY': 2,\n",
       "           'THEO': 6,\n",
       "           'THEODORE': 56,\n",
       "           'THIAGO': 8,\n",
       "           'THOMAS': 176,\n",
       "           'TIMMY': 1,\n",
       "           'TIMOTHY': 91,\n",
       "           'TOBIAS': 1,\n",
       "           'TOMAS': 1,\n",
       "           'TONY': 9,\n",
       "           'TRAVIS': 36,\n",
       "           'TRENT': 7,\n",
       "           'TRENTON': 9,\n",
       "           'TREVOR': 39,\n",
       "           'TREY': 1,\n",
       "           'TRISTAN': 93,\n",
       "           'TRISTEN': 2,\n",
       "           'TRISTIAN': 1,\n",
       "           'TROY': 18,\n",
       "           'TUCKER': 4,\n",
       "           'TY': 3,\n",
       "           'TYLER': 211,\n",
       "           'TYRESE': 1,\n",
       "           'TYRONE': 2,\n",
       "           'TYSHAWN': 1,\n",
       "           'TYSON': 1,\n",
       "           'TZVI': 16,\n",
       "           'UMAR': 3,\n",
       "           'URIEL': 4,\n",
       "           'USHER': 16,\n",
       "           'VICTOR': 69,\n",
       "           'VINCENT': 121,\n",
       "           'VINCENZO': 14,\n",
       "           'VLADIMIR': 1,\n",
       "           'WALEED': 1,\n",
       "           'WALTER': 6,\n",
       "           'WESLEY': 31,\n",
       "           'WESTON': 5,\n",
       "           'WILLIAM': 230,\n",
       "           'WILLIE': 2,\n",
       "           'WILMER': 2,\n",
       "           'WILSON': 20,\n",
       "           'WINSTON': 4,\n",
       "           'WOLF': 3,\n",
       "           'WYATT': 122,\n",
       "           'XANDER': 6,\n",
       "           'XAVIER': 116,\n",
       "           'YAAKOV': 19,\n",
       "           'YADIEL': 4,\n",
       "           'YAEL': 1,\n",
       "           'YAHIR': 2,\n",
       "           'YAHYA': 2,\n",
       "           'YAIR': 1,\n",
       "           'YAKOV': 18,\n",
       "           'YANDEL': 3,\n",
       "           'YANKY': 2,\n",
       "           'YARIEL': 3,\n",
       "           'YASEEN': 4,\n",
       "           'YASIN': 1,\n",
       "           'YECHESKEL': 3,\n",
       "           'YECHEZKEL': 3,\n",
       "           'YECHIEL': 16,\n",
       "           'YEHOSHUA': 13,\n",
       "           'YEHUDA': 28,\n",
       "           'YIDA': 7,\n",
       "           'YIDEL': 2,\n",
       "           'YISRAEL': 6,\n",
       "           'YISROEL': 22,\n",
       "           'YITZCHAK': 5,\n",
       "           'YITZCHOK': 19,\n",
       "           'YOCHANAN': 1,\n",
       "           'YOEL': 13,\n",
       "           'YONA': 2,\n",
       "           'YONAH': 1,\n",
       "           'YONASON': 1,\n",
       "           'YONATAN': 1,\n",
       "           'YOSEF': 30,\n",
       "           'YOSSI': 6,\n",
       "           'YOUSEF': 5,\n",
       "           'YOUSIF': 1,\n",
       "           'YOUSSEF': 4,\n",
       "           'YUSUF': 10,\n",
       "           'YUVRAJ': 1,\n",
       "           'ZACHARIAH': 1,\n",
       "           'ZACHARY': 173,\n",
       "           'ZACK': 1,\n",
       "           'ZACKARY': 3,\n",
       "           'ZAHIR': 1,\n",
       "           'ZAIDEN': 2,\n",
       "           'ZAIN': 7,\n",
       "           'ZAIRE': 11,\n",
       "           'ZAKARIYA': 1,\n",
       "           'ZALMAN': 1,\n",
       "           'ZALMEN': 7,\n",
       "           'ZAMIR': 1,\n",
       "           'ZANDER': 1,\n",
       "           'ZANE': 3,\n",
       "           'ZAYAN': 2,\n",
       "           'ZAYD': 1,\n",
       "           'ZAYDEN': 5,\n",
       "           'ZAYN': 1,\n",
       "           'ZEV': 19,\n",
       "           'ZION': 34}))]"
      ]
     },
     "execution_count": 17,
     "metadata": {},
     "output_type": "execute_result"
    }
   ],
   "source": [
    "from collections import Counter\n",
    "gendernames.groupByKey().mapValues(lambda x: Counter(x)).take(1)"
   ]
  },
  {
   "cell_type": "markdown",
   "metadata": {},
   "source": [
    "## SubtractByKey"
   ]
  },
  {
   "cell_type": "markdown",
   "metadata": {},
   "source": [
    "From an RDD of (key, value) elements we can remove the keys that exist in another RDD using the **subtractByKey(r)** transformation. This transformationthe *not in* operator in SQL.\n",
    "\n",
    "First, construct an RDD with (name, gender) pairs"
   ]
  },
  {
   "cell_type": "code",
   "execution_count": 18,
   "metadata": {
    "collapsed": false
   },
   "outputs": [
    {
     "data": {
      "text/plain": [
       "[('GAVIN', 'M'), ('LEVI', 'M')]"
      ]
     },
     "execution_count": 18,
     "metadata": {},
     "output_type": "execute_result"
    }
   ],
   "source": [
    "nameGenders = babyrdd.map(lambda x: (x[1], x[3]))\n",
    "nameGenders.take(2)"
   ]
  },
  {
   "cell_type": "markdown",
   "metadata": {},
   "source": [
    "Then group the pairs by name, count the number of different genders by the length of a set"
   ]
  },
  {
   "cell_type": "code",
   "execution_count": 19,
   "metadata": {
    "collapsed": false
   },
   "outputs": [
    {
     "data": {
      "text/plain": [
       "[('ADRIEN', 1), ('HERSH', 1)]"
      ]
     },
     "execution_count": 19,
     "metadata": {},
     "output_type": "execute_result"
    }
   ],
   "source": [
    "nameCountGenders = nameGenders.groupByKey().mapValues(lambda x: len(set(x)))\n",
    "nameCountGenders.take(2)"
   ]
  },
  {
   "cell_type": "markdown",
   "metadata": {},
   "source": [
    "And keep only names that are used for one gender"
   ]
  },
  {
   "cell_type": "code",
   "execution_count": 20,
   "metadata": {
    "collapsed": false
   },
   "outputs": [
    {
     "data": {
      "text/plain": [
       "[('ADRIEN', 1), ('HERSH', 1)]"
      ]
     },
     "execution_count": 20,
     "metadata": {},
     "output_type": "execute_result"
    }
   ],
   "source": [
    "nameSingleGender = nameCountGenders.filter(lambda x: x[1] < 2)\n",
    "nameSingleGender.take(2)"
   ]
  },
  {
   "cell_type": "markdown",
   "metadata": {},
   "source": [
    "Now show only the names that do are not used for a single gender."
   ]
  },
  {
   "cell_type": "code",
   "execution_count": 21,
   "metadata": {
    "collapsed": false
   },
   "outputs": [
    {
     "data": {
      "text/plain": [
       "['EDEN', 'EMERSON', 'JAYDEN', 'JAYLIN', 'AVERY', 'HAYDEN', 'SKYLER', 'AMARI']"
      ]
     },
     "execution_count": 21,
     "metadata": {},
     "output_type": "execute_result"
    }
   ],
   "source": [
    "nameGenders.subtractByKey(nameSingleGender).keys().distinct().take(8)"
   ]
  },
  {
   "cell_type": "markdown",
   "metadata": {},
   "source": [
    "## Keys and Values"
   ]
  },
  {
   "cell_type": "markdown",
   "metadata": {},
   "source": [
    "From an RDD of (key, value) elements, we can use only the keys using the **keys()** transformation and use only the values using the **values()** transformation."
   ]
  },
  {
   "cell_type": "code",
   "execution_count": 22,
   "metadata": {
    "collapsed": false
   },
   "outputs": [
    {
     "data": {
      "text/plain": [
       "['M', 'M', 'M', 'M', 'M', 'M', 'F', 'F', 'F', 'F']"
      ]
     },
     "execution_count": 22,
     "metadata": {},
     "output_type": "execute_result"
    }
   ],
   "source": [
    "gendernames.keys().take(10)"
   ]
  },
  {
   "cell_type": "code",
   "execution_count": 23,
   "metadata": {
    "collapsed": false
   },
   "outputs": [
    {
     "data": {
      "text/plain": [
       "['GAVIN',\n",
       " 'LEVI',\n",
       " 'LOGAN',\n",
       " 'HUDSON',\n",
       " 'GABRIEL',\n",
       " 'THEODORE',\n",
       " 'ELIZA',\n",
       " 'MADELEINE',\n",
       " 'ZARA',\n",
       " 'DAISY']"
      ]
     },
     "execution_count": 23,
     "metadata": {},
     "output_type": "execute_result"
    }
   ],
   "source": [
    "gendernames.values().take(10)"
   ]
  }
 ],
 "metadata": {
  "kernelspec": {
   "display_name": "Python 3",
   "language": "python",
   "name": "python3"
  },
  "language_info": {
   "codemirror_mode": {
    "name": "ipython",
    "version": 3
   },
   "file_extension": ".py",
   "mimetype": "text/x-python",
   "name": "python",
   "nbconvert_exporter": "python",
   "pygments_lexer": "ipython3",
   "version": "3.5.1"
  }
 },
 "nbformat": 4,
 "nbformat_minor": 0
}
