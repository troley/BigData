{
 "cells": [
  {
   "cell_type": "markdown",
   "metadata": {},
   "source": [
    "## CSV 2D table to list\n",
    "\n",
    "The file income.csv (from gapminder.org) contains a 2D matrix with the average income (estimated as the GPD/capita) per country per year. Since 2D matrices are a bit more difficult to process, we will show how to preprocess one, and let you convert another in the assignments."
   ]
  },
  {
   "cell_type": "markdown",
   "metadata": {},
   "source": [
    "Load the file as lines of text, and view the first line which contains the column labels."
   ]
  },
  {
   "cell_type": "code",
   "execution_count": null,
   "metadata": {
    "collapsed": false
   },
   "outputs": [],
   "source": [
    "filename = '../data/income.csv'\n",
    "# read the file as lines of text\n",
    "income2d = sc.textFile(filename)\n",
    "# grab the header of the file\n",
    "income2dheader = income2d.first()\n",
    "income2dheader"
   ]
  },
  {
   "cell_type": "markdown",
   "metadata": {},
   "source": [
    "In this file structure, the columns represent years, the rows are countries, and in the matrix cells the values are the incomes. The easiest way to process the file is to convert the 2D table format into a 1 dimensional list where every element is (country, year, income). \n",
    "\n",
    "In the table, the key (country) is in the first column and the values are in the following colums. There We can split each lines by the ',' separator and then create key,value pairs, where the value is a list over the years. For example, `Albania, 20, 20, 40` would become `(Albania, [20, 20, 40])`."
   ]
  },
  {
   "cell_type": "code",
   "execution_count": null,
   "metadata": {
    "collapsed": true
   },
   "outputs": [],
   "source": [
    "def splitkey(x):\n",
    "    s = x.split(',')\n",
    "    return (s[0], s[1:])\n",
    "\n",
    "income2d = income2d.map(splitkey)"
   ]
  },
  {
   "cell_type": "markdown",
   "metadata": {},
   "source": [
    "We can now extract the year labels from the first line (showing just the first 5)."
   ]
  },
  {
   "cell_type": "code",
   "execution_count": null,
   "metadata": {
    "collapsed": false
   },
   "outputs": [],
   "source": [
    "header = income2d.first()\n",
    "income2d = income2d.filter(lambda x: x != header)\n",
    "years = header[1]\n",
    "years[:5]"
   ]
  },
  {
   "cell_type": "markdown",
   "metadata": {},
   "source": [
    "Next we want to attach the years in the header (first line) to the values of every other line. We can do that using Python's `zip` function. e.g. `(Albania, [20,30])` would become `[(Albania, 1800, 20), (Albania, 1801, 30)]`. By flattening the RDD, we obtain seperate elements for every (country, year, income) tuple.\n",
    "\n",
    "To use zip, we need three lists of equal length, the code `[x[0]] * len(years)` takes the country name `x[0]` places it in a list `[x[0]]` and the `*` duplicates the element to match the length of years. `zip(a, b, c)` results in a new list with `(a[0], b[0], c[0]), (a[1], b[1], c[1])`, etc."
   ]
  },
  {
   "cell_type": "code",
   "execution_count": null,
   "metadata": {
    "collapsed": true
   },
   "outputs": [],
   "source": [
    "income = income2d.flatMap(lambda x: list(zip([x[0]] * len(years), years, x[1])))"
   ]
  },
  {
   "cell_type": "markdown",
   "metadata": {},
   "source": [
    "One final thing to make processing easier, is to convert the last column to a float."
   ]
  },
  {
   "cell_type": "code",
   "execution_count": null,
   "metadata": {
    "collapsed": false
   },
   "outputs": [],
   "source": [
    "income = income.map(lambda x: (x[0], x[1], None if x[2] == '' else float(x[2])))"
   ]
  },
  {
   "cell_type": "markdown",
   "metadata": {},
   "source": [
    "And show the first 5 occurrences with actual data."
   ]
  },
  {
   "cell_type": "code",
   "execution_count": null,
   "metadata": {
    "collapsed": false
   },
   "outputs": [],
   "source": [
    "income.filter(lambda x: x[2] is not None).take(5)"
   ]
  },
  {
   "cell_type": "code",
   "execution_count": null,
   "metadata": {
    "collapsed": true
   },
   "outputs": [],
   "source": []
  }
 ],
 "metadata": {
  "anaconda-cloud": {},
  "kernelspec": {
   "display_name": "Python 3",
   "language": "python",
   "name": "python3"
  },
  "language_info": {
   "codemirror_mode": {
    "name": "ipython",
    "version": 3
   },
   "file_extension": ".py",
   "mimetype": "text/x-python",
   "name": "python",
   "nbconvert_exporter": "python",
   "pygments_lexer": "ipython3",
   "version": "3.5.2"
  }
 },
 "nbformat": 4,
 "nbformat_minor": 1
}
