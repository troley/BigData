{
 "cells": [
  {
   "cell_type": "markdown",
   "metadata": {},
   "source": [
    "# Joining RDD's"
   ]
  },
  {
   "cell_type": "code",
   "execution_count": null,
   "metadata": {
    "collapsed": true
   },
   "outputs": [],
   "source": [
    "filename = '../data/babynames.csv'\n",
    "if not os.path.exists(filename):\n",
    "    import urllib.request\n",
    "    urllib.request.urlretrieve (\"https://health.data.ny.gov/api/views/jxy9-yhdk/rows.csv?accessType=DOWNLOAD\", \\\n",
    "                                filename)"
   ]
  },
  {
   "cell_type": "code",
   "execution_count": null,
   "metadata": {
    "collapsed": false
   },
   "outputs": [],
   "source": [
    "def readCSV(fname, header=False, separator=','):\n",
    "    rdd = sc.textFile(fname)\n",
    "    if header:\n",
    "        firstline = rdd.first()\n",
    "        rdd = rdd.filter(lambda x: x != firstline)\n",
    "    return rdd.map(lambda x: x.split(separator))\n",
    "\n",
    "babyrdd = readCSV(filename, header=True)\n",
    "print(babyrdd.take(5))"
   ]
  },
  {
   "cell_type": "markdown",
   "metadata": {},
   "source": [
    "Some names are given to both girls and boys, let us list those names, together with how often a boy received that name and how often a girl.\n",
    "\n",
    "To start, per gender, we generate an RDD of (first name, frequency), and use reduceByKey to aggregate those names over all regions and years."
   ]
  },
  {
   "cell_type": "markdown",
   "metadata": {},
   "source": [
    "## Join"
   ]
  },
  {
   "cell_type": "markdown",
   "metadata": {},
   "source": [
    "In two (key, value) RDDs A and B, we can use the (inner) **join()** transformation to obtain all possible combinations for which A.key == B.key. The result is pair of the form (key, (value1, value2))."
   ]
  },
  {
   "cell_type": "code",
   "execution_count": null,
   "metadata": {
    "collapsed": false
   },
   "outputs": [],
   "source": [
    "boys = babyrdd.filter(lambda x: x[3] == 'M').\\\n",
    "        map(lambda x: (x[1], int(x[4]))).\\\n",
    "        reduceByKey(lambda x, y: x + y)\n",
    "girls = babyrdd.filter(lambda x: x[3] == 'F').\\\n",
    "        map(lambda x: (x[1], int(x[4]))).\\\n",
    "        reduceByKey(lambda x, y: x + y)\n",
    "\n",
    "samename = boys.join(girls)\n",
    "print(samename.collect())"
   ]
  },
  {
   "cell_type": "markdown",
   "metadata": {},
   "source": [
    "## LeftOuterJoin"
   ]
  },
  {
   "cell_type": "markdown",
   "metadata": {},
   "source": [
    "Alternatively, two (key, value) RDD's A and B can be combined with a **leftOuterJoin** (or rightOuterJoin), resulting in an RDD that contains all (key, value) pairs in A, and when available joined by matching (key, value) pairs in B. If no matching (key, value) pair is found in B, the value for B is set to *None*.\n",
    "\n",
    "NB there is also a `fullOuterJoin` and a `rightOuterJoin`."
   ]
  },
  {
   "cell_type": "code",
   "execution_count": null,
   "metadata": {
    "collapsed": false
   },
   "outputs": [],
   "source": [
    "boys = babyrdd.filter(lambda x: x[3] == 'M' and x[2] == 'NEW YORK').\\\n",
    "        map(lambda x: (x[1], int(x[4]))).\\\n",
    "        reduceByKey(lambda x, y: x + y)\n",
    "girls = babyrdd.filter(lambda x: x[3] == 'F' and x[2] == 'NEW YORK').\\\n",
    "        map(lambda x: (x[1], int(x[4]))).\\\n",
    "        reduceByKey(lambda x, y: x + y)\n",
    "\n",
    "samename = boys.leftOuterJoin(girls)\n",
    "print(samename.collect())"
   ]
  },
  {
   "cell_type": "markdown",
   "metadata": {},
   "source": [
    "## Cogroup"
   ]
  },
  {
   "cell_type": "markdown",
   "metadata": {},
   "source": [
    "A more powerful way to control a join between two (key, value) RDDs A and B, is to use the **cogroup** transformation. The resulting RDD will contain a full outer join of A and B of the form `(key, (<values in A iter>, <values in B iter>))`.\n",
    "\n",
    "Note that cogroup returns Iterable objects, which you can turn into lists using the list function."
   ]
  },
  {
   "cell_type": "code",
   "execution_count": null,
   "metadata": {
    "collapsed": false
   },
   "outputs": [],
   "source": [
    "boys = babyrdd.filter(lambda x: x[3] == 'M' and x[2] == 'NEW YORK' and x[0] == '2013').\\\n",
    "        map(lambda x: (x[1], int(x[4]))).\\\n",
    "        reduceByKey(lambda x, y: x + y)\n",
    "girls = babyrdd.filter(lambda x: x[3] == 'F' and x[2] == 'NEW YORK' and x[0] == '2013').\\\n",
    "        map(lambda x: (x[1], int(x[4]))).\\\n",
    "        reduceByKey(lambda x, y: x + y)\n",
    "\n",
    "samename = boys.cogroup(girls).map(lambda x: (x[0], (list(x[1][0]), list(x[1][1]))))\n",
    "print(samename.collect())"
   ]
  }
 ],
 "metadata": {
  "kernelspec": {
   "display_name": "Python 3",
   "language": "python",
   "name": "python3"
  },
  "language_info": {
   "codemirror_mode": {
    "name": "ipython",
    "version": 3
   },
   "file_extension": ".py",
   "mimetype": "text/x-python",
   "name": "python",
   "nbconvert_exporter": "python",
   "pygments_lexer": "ipython3",
   "version": "3.5.2"
  }
 },
 "nbformat": 4,
 "nbformat_minor": 0
}
