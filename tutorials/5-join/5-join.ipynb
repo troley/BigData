{
 "cells": [
  {
   "cell_type": "markdown",
   "metadata": {},
   "source": [
    "# Joining RDD's"
   ]
  },
  {
   "cell_type": "code",
   "execution_count": 3,
   "metadata": {
    "collapsed": true
   },
   "outputs": [],
   "source": [
    "filename = '../data/babynames.csv'\n",
    "if not os.path.exists(filename):\n",
    "    import urllib.request\n",
    "    urllib.request.urlretrieve (\"https://health.data.ny.gov/api/views/jxy9-yhdk/rows.csv?accessType=DOWNLOAD\", \\\n",
    "                                filename)"
   ]
  },
  {
   "cell_type": "code",
   "execution_count": 4,
   "metadata": {
    "collapsed": false
   },
   "outputs": [
    {
     "name": "stdout",
     "output_type": "stream",
     "text": [
      "[['2013', 'GAVIN', 'ST LAWRENCE', 'M', '9'], ['2013', 'LEVI', 'ST LAWRENCE', 'M', '9'], ['2013', 'LOGAN', 'NEW YORK', 'M', '44'], ['2013', 'HUDSON', 'NEW YORK', 'M', '49'], ['2013', 'GABRIEL', 'NEW YORK', 'M', '50']]\n"
     ]
    }
   ],
   "source": [
    "def readCSV(fname, header=False, separator=','):\n",
    "    rdd = sc.textFile(fname)\n",
    "    if header:\n",
    "        firstline = rdd.first()\n",
    "        rdd = rdd.filter(lambda x: x != firstline)\n",
    "    return rdd.map(lambda x: x.split(separator))\n",
    "\n",
    "babyrdd = readCSV(filename, header=True)\n",
    "print(babyrdd.take(5))"
   ]
  },
  {
   "cell_type": "markdown",
   "metadata": {},
   "source": [
    "Some names are given to both girls and boys, let us list those names, together with how often a boy received that name and how often a girl.\n",
    "\n",
    "To start, per gender, we generate an RDD of (first name, frequency), and use reduceByKey to aggregate those names over all regions and years."
   ]
  },
  {
   "cell_type": "markdown",
   "metadata": {},
   "source": [
    "## Join"
   ]
  },
  {
   "cell_type": "markdown",
   "metadata": {},
   "source": [
    "In two (key, value) RDDs A and B, we can use the (inner) **join()** transformation to obtain all possible combinations for which A.key == B.key. The result is pair of the form (key, (value1, value2))."
   ]
  },
  {
   "cell_type": "code",
   "execution_count": 6,
   "metadata": {
    "collapsed": false
   },
   "outputs": [
    {
     "name": "stdout",
     "output_type": "stream",
     "text": [
      "[('LOGAN', (5203, 24)), ('TAYLOR', (17, 1638)), ('DYLAN', (6419, 219)), ('JAIME', (29, 7)), ('HAYDEN', (412, 119)), ('KAMARI', (44, 6)), ('CAMERON', (2278, 87)), ('SKYLER', (77, 42)), ('JORDAN', (2854, 272)), ('EDEN', (31, 245)), ('JAYLIN', (30, 90)), ('ROYAL', (5, 5)), ('QUINN', (162, 258)), ('HUNTER', (2052, 12)), ('RYAN', (8995, 68)), ('TENZIN', (188, 180)), ('EMERSON', (80, 91)), ('SHILOH', (18, 38)), ('AMARI', (345, 23)), ('SKYLAR', (5, 785)), ('JAIDEN', (806, 6)), ('JAYDEN', (9836, 33)), ('AVERY', (395, 1918)), ('ARIEL', (490, 533)), ('PHOENIX', (33, 44)), ('FINLEY', (6, 5)), ('AUGUST', (190, 5)), ('LONDON', (5, 939)), ('MILAN', (70, 121)), ('BLAKE', (1195, 51)), ('PARIS', (5, 208)), ('YAEL', (6, 109)), ('ROWAN', (66, 5)), ('SHEA', (72, 12)), ('PEYTON', (200, 1036)), ('SAGE', (5, 19)), ('KAI', (529, 5)), ('RILEY', (571, 1610)), ('ALEXIS', (573, 1779)), ('CHARLIE', (231, 25)), ('REESE', (5, 273)), ('ANGEL', (3148, 220)), ('CASEY', (58, 130)), ('PARKER', (766, 30)), ('EMERY', (7, 12)), ('JOEY', (12, 5))]\n"
     ]
    }
   ],
   "source": [
    "boys = babyrdd.filter(lambda x: x[3] == 'M').\\\n",
    "        map(lambda x: (x[1], int(x[4]))).\\\n",
    "        reduceByKey(lambda x, y: x + y)\n",
    "girls = babyrdd.filter(lambda x: x[3] == 'F').\\\n",
    "        map(lambda x: (x[1], int(x[4]))).\\\n",
    "        reduceByKey(lambda x, y: x + y)\n",
    "        \n",
    "samename = boys.join(girls)\n",
    "print(samename.collect())"
   ]
  },
  {
   "cell_type": "markdown",
   "metadata": {},
   "source": [
    "## LeftOuterJoin"
   ]
  },
  {
   "cell_type": "markdown",
   "metadata": {},
   "source": [
    "Alternatively, two (key, value) RDD's A and B can be combined with a **leftOuterJoin** (or rightOuterJoin), resulting in an RDD that contains all (key, value) pairs in A, and when available joined by matching (key, value) pairs in B. If no matching (key, value) pair is found in B, the value for B is set to *None*.\n",
    "\n",
    "NB there is also a `fullOuterJoin` and a `rightOuterJoin`."
   ]
  },
  {
   "cell_type": "code",
   "execution_count": 22,
   "metadata": {
    "collapsed": false
   },
   "outputs": [
    {
     "name": "stdout",
     "output_type": "stream",
     "text": [
      "[('AIDEN', (395, None)), ('ELLIOT', (50, None)), ('ETHAN', (723, None)), ('JUAN', (81, None)), ('ALLEN', (23, None)), ('LOGAN', (201, None)), ('EITAN', (10, None)), ('DEVIN', (108, None)), ('GABRIEL', (410, None)), ('PRESTON', (12, None)), ('ISAAC', (248, None)), ('KAIDEN', (12, None)), ('JORGE', (10, None)), ('PEDRO', (22, None)), ('MARTIN', (35, None)), ('ANDY', (86, None)), ('JEFFREY', (24, None)), ('QUINN', (23, 23)), ('LUKE', (307, None)), ('WESLEY', (28, None)), ('FREDERICK', (11, None)), ('AUSTIN', (115, None)), ('ISAIAH', (151, None)), ('AVERY', (36, 218)), ('VINCENT', (165, None)), ('ANTHONY', (321, None)), ('CODY', (12, None)), ('LUCAS', (547, None)), ('KADEN', (10, None)), ('ARJUN', (13, None)), ('JASON', (263, None)), ('RAPHAEL', (51, None)), ('JESUS', (65, None)), ('REX', (12, None)), ('ROBERT', (219, None)), ('RAYMOND', (58, None)), ('JUDE', (43, None)), ('KIERAN', (34, None)), ('PATRICK', (114, None)), ('DYLAN', (552, 93)), ('SHANE', (25, None)), ('JAKE', (237, None)), ('PAUL', (94, None)), ('ANDRES', (11, None)), ('CADEN', (11, None)), ('MAMADOU', (10, None)), ('HUNTER', (114, None)), ('ARI', (99, None)), ('MARCOS', (21, None)), ('AARON', (329, None)), ('NICOLAS', (170, None)), ('EDUARDO', (31, None)), ('GAEL', (10, None)), ('TRISTAN', (156, None)), ('HARRY', (64, None)), ('MOHAMED', (64, None)), ('NOLAN', (13, None)), ('LORENZO', (35, None)), ('BRYAN', (114, None)), ('LUIS', (159, None)), ('GRAYSON', (48, None)), ('RYDER', (34, None)), ('CONNOR', (160, None)), ('LUKAS', (34, None)), ('VICTOR', (113, None)), ('HAYDEN', (39, 11)), ('CALEB', (154, None)), ('MARCUS', (126, None)), ('OLIVER', (415, None)), ('ANDREW', (433, None)), ('NELSON', (12, None)), ('JADEN', (157, None)), ('SANTIAGO', (22, None)), ('JACE', (10, None)), ('DECLAN', (67, None)), ('JEREMIAH', (171, None)), ('ALESSANDRO', (13, None)), ('RICHARD', (102, None)), ('EVERETT', (10, None)), ('THEO', (14, None)), ('AMIR', (45, None)), ('CAMERON', (110, None)), ('OMAR', (50, None)), ('CHRISTOPHER', (388, None)), ('SAM', (28, None)), ('PETER', (136, None)), ('EMMANUEL', (95, None)), ('MYLES', (11, None)), ('SPENCER', (89, None)), ('COLE', (89, None)), ('LEVI', (41, None)), ('ALAN', (52, None)), ('GRANT', (49, None)), ('CONOR', (10, None)), ('MASON', (327, None)), ('SIMON', (128, None)), ('BRAYDEN', (11, None)), ('JOSE', (145, None)), ('MILO', (56, None)), ('LEON', (36, None)), ('NOAH', (569, None)), ('MATEO', (113, None)), ('JULIO', (10, None)), ('AIDAN', (215, None)), ('STEVEN', (137, None)), ('BRADY', (36, None)), ('ENZO', (12, None)), ('RYAN', (659, 10)), ('KYLE', (123, None)), ('JAIDEN', (30, None)), ('CAYDEN', (10, None)), ('JEREMY', (198, None)), ('CHRISTIAN', (281, None)), ('KAYDEN', (27, None)), ('JESSE', (41, None)), ('ALI', (11, None)), ('KELVIN', (22, None)), ('JULIUS', (17, None)), ('EVAN', (297, None)), ('TONY', (15, None)), ('WILLIAM', (804, None)), ('JORDAN', (204, 30)), ('CHASE', (171, None)), ('JEAN', (10, None)), ('DANIEL', (703, None)), ('JOEL', (95, None)), ('ARIEL', (42, 13)), ('GRAHAM', (49, None)), ('JOSEPH', (415, None)), ('EDWARD', (179, None)), ('JASPER', (84, None)), ('MIGUEL', (99, None)), ('JONAS', (12, None)), ('JAYDEN', (641, None)), ('MICHAEL', (539, None)), ('MAXIMUS', (12, None)), ('JONATHAN', (348, None)), ('JOSIAH', (70, None)), ('GIOVANNI', (40, None)), ('ALEJANDRO', (66, None)), ('ZACHARY', (351, None)), ('JAMES', (610, None)), ('ZION', (23, None)), ('JOSHUA', (441, None)), ('DAMIEN', (10, None)), ('GRIFFIN', (81, None)), ('ELIAS', (123, None)), ('NATHAN', (249, None)), ('JARIEL', (10, None)), ('JUSTIN', (448, None)), ('JUDAH', (22, None)), ('MALACHI', (11, None)), ('LACHLAN', (12, None)), ('CALVIN', (10, None)), ('JOAQUIN', (22, None)), ('MAX', (434, None)), ('LEONARDO', (101, None)), ('ALEXANDER', (918, None)), ('NATHANIEL', (255, None)), ('GEORGE', (180, None)), ('IAN', (207, None)), ('SEAN', (147, None)), ('DESMOND', (10, None)), ('KEVIN', (310, None)), ('CARLOS', (120, None)), ('CRISTIAN', (10, None)), ('BLAKE', (94, 12)), ('BRODY', (57, None)), ('JULIAN', (331, None)), ('THOMAS', (311, None)), ('BEN', (10, None)), ('ALBERT', (47, None)), ('TIMOTHY', (73, None)), ('ROMAN', (34, None)), ('EDWIN', (77, None)), ('BRANDON', (301, None)), ('AUGUST', (37, None)), ('ADEN', (24, None)), ('JONAH', (195, None)), ('BRENDAN', (11, None)), ('ADAM', (227, None)), ('DOMINIC', (10, None)), ('MICAH', (60, None)), ('JAYLEN', (15, None)), ('ALEX', (182, None)), ('ANTONIO', (52, None)), ('IBRAHIM', (20, None)), ('WILSON', (21, None)), ('ANDERSON', (10, None)), ('JACKSON', (303, None)), ('BENJAMIN', (655, None)), ('ERICK', (23, None)), ('ELIJAH', (283, None)), ('MARK', (48, None)), ('ADRIAN', (223, None)), ('ROHAN', (10, None)), ('XAVIER', (192, None)), ('LUCA', (207, None)), ('DEAN', (32, None)), ('HENRY', (602, None)), ('BRADLEY', (20, None)), ('SAMUEL', (507, None)), ('DIEGO', (102, None)), ('JARED', (42, None)), ('ALEXIS', (33, 120)), ('KING', (10, None)), ('MARC', (21, None)), ('BRIAN', (132, None)), ('DANNY', (22, None)), ('KAI', (119, None)), ('EZRA', (83, None)), ('GAVIN', (191, None)), ('ERIC', (244, None)), ('KENNETH', (35, None)), ('ABRAHAM', (53, None)), ('LIAM', (438, None)), ('LUKA', (20, None)), ('DAVID', (443, None)), ('RAFAEL', (93, None)), ('HUGO', (67, None)), ('CHARLIE', (46, None)), ('MILES', (209, None)), ('HARRISON', (167, None)), ('THEODORE', (237, None)), ('MATTHEW', (625, None)), ('CHRIS', (23, None)), ('DAMIAN', (12, None)), ('AXEL', (24, None)), ('OSCAR', (164, None)), ('BRYCE', (35, None)), ('WYATT', (60, None)), ('PHILIP', (32, None)), ('MAXWELL', (222, None)), ('ANDRE', (11, None)), ('AYDEN', (120, None)), ('JOHN', (525, None)), ('MAXIMILIAN', (110, None)), ('RILEY', (28, 127)), ('NICHOLAS', (348, None)), ('PARKER', (78, 11)), ('CARTER', (92, None)), ('COLIN', (104, None)), ('SEBASTIAN', (431, None)), ('MARCO', (32, None)), ('HECTOR', (10, None)), ('CHARLES', (472, None)), ('OWEN', (277, None)), ('ELI', (254, None)), ('JOHAN', (10, None)), ('JULIEN', (34, None)), ('COOPER', (114, None)), ('FELIX', (110, None)), ('JADIEL', (14, None)), ('ARTHUR', (50, None)), ('HUDSON', (233, None)), ('MATTEO', (44, None)), ('ISMAEL', (11, None)), ('ANGEL', (288, None)), ('LOUIS', (78, None)), ('JACOB', (656, None)), ('FINN', (51, None)), ('BENNETT', (13, None)), ('TYLER', (255, None)), ('ASHER', (128, None)), ('JACK', (638, None)), ('NASIR', (11, None)), ('EMMETT', (10, None)), ('LEO', (368, None)), ('DEREK', (92, None)), ('IVAN', (128, None)), ('LANDON', (37, None))]\n"
     ]
    }
   ],
   "source": [
    "boys = babyrdd.filter(lambda x: x[3] == 'M' and x[2] == 'NEW YORK').\\\n",
    "        map(lambda x: (x[1], int(x[4]))).\\\n",
    "        reduceByKey(lambda x, y: x + y)\n",
    "girls = babyrdd.filter(lambda x: x[3] == 'F' and x[2] == 'NEW YORK').\\\n",
    "        map(lambda x: (x[1], int(x[4]))).\\\n",
    "        reduceByKey(lambda x, y: x + y)\n",
    "\n",
    "samename = boys.leftOuterJoin(girls)\n",
    "print(samename.collect())"
   ]
  },
  {
   "cell_type": "markdown",
   "metadata": {},
   "source": [
    "## Cogroup"
   ]
  },
  {
   "cell_type": "markdown",
   "metadata": {},
   "source": [
    "A more powerful way to control a join between two (key, value) RDDs A and B, is to use the **cogroup** transformation. The resulting RDD will contain a full outer join of A and B of the form `(key, (<values in A iter>, <values in B iter>))`.\n",
    "\n",
    "Note that cogroup returns Iterable objects, which you can turn into lists using the list function."
   ]
  },
  {
   "cell_type": "code",
   "execution_count": 23,
   "metadata": {
    "collapsed": false
   },
   "outputs": [
    {
     "name": "stdout",
     "output_type": "stream",
     "text": [
      "[('AIDEN', ([53], [])), ('AARON', ([38], [])), ('EVAN', ([26], [])), ('JAMES', ([99], [])), ('COLETTE', ([], [10])), ('DECLAN', ([11], [])), ('JESSICA', ([], [11])), ('NICOLAS', ([21], [])), ('DEVIN', ([15], [])), ('GABRIEL', ([50], [])), ('VIVIENNE', ([], [23])), ('SKYLAR', ([], [14])), ('JOSEPHINE', ([], [13])), ('KAIDEN', ([12], [])), ('IRIS', ([], [12])), ('BRYAN', ([10], [])), ('VICTOR', ([13], [])), ('KAYLA', ([], [14])), ('ZOEY', ([], [20])), ('KIARA', ([], [11])), ('QUINN', ([], [12])), ('JAYDEN', ([66], [])), ('CHRISTOPHER', ([52], [])), ('TRISTAN', ([20], [])), ('ARIA', ([], [17])), ('ETHAN', ([97], [])), ('LUKE', ([41], [])), ('STEVEN', ([13], [])), ('WESLEY', ([14], [])), ('NORA', ([], [21])), ('LAYLA', ([], [19])), ('AUSTIN', ([22], [])), ('MICHELLE', ([], [10])), ('BRADY', ([12], [])), ('RYAN', ([92], [])), ('GABRIELLA', ([], [28])), ('CAYDEN', ([10], [])), ('JASMINE', ([], [13])), ('AMBER', ([], [14])), ('VINCENT', ([19], [])), ('ANTHONY', ([33], [])), ('EDWARD', ([20], [])), ('LUCAS', ([93], [])), ('MOHAMED', ([12], [])), ('HARPER', ([], [22])), ('EMILY', ([], [45])), ('JASON', ([26], [])), ('LUNA', ([], [21])), ('RAPHAEL', ([13], [])), ('NOA', ([], [11])), ('JESUS', ([10], [])), ('SIENNA', ([], [22])), ('ROBERT', ([30], [])), ('KIERAN', ([11], [])), ('LOGAN', ([44], [])), ('MIRIAM', ([], [11])), ('ANASTASIA', ([], [11])), ('CAROLINE', ([], [26])), ('NOAH', ([115], [])), ('JUDE', ([12], [])), ('WILLIAM', ([119], [])), ('JORDAN', ([22], [])), ('PATRICK', ([14], [])), ('ISAAC', ([33], [])), ('JAKE', ([20], [])), ('CHASE', ([21], [])), ('AVERY', ([11], [30])), ('JULIETTE', ([], [16])), ('MILA', ([], [27])), ('OLIVER', ([66], [])), ('COLE', ([14], [])), ('GENESIS', ([], [14])), ('PAUL', ([12], [])), ('AIDAN', ([18], [])), ('JONATHAN', ([51], [])), ('MAYA', ([], [57])), ('BELLA', ([], [28])), ('ISABELLA', ([], [81])), ('EMMANUEL', ([13], [])), ('GIA', ([], [10])), ('ARI', ([16], [])), ('LEVI', ([17], [])), ('VALERIE', ([], [11])), ('JOSEPH', ([66], [])), ('JOSE', ([13], [])), ('JEREMY', ([19], [])), ('LILLIAN', ([], [19])), ('GAEL', ([10], [])), ('CONNOR', ([22], [])), ('MADISON', ([], [53])), ('NYLA', ([], [16])), ('HARRY', ([14], [])), ('FIONA', ([], [16])), ('JOEL', ([12], [])), ('DAPHNE', ([], [13])), ('GRAHAM', ([11], [])), ('LORENZO', ([10], [])), ('LUIS', ([14], [])), ('GRAYSON', ([19], [])), ('CATHERINE', ([], [30])), ('MORGAN', ([], [13])), ('CHLOE', ([], [62])), ('ROSE', ([], [13])), ('SYDNEY', ([], [28])), ('SOPHIA', ([], [77])), ('LILY', ([], [36])), ('DANIEL', ([85], [])), ('ELIZABETH', ([], [36])), ('ARIANA', ([], [21])), ('ELIAS', ([23], [])), ('MIGUEL', ([11], [])), ('MARCUS', ([12], [])), ('SERENITY', ([], [13])), ('ANDREW', ([38], [])), ('ALLISON', ([], [16])), ('CHRISTIAN', ([23], [])), ('JAYLA', ([], [12])), ('MASON', ([69], [])), ('ZOE', ([], [65])), ('ELENA', ([], [15])), ('JACE', ([10], [])), ('ISABELLE', ([], [17])), ('RUBY', ([], [14])), ('JEREMIAH', ([23], [])), ('EVERETT', ([10], [])), ('MICHAEL', ([68], [])), ('JOSIAH', ([17], [])), ('CORA', ([], [10])), ('GRANT', ([11], [])), ('CHARLOTTE', ([], [76])), ('JADEN', ([19], [])), ('ELEANOR', ([], [21])), ('JOSHUA', ([53], [])), ('ELLIOT', ([10], [])), ('CAMERON', ([18], [])), ('VALENTINA', ([], [21])), ('ZACHARY', ([38], [])), ('ISAIAH', ([18], [])), ('LIA', ([], [14])), ('NAOMI', ([], [23])), ('HAILEY', ([], [26])), ('MATEO', ([20], [])), ('ISABEL', ([], [22])), ('ADDISON', ([], [14])), ('PETER', ([17], [])), ('DELILAH', ([], [11])), ('HAZEL', ([], [11])), ('MELANIE', ([], [10])), ('TALIA', ([], [16])), ('SPENCER', ([15], [])), ('AMELIA', ([], [26])), ('CAMILLA', ([], [10])), ('KYLIE', ([], [17])), ('SIMON', ([22], [])), ('RICHARD', ([14], [])), ('ANYA', ([], [10])), ('ELIZA', ([], [15])), ('EVELYN', ([], [35])), ('CALEB', ([37], [])), ('SARA', ([], [13])), ('VIOLET', ([], [23])), ('HUNTER', ([21], [])), ('ELLIE', ([], [11])), ('EVA', ([], [35])), ('CONOR', ([10], [])), ('NATHAN', ([32], [])), ('LAUREN', ([], [10])), ('DYLAN', ([85], [])), ('TAYLOR', ([], [16])), ('EZRA', ([18], [])), ('JUSTIN', ([32], [])), ('PHILIP', ([11], [])), ('MILAN', ([], [10])), ('EMILIA', ([], [15])), ('MICAH', ([11], [])), ('JADE', ([], [13])), ('MAX', ([62], [])), ('KAYLEE', ([], [13])), ('BRODY', ([11], [])), ('ARIANNA', ([], [19])), ('ALEXANDER', ([123], [])), ('AMANDA', ([], [10])), ('NATHANIEL', ([26], [])), ('PHOEBE', ([], [13])), ('GEORGE', ([25], [])), ('IAN', ([26], [])), ('JANE', ([], [14])), ('OSCAR', ([23], [])), ('CARLOS', ([11], [])), ('KHLOE', ([], [13])), ('BLAKE', ([19], [])), ('MARY', ([], [11])), ('ADRIAN', ([24], [])), ('SLOANE', ([], [19])), ('KATHERINE', ([], [27])), ('LOLA', ([], [14])), ('LEONARDO', ([13], [])), ('JULIAN', ([44], [])), ('THOMAS', ([34], [])), ('BEN', ([10], [])), ('ALBERT', ([10], [])), ('TIMOTHY', ([11], [])), ('ARTHUR', ([12], [])), ('ROMAN', ([12], [])), ('JACQUELINE', ([], [11])), ('OLIVIA', ([], [118])), ('AUGUST', ([11], [])), ('BRANDON', ([28], [])), ('CLAIRE', ([], [19])), ('ANNA', ([], [33])), ('AALIYAH', ([], [14])), ('ELLE', ([], [10])), ('ADAM', ([25], [])), ('JONAH', ([27], [])), ('MIA', ([], [70])), ('JOAQUIN', ([10], [])), ('ALEX', ([28], [])), ('ANTONIO', ([15], [])), ('MADELEINE', ([], [28])), ('IBRAHIM', ([10], [])), ('PAIGE', ([], [16])), ('HELENA', ([], [12])), ('REBECCA', ([], [15])), ('ALEXA', ([], [25])), ('XAVIER', ([19], [])), ('TYLER', ([29], [])), ('LEAH', ([], [33])), ('DOMINIC', ([10], [])), ('LUCA', ([25], [])), ('JOHN', ([68], [])), ('PENELOPE', ([], [41])), ('DEAN', ([10], [])), ('HENRY', ([87], [])), ('NINA', ([], [29])), ('AYDEN', ([19], [])), ('DIEGO', ([14], [])), ('MARGARET', ([], [14])), ('KING', ([10], [])), ('MARIA', ([], [17])), ('BRIANNA', ([], [13])), ('RILEY', ([14], [19])), ('CLARA', ([], [19])), ('BENJAMIN', ([86], [])), ('VIVIAN', ([], [26])), ('SOPHIE', ([], [44])), ('KAI', ([15], [])), ('SAVANNAH', ([], [11])), ('GRACE', ([], [33])), ('GAVIN', ([29], [])), ('SASHA', ([], [12])), ('SEAN', ([13], [])), ('JULIA', ([], [41])), ('SOFIA', ([], [48])), ('AUBREY', ([], [13])), ('SABRINA', ([], [10])), ('MATILDA', ([], [12])), ('ABRAHAM', ([10], [])), ('MARGOT', ([], [11])), ('ALEXIS', ([], [11])), ('ELLA', ([], [57])), ('ELOISE', ([], [17])), ('ANNABELLE', ([], [17])), ('DAVID', ([53], [])), ('SAMANTHA', ([], [31])), ('SADIE', ([], [34])), ('HUGO', ([15], [])), ('CHARLIE', ([12], [])), ('MILES', ([30], [])), ('LIAM', ([81], [])), ('LIV', ([], [12])), ('GEORGIA', ([], [12])), ('MATTHEW', ([76], [])), ('MADELINE', ([], [29])), ('ISLA', ([], [16])), ('AXEL', ([11], [])), ('LUKA', ([10], [])), ('ELIANA', ([], [18])), ('BRYCE', ([11], [])), ('JULIET', ([], [11])), ('CARTER', ([22], [])), ('LUCY', ([], [23])), ('NATALIE', ([], [20])), ('LONDON', ([], [10])), ('PEYTON', ([], [12])), ('ALICE', ([], [19])), ('VICTORIA', ([], [40])), ('MAXWELL', ([35], [])), ('NICOLE', ([], [12])), ('ALEXANDRA', ([], [51])), ('SAMUEL', ([59], [])), ('CHELSEA', ([], [12])), ('THEODORE', ([51], [])), ('SARAH', ([], [29])), ('ELIJAH', ([37], [])), ('MAXIMILIAN', ([17], [])), ('SCARLETT', ([], [34])), ('EMMA', ([], [125])), ('NICHOLAS', ([40], [])), ('AUDREY', ([], [21])), ('PARKER', ([21], [])), ('MADELYN', ([], [11])), ('LANDON', ([11], [])), ('ABIGAIL', ([], [41])), ('RAFAEL', ([13], [])), ('CAMILA', ([], [27])), ('COLIN', ([17], [])), ('HARRISON', ([26], [])), ('LEILA', ([], [12])), ('SEBASTIAN', ([57], [])), ('DEREK', ([10], [])), ('ERIC', ([20], [])), ('CHARLES', ([77], [])), ('IVY', ([], [12])), ('OWEN', ([33], [])), ('ELI', ([33], [])), ('KEVIN', ([25], [])), ('MARK', ([13], [])), ('COOPER', ([15], [])), ('KENNETH', ([12], [])), ('LYLA', ([], [12])), ('HUDSON', ([49], [])), ('RACHEL', ([], [10])), ('JACKSON', ([53], [])), ('MATTEO', ([12], [])), ('CECILIA', ([], [14])), ('ANGEL', ([24], [])), ('LOUIS', ([12], [])), ('JACOB', ([100], [])), ('WYATT', ([21], [])), ('FINN', ([10], [])), ('BENNETT', ([13], [])), ('ASHER', ([25], [])), ('JACK', ([101], [])), ('AMY', ([], [11])), ('LILA', ([], [19])), ('LEO', ([67], [])), ('LENA', ([], [10])), ('IVAN', ([17], [])), ('HANNAH', ([], [44])), ('STELLA', ([], [31])), ('BEATRICE', ([], [11])), ('FELIX', ([11], [])), ('AVA', ([], [72])), ('ASHLEY', ([], [22]))]\n"
     ]
    }
   ],
   "source": [
    "boys = babyrdd.filter(lambda x: x[3] == 'M' and x[2] == 'NEW YORK' and x[0] == '2013').\\\n",
    "        map(lambda x: (x[1], int(x[4]))).\\\n",
    "        reduceByKey(lambda x, y: x + y)\n",
    "girls = babyrdd.filter(lambda x: x[3] == 'F' and x[2] == 'NEW YORK' and x[0] == '2013').\\\n",
    "        map(lambda x: (x[1], int(x[4]))).\\\n",
    "        reduceByKey(lambda x, y: x + y)\n",
    "\n",
    "samename = boys.cogroup(girls).map(lambda x: (x[0], (list(x[1][0]), list(x[1][1]))))\n",
    "print(samename.collect())"
   ]
  },
  {
   "cell_type": "code",
   "execution_count": null,
   "metadata": {
    "collapsed": true
   },
   "outputs": [],
   "source": []
  }
 ],
 "metadata": {
  "kernelspec": {
   "display_name": "Python 3",
   "language": "python",
   "name": "python3"
  },
  "language_info": {
   "codemirror_mode": {
    "name": "ipython",
    "version": 3
   },
   "file_extension": ".py",
   "mimetype": "text/x-python",
   "name": "python",
   "nbconvert_exporter": "python",
   "pygments_lexer": "ipython3",
   "version": "3.5.2"
  }
 },
 "nbformat": 4,
 "nbformat_minor": 0
}
